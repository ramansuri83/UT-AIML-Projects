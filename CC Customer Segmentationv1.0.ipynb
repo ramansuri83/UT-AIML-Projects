{
 "cells": [
  {
   "cell_type": "markdown",
   "metadata": {},
   "source": [
    "# Project 5: AllLife Credit Card Customer Segmentation\n",
    " \n",
    " \n",
    "## Background:\n",
    "\n",
    "AllLife Bank wants to focus on its credit card customer base in the next financial year. They have been advised by their marketing research team, that the penetration in the market can be improved. Based on this input, the Marketing team proposes to run personalised campaigns to target new customers as well as upsell to existing customers. Another insight from the market research was that the customers perceive the support services of the back poorly. Based on this, the Operations team wants to upgrade the service delivery model, to ensure that customers queries are resolved faster. Head of Marketing and Head of Delivery both decide to reach out to the Data Science team for help.\n",
    "\n",
    "## Objective: \n",
    "\n",
    "To identify different segments in the existing customer based on their spending patterns as well as past interaction with the bank.\n",
    "\n",
    "## Key Questions:\n",
    "1. How many different segments of customers are there?\n",
    "2. How are these segments different from each other?\n",
    "3. What are your recommendations to the bank on how to better market to and service these customers?\n",
    "\n",
    "## Data Description:\n",
    "Data is of various customers of a bank with their credit limit, the total number of credit cards the customer has, and different channels through which customer has contacted the bank for any queries, different channels include visiting the bank, online and through a call.\n",
    "\n",
    "    Customer key - Identifier for the customer\n",
    "    Average Credit Limit - Average credit limit across all the credit cards\n",
    "    Total credit cards - Total number of credit cards\n",
    "    Total visits bank - Total number of bank visits\n",
    "    Total visits online - total number of online visits\n",
    "    Total calls made - Total number of calls made by the customer\n",
    "\n",
    "## Steps to follow:\n",
    "1. Perform univariate analysis on the data to better understand the variables at your\n",
    "disposal and to get an idea about the no of clusters. Perform EDA, create\n",
    "visualizations to explore data. (10 marks)\n",
    "2. Properly comment on the codes, provide explanations of the steps taken in the\n",
    "notebook and conclude your insights from the graphs. (5 marks)\n",
    "3. Execute K-means clustering use elbow plot and analyse clusters using boxplot (10\n",
    "marks)\n",
    "4. Execute hierarchical clustering (with different linkages) with the help of dendrogram\n",
    "and cophenetic coeff. Analyse clusters formed using boxplot (15 marks)\n",
    "5. Calculate average silhouette score for both methods. (5 marks)\n",
    "6. Compare K-means clusters with Hierarchical clusters. (5 marks)\n",
    "7. Analysis the clusters formed, tell us how is one cluster different from another and\n",
    "answer all the key questions. (10 marks)"
   ]
  },
  {
   "cell_type": "markdown",
   "metadata": {},
   "source": [
    "# Step 1: Exploratory Data Analysis"
   ]
  },
  {
   "cell_type": "markdown",
   "metadata": {},
   "source": [
    "## Import Libraries and Load Dataset and do basic data checks"
   ]
  },
  {
   "cell_type": "code",
   "execution_count": 1,
   "metadata": {},
   "outputs": [],
   "source": [
    "import warnings\n",
    "warnings.filterwarnings('ignore')"
   ]
  },
  {
   "cell_type": "code",
   "execution_count": 2,
   "metadata": {},
   "outputs": [],
   "source": [
    "#Lets import everything we will need\n",
    "import pandas as pd\n",
    "# importing ploting libraries\n",
    "import matplotlib.pyplot as plt\n",
    "# To enable plotting graphs in Jupyter notebook\n",
    "%matplotlib inline\n",
    "#importing seaborn for statistical plots\n",
    "import seaborn as sns\n",
    "from sklearn.model_selection import train_test_split\n",
    "import numpy as np\n",
    "from scipy import stats\n",
    "from sklearn import metrics"
   ]
  },
  {
   "cell_type": "code",
   "execution_count": 3,
   "metadata": {},
   "outputs": [
    {
     "data": {
      "text/html": [
       "<div>\n",
       "<style scoped>\n",
       "    .dataframe tbody tr th:only-of-type {\n",
       "        vertical-align: middle;\n",
       "    }\n",
       "\n",
       "    .dataframe tbody tr th {\n",
       "        vertical-align: top;\n",
       "    }\n",
       "\n",
       "    .dataframe thead th {\n",
       "        text-align: right;\n",
       "    }\n",
       "</style>\n",
       "<table border=\"1\" class=\"dataframe\">\n",
       "  <thead>\n",
       "    <tr style=\"text-align: right;\">\n",
       "      <th></th>\n",
       "      <th>Sl_No</th>\n",
       "      <th>Customer Key</th>\n",
       "      <th>Avg_Credit_Limit</th>\n",
       "      <th>Total_Credit_Cards</th>\n",
       "      <th>Total_visits_bank</th>\n",
       "      <th>Total_visits_online</th>\n",
       "      <th>Total_calls_made</th>\n",
       "    </tr>\n",
       "  </thead>\n",
       "  <tbody>\n",
       "    <tr>\n",
       "      <th>0</th>\n",
       "      <td>1</td>\n",
       "      <td>87073</td>\n",
       "      <td>100000</td>\n",
       "      <td>2</td>\n",
       "      <td>1</td>\n",
       "      <td>1</td>\n",
       "      <td>0</td>\n",
       "    </tr>\n",
       "    <tr>\n",
       "      <th>1</th>\n",
       "      <td>2</td>\n",
       "      <td>38414</td>\n",
       "      <td>50000</td>\n",
       "      <td>3</td>\n",
       "      <td>0</td>\n",
       "      <td>10</td>\n",
       "      <td>9</td>\n",
       "    </tr>\n",
       "    <tr>\n",
       "      <th>2</th>\n",
       "      <td>3</td>\n",
       "      <td>17341</td>\n",
       "      <td>50000</td>\n",
       "      <td>7</td>\n",
       "      <td>1</td>\n",
       "      <td>3</td>\n",
       "      <td>4</td>\n",
       "    </tr>\n",
       "    <tr>\n",
       "      <th>3</th>\n",
       "      <td>4</td>\n",
       "      <td>40496</td>\n",
       "      <td>30000</td>\n",
       "      <td>5</td>\n",
       "      <td>1</td>\n",
       "      <td>1</td>\n",
       "      <td>4</td>\n",
       "    </tr>\n",
       "    <tr>\n",
       "      <th>4</th>\n",
       "      <td>5</td>\n",
       "      <td>47437</td>\n",
       "      <td>100000</td>\n",
       "      <td>6</td>\n",
       "      <td>0</td>\n",
       "      <td>12</td>\n",
       "      <td>3</td>\n",
       "    </tr>\n",
       "  </tbody>\n",
       "</table>\n",
       "</div>"
      ],
      "text/plain": [
       "   Sl_No  Customer Key  Avg_Credit_Limit  Total_Credit_Cards  \\\n",
       "0      1         87073            100000                   2   \n",
       "1      2         38414             50000                   3   \n",
       "2      3         17341             50000                   7   \n",
       "3      4         40496             30000                   5   \n",
       "4      5         47437            100000                   6   \n",
       "\n",
       "   Total_visits_bank  Total_visits_online  Total_calls_made  \n",
       "0                  1                    1                 0  \n",
       "1                  0                   10                 9  \n",
       "2                  1                    3                 4  \n",
       "3                  1                    1                 4  \n",
       "4                  0                   12                 3  "
      ]
     },
     "execution_count": 3,
     "metadata": {},
     "output_type": "execute_result"
    }
   ],
   "source": [
    "#Lets load the Data csv file and look at the data\n",
    "cc_data = pd.read_csv('Credit Card Customer Datav1.0.csv')\n",
    "cc_data.head()"
   ]
  },
  {
   "cell_type": "code",
   "execution_count": 4,
   "metadata": {},
   "outputs": [
    {
     "name": "stdout",
     "output_type": "stream",
     "text": [
      "<class 'pandas.core.frame.DataFrame'>\n",
      "RangeIndex: 660 entries, 0 to 659\n",
      "Data columns (total 7 columns):\n",
      " #   Column               Non-Null Count  Dtype\n",
      "---  ------               --------------  -----\n",
      " 0   Sl_No                660 non-null    int64\n",
      " 1   Customer Key         660 non-null    int64\n",
      " 2   Avg_Credit_Limit     660 non-null    int64\n",
      " 3   Total_Credit_Cards   660 non-null    int64\n",
      " 4   Total_visits_bank    660 non-null    int64\n",
      " 5   Total_visits_online  660 non-null    int64\n",
      " 6   Total_calls_made     660 non-null    int64\n",
      "dtypes: int64(7)\n",
      "memory usage: 36.2 KB\n",
      "\n",
      "shape: (660, 7)\n",
      "\n",
      "size: 4620\n",
      " \n",
      "show the CC data with boolean: \n",
      "      Sl_No  Customer Key  Avg_Credit_Limit  Total_Credit_Cards  \\\n",
      "0    False         False             False               False   \n",
      "1    False         False             False               False   \n",
      "2    False         False             False               False   \n",
      "3    False         False             False               False   \n",
      "4    False         False             False               False   \n",
      "..     ...           ...               ...                 ...   \n",
      "655  False         False             False               False   \n",
      "656  False         False             False               False   \n",
      "657  False         False             False               False   \n",
      "658  False         False             False               False   \n",
      "659  False         False             False               False   \n",
      "\n",
      "     Total_visits_bank  Total_visits_online  Total_calls_made  \n",
      "0                False                False             False  \n",
      "1                False                False             False  \n",
      "2                False                False             False  \n",
      "3                False                False             False  \n",
      "4                False                False             False  \n",
      "..                 ...                  ...               ...  \n",
      "655              False                False             False  \n",
      "656              False                False             False  \n",
      "657              False                False             False  \n",
      "658              False                False             False  \n",
      "659              False                False             False  \n",
      "\n",
      "[660 rows x 7 columns]\n",
      " \n",
      "Count total missing values at each column in a DataFrame : \n",
      "\n",
      "\n",
      "                     Number of missing values\n",
      "Sl_No                                       0\n",
      "Customer Key                                0\n",
      "Avg_Credit_Limit                            0\n",
      "Total_Credit_Cards                          0\n",
      "Total_visits_bank                           0\n",
      "Total_visits_online                         0\n",
      "Total_calls_made                            0\n"
     ]
    }
   ],
   "source": [
    "#Lets  take a deeper look and draw some insights- info,shape, statistical summary, null check,\n",
    "#incorrect imputation for credit card Data\n",
    "\n",
    "cc_data.info()\n",
    "print('')\n",
    "print ('shape:', cc_data.shape)\n",
    "print('')\n",
    "print('size:', cc_data.size)\n",
    "\n",
    "print(' ')\n",
    "\n",
    "# check if there are any missing values in CC data via boolean\n",
    "print(\"show the CC data with boolean: \\n\", cc_data.isnull())\n",
    "\n",
    "# Count total NaN / missing values at each column for CC data\n",
    "print(\" \\nCount total missing values at each column in a DataFrame : \\n\\n\"), \n",
    "print( pd.DataFrame(cc_data.isnull().sum(), columns = ['Number of missing values']))"
   ]
  },
  {
   "cell_type": "code",
   "execution_count": 5,
   "metadata": {},
   "outputs": [
    {
     "data": {
      "text/html": [
       "<div>\n",
       "<style scoped>\n",
       "    .dataframe tbody tr th:only-of-type {\n",
       "        vertical-align: middle;\n",
       "    }\n",
       "\n",
       "    .dataframe tbody tr th {\n",
       "        vertical-align: top;\n",
       "    }\n",
       "\n",
       "    .dataframe thead th {\n",
       "        text-align: right;\n",
       "    }\n",
       "</style>\n",
       "<table border=\"1\" class=\"dataframe\">\n",
       "  <thead>\n",
       "    <tr style=\"text-align: right;\">\n",
       "      <th></th>\n",
       "      <th>count</th>\n",
       "      <th>mean</th>\n",
       "      <th>std</th>\n",
       "      <th>min</th>\n",
       "      <th>25%</th>\n",
       "      <th>50%</th>\n",
       "      <th>75%</th>\n",
       "      <th>max</th>\n",
       "    </tr>\n",
       "  </thead>\n",
       "  <tbody>\n",
       "    <tr>\n",
       "      <th>Sl_No</th>\n",
       "      <td>660.0</td>\n",
       "      <td>330.500000</td>\n",
       "      <td>190.669872</td>\n",
       "      <td>1.0</td>\n",
       "      <td>165.75</td>\n",
       "      <td>330.5</td>\n",
       "      <td>495.25</td>\n",
       "      <td>660.0</td>\n",
       "    </tr>\n",
       "    <tr>\n",
       "      <th>Customer Key</th>\n",
       "      <td>660.0</td>\n",
       "      <td>55141.443939</td>\n",
       "      <td>25627.772200</td>\n",
       "      <td>11265.0</td>\n",
       "      <td>33825.25</td>\n",
       "      <td>53874.5</td>\n",
       "      <td>77202.50</td>\n",
       "      <td>99843.0</td>\n",
       "    </tr>\n",
       "    <tr>\n",
       "      <th>Avg_Credit_Limit</th>\n",
       "      <td>660.0</td>\n",
       "      <td>34574.242424</td>\n",
       "      <td>37625.487804</td>\n",
       "      <td>3000.0</td>\n",
       "      <td>10000.00</td>\n",
       "      <td>18000.0</td>\n",
       "      <td>48000.00</td>\n",
       "      <td>200000.0</td>\n",
       "    </tr>\n",
       "    <tr>\n",
       "      <th>Total_Credit_Cards</th>\n",
       "      <td>660.0</td>\n",
       "      <td>4.706061</td>\n",
       "      <td>2.167835</td>\n",
       "      <td>1.0</td>\n",
       "      <td>3.00</td>\n",
       "      <td>5.0</td>\n",
       "      <td>6.00</td>\n",
       "      <td>10.0</td>\n",
       "    </tr>\n",
       "    <tr>\n",
       "      <th>Total_visits_bank</th>\n",
       "      <td>660.0</td>\n",
       "      <td>2.403030</td>\n",
       "      <td>1.631813</td>\n",
       "      <td>0.0</td>\n",
       "      <td>1.00</td>\n",
       "      <td>2.0</td>\n",
       "      <td>4.00</td>\n",
       "      <td>5.0</td>\n",
       "    </tr>\n",
       "    <tr>\n",
       "      <th>Total_visits_online</th>\n",
       "      <td>660.0</td>\n",
       "      <td>2.606061</td>\n",
       "      <td>2.935724</td>\n",
       "      <td>0.0</td>\n",
       "      <td>1.00</td>\n",
       "      <td>2.0</td>\n",
       "      <td>4.00</td>\n",
       "      <td>15.0</td>\n",
       "    </tr>\n",
       "    <tr>\n",
       "      <th>Total_calls_made</th>\n",
       "      <td>660.0</td>\n",
       "      <td>3.583333</td>\n",
       "      <td>2.865317</td>\n",
       "      <td>0.0</td>\n",
       "      <td>1.00</td>\n",
       "      <td>3.0</td>\n",
       "      <td>5.00</td>\n",
       "      <td>10.0</td>\n",
       "    </tr>\n",
       "  </tbody>\n",
       "</table>\n",
       "</div>"
      ],
      "text/plain": [
       "                     count          mean           std      min       25%  \\\n",
       "Sl_No                660.0    330.500000    190.669872      1.0    165.75   \n",
       "Customer Key         660.0  55141.443939  25627.772200  11265.0  33825.25   \n",
       "Avg_Credit_Limit     660.0  34574.242424  37625.487804   3000.0  10000.00   \n",
       "Total_Credit_Cards   660.0      4.706061      2.167835      1.0      3.00   \n",
       "Total_visits_bank    660.0      2.403030      1.631813      0.0      1.00   \n",
       "Total_visits_online  660.0      2.606061      2.935724      0.0      1.00   \n",
       "Total_calls_made     660.0      3.583333      2.865317      0.0      1.00   \n",
       "\n",
       "                         50%       75%       max  \n",
       "Sl_No                  330.5    495.25     660.0  \n",
       "Customer Key         53874.5  77202.50   99843.0  \n",
       "Avg_Credit_Limit     18000.0  48000.00  200000.0  \n",
       "Total_Credit_Cards       5.0      6.00      10.0  \n",
       "Total_visits_bank        2.0      4.00       5.0  \n",
       "Total_visits_online      2.0      4.00      15.0  \n",
       "Total_calls_made         3.0      5.00      10.0  "
      ]
     },
     "execution_count": 5,
     "metadata": {},
     "output_type": "execute_result"
    }
   ],
   "source": [
    "#Analysing the distribution of the various continuous attributes like min, max, mean, count, 25th percentile, median, 75th percentile \n",
    "cc_data.describe().transpose()"
   ]
  },
  {
   "cell_type": "markdown",
   "metadata": {},
   "source": [
    "Insights\n",
    "- there are 660 total records with 7 attributes. two of them are identifiers. it seems like smaller set of data with very few variables.\n",
    "- the variables can be broken into two critrions- one on how many cards and credit limit the customer has and the other on how the customer interacts with the bank- physical visit, online or calls.\n",
    "- it will be interesting to see how the clustering algortithms groups these records. i am guessing that the interaction method will have something to do with the grouping\n",
    "- the data will definitely needs to be scaled as the credit limit is at a different magnitude than other variables\n",
    "- There seems to be no null values in the data set\n",
    "- it seems there are two identifiers for the customer- s.no and customer key. i will be interested to see if there are any duplicates"
   ]
  },
  {
   "cell_type": "code",
   "execution_count": 6,
   "metadata": {},
   "outputs": [],
   "source": [
    "#Lets quickly check for any duplicates\n",
    "duplicates = cc_data[cc_data.duplicated('Customer Key')]"
   ]
  },
  {
   "cell_type": "code",
   "execution_count": 7,
   "metadata": {},
   "outputs": [
    {
     "data": {
      "text/html": [
       "<div>\n",
       "<style scoped>\n",
       "    .dataframe tbody tr th:only-of-type {\n",
       "        vertical-align: middle;\n",
       "    }\n",
       "\n",
       "    .dataframe tbody tr th {\n",
       "        vertical-align: top;\n",
       "    }\n",
       "\n",
       "    .dataframe thead th {\n",
       "        text-align: right;\n",
       "    }\n",
       "</style>\n",
       "<table border=\"1\" class=\"dataframe\">\n",
       "  <thead>\n",
       "    <tr style=\"text-align: right;\">\n",
       "      <th></th>\n",
       "      <th>Sl_No</th>\n",
       "      <th>Customer Key</th>\n",
       "      <th>Avg_Credit_Limit</th>\n",
       "      <th>Total_Credit_Cards</th>\n",
       "      <th>Total_visits_bank</th>\n",
       "      <th>Total_visits_online</th>\n",
       "      <th>Total_calls_made</th>\n",
       "    </tr>\n",
       "  </thead>\n",
       "  <tbody>\n",
       "    <tr>\n",
       "      <th>332</th>\n",
       "      <td>333</td>\n",
       "      <td>47437</td>\n",
       "      <td>17000</td>\n",
       "      <td>7</td>\n",
       "      <td>3</td>\n",
       "      <td>1</td>\n",
       "      <td>0</td>\n",
       "    </tr>\n",
       "    <tr>\n",
       "      <th>398</th>\n",
       "      <td>399</td>\n",
       "      <td>96929</td>\n",
       "      <td>67000</td>\n",
       "      <td>6</td>\n",
       "      <td>2</td>\n",
       "      <td>2</td>\n",
       "      <td>2</td>\n",
       "    </tr>\n",
       "    <tr>\n",
       "      <th>432</th>\n",
       "      <td>433</td>\n",
       "      <td>37252</td>\n",
       "      <td>59000</td>\n",
       "      <td>6</td>\n",
       "      <td>2</td>\n",
       "      <td>1</td>\n",
       "      <td>2</td>\n",
       "    </tr>\n",
       "    <tr>\n",
       "      <th>541</th>\n",
       "      <td>542</td>\n",
       "      <td>50706</td>\n",
       "      <td>60000</td>\n",
       "      <td>7</td>\n",
       "      <td>5</td>\n",
       "      <td>2</td>\n",
       "      <td>2</td>\n",
       "    </tr>\n",
       "    <tr>\n",
       "      <th>632</th>\n",
       "      <td>633</td>\n",
       "      <td>97935</td>\n",
       "      <td>187000</td>\n",
       "      <td>7</td>\n",
       "      <td>1</td>\n",
       "      <td>7</td>\n",
       "      <td>0</td>\n",
       "    </tr>\n",
       "  </tbody>\n",
       "</table>\n",
       "</div>"
      ],
      "text/plain": [
       "     Sl_No  Customer Key  Avg_Credit_Limit  Total_Credit_Cards  \\\n",
       "332    333         47437             17000                   7   \n",
       "398    399         96929             67000                   6   \n",
       "432    433         37252             59000                   6   \n",
       "541    542         50706             60000                   7   \n",
       "632    633         97935            187000                   7   \n",
       "\n",
       "     Total_visits_bank  Total_visits_online  Total_calls_made  \n",
       "332                  3                    1                 0  \n",
       "398                  2                    2                 2  \n",
       "432                  2                    1                 2  \n",
       "541                  5                    2                 2  \n",
       "632                  1                    7                 0  "
      ]
     },
     "execution_count": 7,
     "metadata": {},
     "output_type": "execute_result"
    }
   ],
   "source": [
    "duplicates"
   ]
  },
  {
   "cell_type": "markdown",
   "metadata": {},
   "source": [
    "Seems like there are duplicates. lets review and clean it up if needed"
   ]
  },
  {
   "cell_type": "code",
   "execution_count": 8,
   "metadata": {},
   "outputs": [
    {
     "data": {
      "text/html": [
       "<div>\n",
       "<style scoped>\n",
       "    .dataframe tbody tr th:only-of-type {\n",
       "        vertical-align: middle;\n",
       "    }\n",
       "\n",
       "    .dataframe tbody tr th {\n",
       "        vertical-align: top;\n",
       "    }\n",
       "\n",
       "    .dataframe thead th {\n",
       "        text-align: right;\n",
       "    }\n",
       "</style>\n",
       "<table border=\"1\" class=\"dataframe\">\n",
       "  <thead>\n",
       "    <tr style=\"text-align: right;\">\n",
       "      <th></th>\n",
       "      <th>Sl_No</th>\n",
       "      <th>Customer Key</th>\n",
       "      <th>Avg_Credit_Limit</th>\n",
       "      <th>Total_Credit_Cards</th>\n",
       "      <th>Total_visits_bank</th>\n",
       "      <th>Total_visits_online</th>\n",
       "      <th>Total_calls_made</th>\n",
       "    </tr>\n",
       "  </thead>\n",
       "  <tbody>\n",
       "    <tr>\n",
       "      <th>4</th>\n",
       "      <td>5</td>\n",
       "      <td>47437</td>\n",
       "      <td>100000</td>\n",
       "      <td>6</td>\n",
       "      <td>0</td>\n",
       "      <td>12</td>\n",
       "      <td>3</td>\n",
       "    </tr>\n",
       "    <tr>\n",
       "      <th>332</th>\n",
       "      <td>333</td>\n",
       "      <td>47437</td>\n",
       "      <td>17000</td>\n",
       "      <td>7</td>\n",
       "      <td>3</td>\n",
       "      <td>1</td>\n",
       "      <td>0</td>\n",
       "    </tr>\n",
       "  </tbody>\n",
       "</table>\n",
       "</div>"
      ],
      "text/plain": [
       "     Sl_No  Customer Key  Avg_Credit_Limit  Total_Credit_Cards  \\\n",
       "4        5         47437            100000                   6   \n",
       "332    333         47437             17000                   7   \n",
       "\n",
       "     Total_visits_bank  Total_visits_online  Total_calls_made  \n",
       "4                    0                   12                 3  \n",
       "332                  3                    1                 0  "
      ]
     },
     "metadata": {},
     "output_type": "display_data"
    },
    {
     "data": {
      "text/html": [
       "<div>\n",
       "<style scoped>\n",
       "    .dataframe tbody tr th:only-of-type {\n",
       "        vertical-align: middle;\n",
       "    }\n",
       "\n",
       "    .dataframe tbody tr th {\n",
       "        vertical-align: top;\n",
       "    }\n",
       "\n",
       "    .dataframe thead th {\n",
       "        text-align: right;\n",
       "    }\n",
       "</style>\n",
       "<table border=\"1\" class=\"dataframe\">\n",
       "  <thead>\n",
       "    <tr style=\"text-align: right;\">\n",
       "      <th></th>\n",
       "      <th>Sl_No</th>\n",
       "      <th>Customer Key</th>\n",
       "      <th>Avg_Credit_Limit</th>\n",
       "      <th>Total_Credit_Cards</th>\n",
       "      <th>Total_visits_bank</th>\n",
       "      <th>Total_visits_online</th>\n",
       "      <th>Total_calls_made</th>\n",
       "    </tr>\n",
       "  </thead>\n",
       "  <tbody>\n",
       "    <tr>\n",
       "      <th>391</th>\n",
       "      <td>392</td>\n",
       "      <td>96929</td>\n",
       "      <td>13000</td>\n",
       "      <td>4</td>\n",
       "      <td>5</td>\n",
       "      <td>0</td>\n",
       "      <td>0</td>\n",
       "    </tr>\n",
       "    <tr>\n",
       "      <th>398</th>\n",
       "      <td>399</td>\n",
       "      <td>96929</td>\n",
       "      <td>67000</td>\n",
       "      <td>6</td>\n",
       "      <td>2</td>\n",
       "      <td>2</td>\n",
       "      <td>2</td>\n",
       "    </tr>\n",
       "  </tbody>\n",
       "</table>\n",
       "</div>"
      ],
      "text/plain": [
       "     Sl_No  Customer Key  Avg_Credit_Limit  Total_Credit_Cards  \\\n",
       "391    392         96929             13000                   4   \n",
       "398    399         96929             67000                   6   \n",
       "\n",
       "     Total_visits_bank  Total_visits_online  Total_calls_made  \n",
       "391                  5                    0                 0  \n",
       "398                  2                    2                 2  "
      ]
     },
     "metadata": {},
     "output_type": "display_data"
    },
    {
     "data": {
      "text/html": [
       "<div>\n",
       "<style scoped>\n",
       "    .dataframe tbody tr th:only-of-type {\n",
       "        vertical-align: middle;\n",
       "    }\n",
       "\n",
       "    .dataframe tbody tr th {\n",
       "        vertical-align: top;\n",
       "    }\n",
       "\n",
       "    .dataframe thead th {\n",
       "        text-align: right;\n",
       "    }\n",
       "</style>\n",
       "<table border=\"1\" class=\"dataframe\">\n",
       "  <thead>\n",
       "    <tr style=\"text-align: right;\">\n",
       "      <th></th>\n",
       "      <th>Sl_No</th>\n",
       "      <th>Customer Key</th>\n",
       "      <th>Avg_Credit_Limit</th>\n",
       "      <th>Total_Credit_Cards</th>\n",
       "      <th>Total_visits_bank</th>\n",
       "      <th>Total_visits_online</th>\n",
       "      <th>Total_calls_made</th>\n",
       "    </tr>\n",
       "  </thead>\n",
       "  <tbody>\n",
       "    <tr>\n",
       "      <th>48</th>\n",
       "      <td>49</td>\n",
       "      <td>37252</td>\n",
       "      <td>6000</td>\n",
       "      <td>4</td>\n",
       "      <td>0</td>\n",
       "      <td>2</td>\n",
       "      <td>8</td>\n",
       "    </tr>\n",
       "    <tr>\n",
       "      <th>432</th>\n",
       "      <td>433</td>\n",
       "      <td>37252</td>\n",
       "      <td>59000</td>\n",
       "      <td>6</td>\n",
       "      <td>2</td>\n",
       "      <td>1</td>\n",
       "      <td>2</td>\n",
       "    </tr>\n",
       "  </tbody>\n",
       "</table>\n",
       "</div>"
      ],
      "text/plain": [
       "     Sl_No  Customer Key  Avg_Credit_Limit  Total_Credit_Cards  \\\n",
       "48      49         37252              6000                   4   \n",
       "432    433         37252             59000                   6   \n",
       "\n",
       "     Total_visits_bank  Total_visits_online  Total_calls_made  \n",
       "48                   0                    2                 8  \n",
       "432                  2                    1                 2  "
      ]
     },
     "metadata": {},
     "output_type": "display_data"
    },
    {
     "data": {
      "text/html": [
       "<div>\n",
       "<style scoped>\n",
       "    .dataframe tbody tr th:only-of-type {\n",
       "        vertical-align: middle;\n",
       "    }\n",
       "\n",
       "    .dataframe tbody tr th {\n",
       "        vertical-align: top;\n",
       "    }\n",
       "\n",
       "    .dataframe thead th {\n",
       "        text-align: right;\n",
       "    }\n",
       "</style>\n",
       "<table border=\"1\" class=\"dataframe\">\n",
       "  <thead>\n",
       "    <tr style=\"text-align: right;\">\n",
       "      <th></th>\n",
       "      <th>Sl_No</th>\n",
       "      <th>Customer Key</th>\n",
       "      <th>Avg_Credit_Limit</th>\n",
       "      <th>Total_Credit_Cards</th>\n",
       "      <th>Total_visits_bank</th>\n",
       "      <th>Total_visits_online</th>\n",
       "      <th>Total_calls_made</th>\n",
       "    </tr>\n",
       "  </thead>\n",
       "  <tbody>\n",
       "    <tr>\n",
       "      <th>411</th>\n",
       "      <td>412</td>\n",
       "      <td>50706</td>\n",
       "      <td>44000</td>\n",
       "      <td>4</td>\n",
       "      <td>5</td>\n",
       "      <td>0</td>\n",
       "      <td>2</td>\n",
       "    </tr>\n",
       "    <tr>\n",
       "      <th>541</th>\n",
       "      <td>542</td>\n",
       "      <td>50706</td>\n",
       "      <td>60000</td>\n",
       "      <td>7</td>\n",
       "      <td>5</td>\n",
       "      <td>2</td>\n",
       "      <td>2</td>\n",
       "    </tr>\n",
       "  </tbody>\n",
       "</table>\n",
       "</div>"
      ],
      "text/plain": [
       "     Sl_No  Customer Key  Avg_Credit_Limit  Total_Credit_Cards  \\\n",
       "411    412         50706             44000                   4   \n",
       "541    542         50706             60000                   7   \n",
       "\n",
       "     Total_visits_bank  Total_visits_online  Total_calls_made  \n",
       "411                  5                    0                 2  \n",
       "541                  5                    2                 2  "
      ]
     },
     "metadata": {},
     "output_type": "display_data"
    },
    {
     "data": {
      "text/html": [
       "<div>\n",
       "<style scoped>\n",
       "    .dataframe tbody tr th:only-of-type {\n",
       "        vertical-align: middle;\n",
       "    }\n",
       "\n",
       "    .dataframe tbody tr th {\n",
       "        vertical-align: top;\n",
       "    }\n",
       "\n",
       "    .dataframe thead th {\n",
       "        text-align: right;\n",
       "    }\n",
       "</style>\n",
       "<table border=\"1\" class=\"dataframe\">\n",
       "  <thead>\n",
       "    <tr style=\"text-align: right;\">\n",
       "      <th></th>\n",
       "      <th>Sl_No</th>\n",
       "      <th>Customer Key</th>\n",
       "      <th>Avg_Credit_Limit</th>\n",
       "      <th>Total_Credit_Cards</th>\n",
       "      <th>Total_visits_bank</th>\n",
       "      <th>Total_visits_online</th>\n",
       "      <th>Total_calls_made</th>\n",
       "    </tr>\n",
       "  </thead>\n",
       "  <tbody>\n",
       "    <tr>\n",
       "      <th>104</th>\n",
       "      <td>105</td>\n",
       "      <td>97935</td>\n",
       "      <td>17000</td>\n",
       "      <td>2</td>\n",
       "      <td>1</td>\n",
       "      <td>2</td>\n",
       "      <td>10</td>\n",
       "    </tr>\n",
       "    <tr>\n",
       "      <th>632</th>\n",
       "      <td>633</td>\n",
       "      <td>97935</td>\n",
       "      <td>187000</td>\n",
       "      <td>7</td>\n",
       "      <td>1</td>\n",
       "      <td>7</td>\n",
       "      <td>0</td>\n",
       "    </tr>\n",
       "  </tbody>\n",
       "</table>\n",
       "</div>"
      ],
      "text/plain": [
       "     Sl_No  Customer Key  Avg_Credit_Limit  Total_Credit_Cards  \\\n",
       "104    105         97935             17000                   2   \n",
       "632    633         97935            187000                   7   \n",
       "\n",
       "     Total_visits_bank  Total_visits_online  Total_calls_made  \n",
       "104                  1                    2                10  \n",
       "632                  1                    7                 0  "
      ]
     },
     "metadata": {},
     "output_type": "display_data"
    }
   ],
   "source": [
    "#before taking any decision lets copmpare the duplicates\n",
    "for i in duplicates['Customer Key']:\n",
    "    display(cc_data[cc_data['Customer Key'] == i])\n"
   ]
  },
  {
   "cell_type": "markdown",
   "metadata": {},
   "source": [
    "Looking at this data it is safe to say that the some of the old records for the sutomer has not bee cleaned. This means the older or first record needs to be removed and the latest one needs to be kept. we will do that now"
   ]
  },
  {
   "cell_type": "code",
   "execution_count": 9,
   "metadata": {},
   "outputs": [],
   "source": [
    "#Lets clean up\n",
    "\n",
    "cc_data.drop_duplicates(subset=['Customer Key'], keep='last', inplace = True)"
   ]
  },
  {
   "cell_type": "code",
   "execution_count": 10,
   "metadata": {},
   "outputs": [
    {
     "data": {
      "text/html": [
       "<div>\n",
       "<style scoped>\n",
       "    .dataframe tbody tr th:only-of-type {\n",
       "        vertical-align: middle;\n",
       "    }\n",
       "\n",
       "    .dataframe tbody tr th {\n",
       "        vertical-align: top;\n",
       "    }\n",
       "\n",
       "    .dataframe thead th {\n",
       "        text-align: right;\n",
       "    }\n",
       "</style>\n",
       "<table border=\"1\" class=\"dataframe\">\n",
       "  <thead>\n",
       "    <tr style=\"text-align: right;\">\n",
       "      <th></th>\n",
       "      <th>count</th>\n",
       "      <th>mean</th>\n",
       "      <th>std</th>\n",
       "      <th>min</th>\n",
       "      <th>25%</th>\n",
       "      <th>50%</th>\n",
       "      <th>75%</th>\n",
       "      <th>max</th>\n",
       "    </tr>\n",
       "  </thead>\n",
       "  <tbody>\n",
       "    <tr>\n",
       "      <th>Sl_No</th>\n",
       "      <td>655.0</td>\n",
       "      <td>331.552672</td>\n",
       "      <td>190.407385</td>\n",
       "      <td>1.0</td>\n",
       "      <td>167.5</td>\n",
       "      <td>331.0</td>\n",
       "      <td>496.5</td>\n",
       "      <td>660.0</td>\n",
       "    </tr>\n",
       "    <tr>\n",
       "      <th>Customer Key</th>\n",
       "      <td>655.0</td>\n",
       "      <td>55058.158779</td>\n",
       "      <td>25606.965469</td>\n",
       "      <td>11265.0</td>\n",
       "      <td>33623.5</td>\n",
       "      <td>53898.0</td>\n",
       "      <td>77084.5</td>\n",
       "      <td>99843.0</td>\n",
       "    </tr>\n",
       "    <tr>\n",
       "      <th>Avg_Credit_Limit</th>\n",
       "      <td>655.0</td>\n",
       "      <td>34563.358779</td>\n",
       "      <td>37648.200947</td>\n",
       "      <td>3000.0</td>\n",
       "      <td>10000.0</td>\n",
       "      <td>18000.0</td>\n",
       "      <td>48000.0</td>\n",
       "      <td>200000.0</td>\n",
       "    </tr>\n",
       "    <tr>\n",
       "      <th>Total_Credit_Cards</th>\n",
       "      <td>655.0</td>\n",
       "      <td>4.711450</td>\n",
       "      <td>2.172410</td>\n",
       "      <td>1.0</td>\n",
       "      <td>3.0</td>\n",
       "      <td>5.0</td>\n",
       "      <td>6.0</td>\n",
       "      <td>10.0</td>\n",
       "    </tr>\n",
       "    <tr>\n",
       "      <th>Total_visits_bank</th>\n",
       "      <td>655.0</td>\n",
       "      <td>2.404580</td>\n",
       "      <td>1.625385</td>\n",
       "      <td>0.0</td>\n",
       "      <td>1.0</td>\n",
       "      <td>2.0</td>\n",
       "      <td>4.0</td>\n",
       "      <td>5.0</td>\n",
       "    </tr>\n",
       "    <tr>\n",
       "      <th>Total_visits_online</th>\n",
       "      <td>655.0</td>\n",
       "      <td>2.601527</td>\n",
       "      <td>2.920192</td>\n",
       "      <td>0.0</td>\n",
       "      <td>1.0</td>\n",
       "      <td>2.0</td>\n",
       "      <td>4.0</td>\n",
       "      <td>15.0</td>\n",
       "    </tr>\n",
       "    <tr>\n",
       "      <th>Total_calls_made</th>\n",
       "      <td>655.0</td>\n",
       "      <td>3.575573</td>\n",
       "      <td>2.855867</td>\n",
       "      <td>0.0</td>\n",
       "      <td>1.0</td>\n",
       "      <td>3.0</td>\n",
       "      <td>5.0</td>\n",
       "      <td>10.0</td>\n",
       "    </tr>\n",
       "  </tbody>\n",
       "</table>\n",
       "</div>"
      ],
      "text/plain": [
       "                     count          mean           std      min      25%  \\\n",
       "Sl_No                655.0    331.552672    190.407385      1.0    167.5   \n",
       "Customer Key         655.0  55058.158779  25606.965469  11265.0  33623.5   \n",
       "Avg_Credit_Limit     655.0  34563.358779  37648.200947   3000.0  10000.0   \n",
       "Total_Credit_Cards   655.0      4.711450      2.172410      1.0      3.0   \n",
       "Total_visits_bank    655.0      2.404580      1.625385      0.0      1.0   \n",
       "Total_visits_online  655.0      2.601527      2.920192      0.0      1.0   \n",
       "Total_calls_made     655.0      3.575573      2.855867      0.0      1.0   \n",
       "\n",
       "                         50%      75%       max  \n",
       "Sl_No                  331.0    496.5     660.0  \n",
       "Customer Key         53898.0  77084.5   99843.0  \n",
       "Avg_Credit_Limit     18000.0  48000.0  200000.0  \n",
       "Total_Credit_Cards       5.0      6.0      10.0  \n",
       "Total_visits_bank        2.0      4.0       5.0  \n",
       "Total_visits_online      2.0      4.0      15.0  \n",
       "Total_calls_made         3.0      5.0      10.0  "
      ]
     },
     "execution_count": 10,
     "metadata": {},
     "output_type": "execute_result"
    }
   ],
   "source": [
    "#Now that the duplicates are removed, Lets check the data again\n",
    "cc_data.describe().transpose()"
   ]
  },
  {
   "cell_type": "markdown",
   "metadata": {},
   "source": [
    "Not much changed other than the fact we have 5 less records. "
   ]
  },
  {
   "cell_type": "code",
   "execution_count": 11,
   "metadata": {},
   "outputs": [
    {
     "data": {
      "text/plain": [
       "Sl_No                 -0.001643\n",
       "Customer Key           0.048520\n",
       "Avg_Credit_Limit       2.209182\n",
       "Total_Credit_Cards     0.140402\n",
       "Total_visits_bank      0.140206\n",
       "Total_visits_online    2.234473\n",
       "Total_calls_made       0.658983\n",
       "dtype: float64"
      ]
     },
     "execution_count": 11,
     "metadata": {},
     "output_type": "execute_result"
    }
   ],
   "source": [
    "# Lets quickly check the skeness of the data\n",
    "\n",
    "cc_data.skew()"
   ]
  },
  {
   "cell_type": "markdown",
   "metadata": {},
   "source": [
    "there seems to be some skewness in the Average card limit and Total visits online. we should check the plots. but lets scale the data first"
   ]
  },
  {
   "cell_type": "code",
   "execution_count": 12,
   "metadata": {},
   "outputs": [],
   "source": [
    "# Lets scale the data\n",
    "\n",
    "from sklearn.preprocessing import StandardScaler\n",
    "\n",
    "cc_scaledata = cc_data.copy()\n",
    "cc_scaledata [:] = StandardScaler().fit_transform(cc_scaledata)"
   ]
  },
  {
   "cell_type": "code",
   "execution_count": 13,
   "metadata": {},
   "outputs": [
    {
     "data": {
      "text/html": [
       "<div>\n",
       "<style scoped>\n",
       "    .dataframe tbody tr th:only-of-type {\n",
       "        vertical-align: middle;\n",
       "    }\n",
       "\n",
       "    .dataframe tbody tr th {\n",
       "        vertical-align: top;\n",
       "    }\n",
       "\n",
       "    .dataframe thead th {\n",
       "        text-align: right;\n",
       "    }\n",
       "</style>\n",
       "<table border=\"1\" class=\"dataframe\">\n",
       "  <thead>\n",
       "    <tr style=\"text-align: right;\">\n",
       "      <th></th>\n",
       "      <th>Sl_No</th>\n",
       "      <th>Customer Key</th>\n",
       "      <th>Avg_Credit_Limit</th>\n",
       "      <th>Total_Credit_Cards</th>\n",
       "      <th>Total_visits_bank</th>\n",
       "      <th>Total_visits_online</th>\n",
       "      <th>Total_calls_made</th>\n",
       "    </tr>\n",
       "  </thead>\n",
       "  <tbody>\n",
       "    <tr>\n",
       "      <th>0</th>\n",
       "      <td>-1.737355</td>\n",
       "      <td>1.251195</td>\n",
       "      <td>1.739436</td>\n",
       "      <td>-1.249084</td>\n",
       "      <td>-0.864813</td>\n",
       "      <td>-0.548851</td>\n",
       "      <td>-1.252966</td>\n",
       "    </tr>\n",
       "    <tr>\n",
       "      <th>1</th>\n",
       "      <td>-1.732099</td>\n",
       "      <td>-0.650482</td>\n",
       "      <td>0.410337</td>\n",
       "      <td>-0.788414</td>\n",
       "      <td>-1.480522</td>\n",
       "      <td>2.535493</td>\n",
       "      <td>1.900849</td>\n",
       "    </tr>\n",
       "    <tr>\n",
       "      <th>2</th>\n",
       "      <td>-1.726844</td>\n",
       "      <td>-1.474051</td>\n",
       "      <td>0.410337</td>\n",
       "      <td>1.054266</td>\n",
       "      <td>-0.864813</td>\n",
       "      <td>0.136559</td>\n",
       "      <td>0.148730</td>\n",
       "    </tr>\n",
       "    <tr>\n",
       "      <th>3</th>\n",
       "      <td>-1.721588</td>\n",
       "      <td>-0.569114</td>\n",
       "      <td>-0.121303</td>\n",
       "      <td>0.132926</td>\n",
       "      <td>-0.864813</td>\n",
       "      <td>-0.548851</td>\n",
       "      <td>0.148730</td>\n",
       "    </tr>\n",
       "    <tr>\n",
       "      <th>5</th>\n",
       "      <td>-1.711076</td>\n",
       "      <td>0.139750</td>\n",
       "      <td>-0.387123</td>\n",
       "      <td>-0.788414</td>\n",
       "      <td>-1.480522</td>\n",
       "      <td>-0.548851</td>\n",
       "      <td>1.550425</td>\n",
       "    </tr>\n",
       "    <tr>\n",
       "      <th>...</th>\n",
       "      <td>...</td>\n",
       "      <td>...</td>\n",
       "      <td>...</td>\n",
       "      <td>...</td>\n",
       "      <td>...</td>\n",
       "      <td>...</td>\n",
       "      <td>...</td>\n",
       "    </tr>\n",
       "    <tr>\n",
       "      <th>655</th>\n",
       "      <td>1.705266</td>\n",
       "      <td>-0.154379</td>\n",
       "      <td>1.712854</td>\n",
       "      <td>2.436277</td>\n",
       "      <td>-0.864813</td>\n",
       "      <td>2.535493</td>\n",
       "      <td>-1.252966</td>\n",
       "    </tr>\n",
       "    <tr>\n",
       "      <th>656</th>\n",
       "      <td>1.710522</td>\n",
       "      <td>0.221743</td>\n",
       "      <td>1.314124</td>\n",
       "      <td>2.436277</td>\n",
       "      <td>-0.864813</td>\n",
       "      <td>3.563608</td>\n",
       "      <td>-0.552118</td>\n",
       "    </tr>\n",
       "    <tr>\n",
       "      <th>657</th>\n",
       "      <td>1.715778</td>\n",
       "      <td>-0.047842</td>\n",
       "      <td>2.935626</td>\n",
       "      <td>1.514937</td>\n",
       "      <td>-0.864813</td>\n",
       "      <td>2.192789</td>\n",
       "      <td>-0.902542</td>\n",
       "    </tr>\n",
       "    <tr>\n",
       "      <th>658</th>\n",
       "      <td>1.721034</td>\n",
       "      <td>1.000369</td>\n",
       "      <td>3.653340</td>\n",
       "      <td>2.436277</td>\n",
       "      <td>-0.864813</td>\n",
       "      <td>4.249018</td>\n",
       "      <td>-1.252966</td>\n",
       "    </tr>\n",
       "    <tr>\n",
       "      <th>659</th>\n",
       "      <td>1.726290</td>\n",
       "      <td>0.980632</td>\n",
       "      <td>3.520430</td>\n",
       "      <td>1.975607</td>\n",
       "      <td>-1.480522</td>\n",
       "      <td>3.220903</td>\n",
       "      <td>-0.552118</td>\n",
       "    </tr>\n",
       "  </tbody>\n",
       "</table>\n",
       "<p>655 rows × 7 columns</p>\n",
       "</div>"
      ],
      "text/plain": [
       "        Sl_No  Customer Key  Avg_Credit_Limit  Total_Credit_Cards  \\\n",
       "0   -1.737355      1.251195          1.739436           -1.249084   \n",
       "1   -1.732099     -0.650482          0.410337           -0.788414   \n",
       "2   -1.726844     -1.474051          0.410337            1.054266   \n",
       "3   -1.721588     -0.569114         -0.121303            0.132926   \n",
       "5   -1.711076      0.139750         -0.387123           -0.788414   \n",
       "..        ...           ...               ...                 ...   \n",
       "655  1.705266     -0.154379          1.712854            2.436277   \n",
       "656  1.710522      0.221743          1.314124            2.436277   \n",
       "657  1.715778     -0.047842          2.935626            1.514937   \n",
       "658  1.721034      1.000369          3.653340            2.436277   \n",
       "659  1.726290      0.980632          3.520430            1.975607   \n",
       "\n",
       "     Total_visits_bank  Total_visits_online  Total_calls_made  \n",
       "0            -0.864813            -0.548851         -1.252966  \n",
       "1            -1.480522             2.535493          1.900849  \n",
       "2            -0.864813             0.136559          0.148730  \n",
       "3            -0.864813            -0.548851          0.148730  \n",
       "5            -1.480522            -0.548851          1.550425  \n",
       "..                 ...                  ...               ...  \n",
       "655          -0.864813             2.535493         -1.252966  \n",
       "656          -0.864813             3.563608         -0.552118  \n",
       "657          -0.864813             2.192789         -0.902542  \n",
       "658          -0.864813             4.249018         -1.252966  \n",
       "659          -1.480522             3.220903         -0.552118  \n",
       "\n",
       "[655 rows x 7 columns]"
      ]
     },
     "execution_count": 13,
     "metadata": {},
     "output_type": "execute_result"
    }
   ],
   "source": [
    "cc_scaledata"
   ]
  },
  {
   "cell_type": "code",
   "execution_count": 14,
   "metadata": {},
   "outputs": [],
   "source": [
    "#Lets drop the SI_No and Customer Key\n",
    "\n",
    "cc_scaledata.drop(['Sl_No','Customer Key'], axis = 1, inplace = True)"
   ]
  },
  {
   "cell_type": "code",
   "execution_count": 15,
   "metadata": {},
   "outputs": [
    {
     "data": {
      "text/html": [
       "<div>\n",
       "<style scoped>\n",
       "    .dataframe tbody tr th:only-of-type {\n",
       "        vertical-align: middle;\n",
       "    }\n",
       "\n",
       "    .dataframe tbody tr th {\n",
       "        vertical-align: top;\n",
       "    }\n",
       "\n",
       "    .dataframe thead th {\n",
       "        text-align: right;\n",
       "    }\n",
       "</style>\n",
       "<table border=\"1\" class=\"dataframe\">\n",
       "  <thead>\n",
       "    <tr style=\"text-align: right;\">\n",
       "      <th></th>\n",
       "      <th>Avg_Credit_Limit</th>\n",
       "      <th>Total_Credit_Cards</th>\n",
       "      <th>Total_visits_bank</th>\n",
       "      <th>Total_visits_online</th>\n",
       "      <th>Total_calls_made</th>\n",
       "    </tr>\n",
       "  </thead>\n",
       "  <tbody>\n",
       "    <tr>\n",
       "      <th>0</th>\n",
       "      <td>1.739436</td>\n",
       "      <td>-1.249084</td>\n",
       "      <td>-0.864813</td>\n",
       "      <td>-0.548851</td>\n",
       "      <td>-1.252966</td>\n",
       "    </tr>\n",
       "    <tr>\n",
       "      <th>1</th>\n",
       "      <td>0.410337</td>\n",
       "      <td>-0.788414</td>\n",
       "      <td>-1.480522</td>\n",
       "      <td>2.535493</td>\n",
       "      <td>1.900849</td>\n",
       "    </tr>\n",
       "    <tr>\n",
       "      <th>2</th>\n",
       "      <td>0.410337</td>\n",
       "      <td>1.054266</td>\n",
       "      <td>-0.864813</td>\n",
       "      <td>0.136559</td>\n",
       "      <td>0.148730</td>\n",
       "    </tr>\n",
       "    <tr>\n",
       "      <th>3</th>\n",
       "      <td>-0.121303</td>\n",
       "      <td>0.132926</td>\n",
       "      <td>-0.864813</td>\n",
       "      <td>-0.548851</td>\n",
       "      <td>0.148730</td>\n",
       "    </tr>\n",
       "    <tr>\n",
       "      <th>5</th>\n",
       "      <td>-0.387123</td>\n",
       "      <td>-0.788414</td>\n",
       "      <td>-1.480522</td>\n",
       "      <td>-0.548851</td>\n",
       "      <td>1.550425</td>\n",
       "    </tr>\n",
       "    <tr>\n",
       "      <th>...</th>\n",
       "      <td>...</td>\n",
       "      <td>...</td>\n",
       "      <td>...</td>\n",
       "      <td>...</td>\n",
       "      <td>...</td>\n",
       "    </tr>\n",
       "    <tr>\n",
       "      <th>655</th>\n",
       "      <td>1.712854</td>\n",
       "      <td>2.436277</td>\n",
       "      <td>-0.864813</td>\n",
       "      <td>2.535493</td>\n",
       "      <td>-1.252966</td>\n",
       "    </tr>\n",
       "    <tr>\n",
       "      <th>656</th>\n",
       "      <td>1.314124</td>\n",
       "      <td>2.436277</td>\n",
       "      <td>-0.864813</td>\n",
       "      <td>3.563608</td>\n",
       "      <td>-0.552118</td>\n",
       "    </tr>\n",
       "    <tr>\n",
       "      <th>657</th>\n",
       "      <td>2.935626</td>\n",
       "      <td>1.514937</td>\n",
       "      <td>-0.864813</td>\n",
       "      <td>2.192789</td>\n",
       "      <td>-0.902542</td>\n",
       "    </tr>\n",
       "    <tr>\n",
       "      <th>658</th>\n",
       "      <td>3.653340</td>\n",
       "      <td>2.436277</td>\n",
       "      <td>-0.864813</td>\n",
       "      <td>4.249018</td>\n",
       "      <td>-1.252966</td>\n",
       "    </tr>\n",
       "    <tr>\n",
       "      <th>659</th>\n",
       "      <td>3.520430</td>\n",
       "      <td>1.975607</td>\n",
       "      <td>-1.480522</td>\n",
       "      <td>3.220903</td>\n",
       "      <td>-0.552118</td>\n",
       "    </tr>\n",
       "  </tbody>\n",
       "</table>\n",
       "<p>655 rows × 5 columns</p>\n",
       "</div>"
      ],
      "text/plain": [
       "     Avg_Credit_Limit  Total_Credit_Cards  Total_visits_bank  \\\n",
       "0            1.739436           -1.249084          -0.864813   \n",
       "1            0.410337           -0.788414          -1.480522   \n",
       "2            0.410337            1.054266          -0.864813   \n",
       "3           -0.121303            0.132926          -0.864813   \n",
       "5           -0.387123           -0.788414          -1.480522   \n",
       "..                ...                 ...                ...   \n",
       "655          1.712854            2.436277          -0.864813   \n",
       "656          1.314124            2.436277          -0.864813   \n",
       "657          2.935626            1.514937          -0.864813   \n",
       "658          3.653340            2.436277          -0.864813   \n",
       "659          3.520430            1.975607          -1.480522   \n",
       "\n",
       "     Total_visits_online  Total_calls_made  \n",
       "0              -0.548851         -1.252966  \n",
       "1               2.535493          1.900849  \n",
       "2               0.136559          0.148730  \n",
       "3              -0.548851          0.148730  \n",
       "5              -0.548851          1.550425  \n",
       "..                   ...               ...  \n",
       "655             2.535493         -1.252966  \n",
       "656             3.563608         -0.552118  \n",
       "657             2.192789         -0.902542  \n",
       "658             4.249018         -1.252966  \n",
       "659             3.220903         -0.552118  \n",
       "\n",
       "[655 rows x 5 columns]"
      ]
     },
     "execution_count": 15,
     "metadata": {},
     "output_type": "execute_result"
    }
   ],
   "source": [
    "cc_scaledata"
   ]
  },
  {
   "cell_type": "code",
   "execution_count": 16,
   "metadata": {},
   "outputs": [
    {
     "data": {
      "image/png": "[encoded data removed]",
      "text/plain": [
       "<Figure size 1440x288 with 1 Axes>"
      ]
     },
     "metadata": {
      "needs_background": "light"
     },
     "output_type": "display_data"
    },
    {
     "data": {
      "image/png": "[encoded data removed]",
      "text/plain": [
       "<Figure size 1440x288 with 1 Axes>"
      ]
     },
     "metadata": {
      "needs_background": "light"
     },
     "output_type": "display_data"
    },
    {
     "data": {
      "image/png": "[encoded data removed]",
      "text/plain": [
       "<Figure size 1440x288 with 1 Axes>"
      ]
     },
     "metadata": {
      "needs_background": "light"
     },
     "output_type": "display_data"
    },
    {
     "data": {
      "image/png": "[encoded data removed]",
      "text/plain": [
       "<Figure size 1440x288 with 1 Axes>"
      ]
     },
     "metadata": {
      "needs_background": "light"
     },
     "output_type": "display_data"
    },
    {
     "data": {
      "image/png": "[encoded data removed]",
      "text/plain": [
       "<Figure size 1440x288 with 1 Axes>"
      ]
     },
     "metadata": {
      "needs_background": "light"
     },
     "output_type": "display_data"
    }
   ],
   "source": [
    "# distplot for continous columns\n",
    "for i in cc_data[['Avg_Credit_Limit', 'Total_Credit_Cards', 'Total_visits_bank', 'Total_visits_online', 'Total_calls_made']]:\n",
    "    plt.figure(figsize=(20,4))\n",
    "    sns.distplot(cc_scaledata[i], kde = True)\n",
    "    plt.show()"
   ]
  },
  {
   "cell_type": "markdown",
   "metadata": {},
   "source": [
    "We can still see some skewness in the credit card limit and total visits online. buts that ok. this is whole point of clustering as it will build clusters for the different kinds of credit card customers. lets look at the box plot"
   ]
  },
  {
   "cell_type": "code",
   "execution_count": 17,
   "metadata": {},
   "outputs": [
    {
     "data": {
      "image/png": "[encoded data removed]",
      "text/plain": [
       "<Figure size 1080x720 with 1 Axes>"
      ]
     },
     "metadata": {
      "needs_background": "light"
     },
     "output_type": "display_data"
    }
   ],
   "source": [
    "#Lets quickly do some box plots to check the quartiles and the outliers\n",
    "plt.figure(figsize=(15,10))\n",
    "cc_scaledata.boxplot()\n",
    "plt.show()"
   ]
  },
  {
   "cell_type": "markdown",
   "metadata": {},
   "source": [
    "as expected, there are many outliers for Average credit limit and total visits line. I will be very interested to see how the clusters are formed and what impact these outliers have on it."
   ]
  },
  {
   "cell_type": "code",
   "execution_count": 18,
   "metadata": {},
   "outputs": [
    {
     "data": {
      "text/plain": [
       "<matplotlib.axes._subplots.AxesSubplot at 0x1ec845d6280>"
      ]
     },
     "execution_count": 18,
     "metadata": {},
     "output_type": "execute_result"
    },
    {
     "data": {
      "image/png": "[encoded data removed]",
      "text/plain": [
       "<Figure size 1080x720 with 2 Axes>"
      ]
     },
     "metadata": {
      "needs_background": "light"
     },
     "output_type": "display_data"
    }
   ],
   "source": [
    "#Lets do a quick correlation heatmap\n",
    "plt.figure(figsize=(15,10))\n",
    "plt.title(\"Feature Correlation Heatmap\")\n",
    "sns.heatmap(cc_scaledata.corr(), annot = True, cmap=\"YlGnBu\")"
   ]
  },
  {
   "cell_type": "markdown",
   "metadata": {},
   "source": [
    "It does not seems there is much correlation between features."
   ]
  },
  {
   "cell_type": "code",
   "execution_count": 19,
   "metadata": {},
   "outputs": [
    {
     "data": {
      "image/png": "[encoded data removed]",
      "text/plain": [
       "<Figure size 900x900 with 30 Axes>"
      ]
     },
     "metadata": {
      "needs_background": "light"
     },
     "output_type": "display_data"
    }
   ],
   "source": [
    "#Lets do some pairplots\n",
    "sns.pairplot(cc_scaledata[['Avg_Credit_Limit', 'Total_Credit_Cards', 'Total_visits_bank', 'Total_visits_online', 'Total_calls_made']], diag_kind='kde')\n",
    "plt.show()"
   ]
  },
  {
   "cell_type": "markdown",
   "metadata": {},
   "source": [
    "it is not very clear on how many clusters to go with here based on the pairplots. i can see anywhere from 3 to 6 or 7 clusters. but some of them look very small and not sure what will be good number. we will probably have to run some loop code to find the optimal number of clusters for K-Means. we will do that next "
   ]
  },
  {
   "cell_type": "markdown",
   "metadata": {},
   "source": [
    "## K-Means Clustering\n",
    "\n",
    "Now, we will use K-Means clustering to group data based on their attribute. First, we need to determine the optimal number of groups. For that we conduct the knee test to see where the knee happens."
   ]
  },
  {
   "cell_type": "code",
   "execution_count": 20,
   "metadata": {},
   "outputs": [
    {
     "data": {
      "text/plain": [
       "Text(0.5, 1.0, 'Selecting k with the Elbow Method')"
      ]
     },
     "execution_count": 20,
     "metadata": {},
     "output_type": "execute_result"
    },
    {
     "data": {
      "image/png": "[encoded data removed]",
      "text/plain": [
       "<Figure size 432x288 with 1 Axes>"
      ]
     },
     "metadata": {
      "needs_background": "light"
     },
     "output_type": "display_data"
    }
   ],
   "source": [
    "#Finding optimal no. of clusters\n",
    "from sklearn.cluster import KMeans\n",
    "from scipy.spatial.distance import cdist\n",
    "clusters=range(1,10)\n",
    "meanDistortions=[]\n",
    "\n",
    "for k in clusters:\n",
    "    model=KMeans(n_clusters=k)\n",
    "    model.fit(cc_scaledata)\n",
    "    prediction=model.predict(cc_scaledata)\n",
    "    meanDistortions.append(sum(np.min(cdist(cc_scaledata, model.cluster_centers_, 'euclidean'), axis=1)) / cc_scaledata.shape[0])\n",
    "\n",
    "\n",
    "plt.plot(clusters, meanDistortions, 'bx-')\n",
    "plt.xlabel('k')\n",
    "plt.ylabel('Average distortion')\n",
    "plt.title('Selecting k with the Elbow Method')"
   ]
  },
  {
   "cell_type": "markdown",
   "metadata": {},
   "source": [
    "it seems there is a clear bend at the k = 3. lets try to work with that. I will also check with k =4 and we can check the silhouette score for both of them"
   ]
  },
  {
   "cell_type": "code",
   "execution_count": 21,
   "metadata": {},
   "outputs": [
    {
     "name": "stdout",
     "output_type": "stream",
     "text": [
      "Groups Assigned : \n",
      "\n"
     ]
    },
    {
     "data": {
      "text/html": [
       "<div>\n",
       "<style scoped>\n",
       "    .dataframe tbody tr th:only-of-type {\n",
       "        vertical-align: middle;\n",
       "    }\n",
       "\n",
       "    .dataframe tbody tr th {\n",
       "        vertical-align: top;\n",
       "    }\n",
       "\n",
       "    .dataframe thead th {\n",
       "        text-align: right;\n",
       "    }\n",
       "</style>\n",
       "<table border=\"1\" class=\"dataframe\">\n",
       "  <thead>\n",
       "    <tr style=\"text-align: right;\">\n",
       "      <th></th>\n",
       "      <th>Sl_No</th>\n",
       "      <th>Customer Key</th>\n",
       "      <th>Avg_Credit_Limit</th>\n",
       "      <th>Total_Credit_Cards</th>\n",
       "      <th>Total_visits_bank</th>\n",
       "      <th>Total_visits_online</th>\n",
       "      <th>Total_calls_made</th>\n",
       "      <th>Group_K3</th>\n",
       "    </tr>\n",
       "  </thead>\n",
       "  <tbody>\n",
       "    <tr>\n",
       "      <th>0</th>\n",
       "      <td>1</td>\n",
       "      <td>87073</td>\n",
       "      <td>100000</td>\n",
       "      <td>2</td>\n",
       "      <td>1</td>\n",
       "      <td>1</td>\n",
       "      <td>0</td>\n",
       "      <td>1</td>\n",
       "    </tr>\n",
       "    <tr>\n",
       "      <th>1</th>\n",
       "      <td>2</td>\n",
       "      <td>38414</td>\n",
       "      <td>50000</td>\n",
       "      <td>3</td>\n",
       "      <td>0</td>\n",
       "      <td>10</td>\n",
       "      <td>9</td>\n",
       "      <td>0</td>\n",
       "    </tr>\n",
       "    <tr>\n",
       "      <th>2</th>\n",
       "      <td>3</td>\n",
       "      <td>17341</td>\n",
       "      <td>50000</td>\n",
       "      <td>7</td>\n",
       "      <td>1</td>\n",
       "      <td>3</td>\n",
       "      <td>4</td>\n",
       "      <td>1</td>\n",
       "    </tr>\n",
       "    <tr>\n",
       "      <th>3</th>\n",
       "      <td>4</td>\n",
       "      <td>40496</td>\n",
       "      <td>30000</td>\n",
       "      <td>5</td>\n",
       "      <td>1</td>\n",
       "      <td>1</td>\n",
       "      <td>4</td>\n",
       "      <td>1</td>\n",
       "    </tr>\n",
       "    <tr>\n",
       "      <th>5</th>\n",
       "      <td>6</td>\n",
       "      <td>58634</td>\n",
       "      <td>20000</td>\n",
       "      <td>3</td>\n",
       "      <td>0</td>\n",
       "      <td>1</td>\n",
       "      <td>8</td>\n",
       "      <td>0</td>\n",
       "    </tr>\n",
       "  </tbody>\n",
       "</table>\n",
       "</div>"
      ],
      "text/plain": [
       "   Sl_No  Customer Key  Avg_Credit_Limit  Total_Credit_Cards  \\\n",
       "0      1         87073            100000                   2   \n",
       "1      2         38414             50000                   3   \n",
       "2      3         17341             50000                   7   \n",
       "3      4         40496             30000                   5   \n",
       "5      6         58634             20000                   3   \n",
       "\n",
       "   Total_visits_bank  Total_visits_online  Total_calls_made  Group_K3  \n",
       "0                  1                    1                 0         1  \n",
       "1                  0                   10                 9         0  \n",
       "2                  1                    3                 4         1  \n",
       "3                  1                    1                 4         1  \n",
       "5                  0                    1                 8         0  "
      ]
     },
     "execution_count": 21,
     "metadata": {},
     "output_type": "execute_result"
    }
   ],
   "source": [
    "# Let us first model with start with K = 3\n",
    "\n",
    "from sklearn.metrics import silhouette_score\n",
    "cc_model=KMeans(3)\n",
    "cc_model.fit(cc_scaledata)\n",
    "prediction=cc_model.predict(cc_scaledata)\n",
    "\n",
    "#Append the prediction \n",
    "cc_data[\"Group_K3\"] = prediction\n",
    "print(\"Groups Assigned : \\n\")\n",
    "cc_data.head()"
   ]
  },
  {
   "cell_type": "code",
   "execution_count": 22,
   "metadata": {},
   "outputs": [
    {
     "data": {
      "text/html": [
       "<div>\n",
       "<style scoped>\n",
       "    .dataframe tbody tr th:only-of-type {\n",
       "        vertical-align: middle;\n",
       "    }\n",
       "\n",
       "    .dataframe tbody tr th {\n",
       "        vertical-align: top;\n",
       "    }\n",
       "\n",
       "    .dataframe thead th {\n",
       "        text-align: right;\n",
       "    }\n",
       "</style>\n",
       "<table border=\"1\" class=\"dataframe\">\n",
       "  <thead>\n",
       "    <tr style=\"text-align: right;\">\n",
       "      <th></th>\n",
       "      <th>Sl_No</th>\n",
       "      <th>Customer Key</th>\n",
       "      <th>Avg_Credit_Limit</th>\n",
       "      <th>Total_Credit_Cards</th>\n",
       "      <th>Total_visits_bank</th>\n",
       "      <th>Total_visits_online</th>\n",
       "      <th>Total_calls_made</th>\n",
       "    </tr>\n",
       "    <tr>\n",
       "      <th>Group_K3</th>\n",
       "      <th></th>\n",
       "      <th></th>\n",
       "      <th></th>\n",
       "      <th></th>\n",
       "      <th></th>\n",
       "      <th></th>\n",
       "      <th></th>\n",
       "    </tr>\n",
       "  </thead>\n",
       "  <tbody>\n",
       "    <tr>\n",
       "      <th>0</th>\n",
       "      <td>222</td>\n",
       "      <td>222</td>\n",
       "      <td>222</td>\n",
       "      <td>222</td>\n",
       "      <td>222</td>\n",
       "      <td>222</td>\n",
       "      <td>222</td>\n",
       "    </tr>\n",
       "    <tr>\n",
       "      <th>1</th>\n",
       "      <td>384</td>\n",
       "      <td>384</td>\n",
       "      <td>384</td>\n",
       "      <td>384</td>\n",
       "      <td>384</td>\n",
       "      <td>384</td>\n",
       "      <td>384</td>\n",
       "    </tr>\n",
       "    <tr>\n",
       "      <th>2</th>\n",
       "      <td>49</td>\n",
       "      <td>49</td>\n",
       "      <td>49</td>\n",
       "      <td>49</td>\n",
       "      <td>49</td>\n",
       "      <td>49</td>\n",
       "      <td>49</td>\n",
       "    </tr>\n",
       "  </tbody>\n",
       "</table>\n",
       "</div>"
      ],
      "text/plain": [
       "          Sl_No  Customer Key  Avg_Credit_Limit  Total_Credit_Cards  \\\n",
       "Group_K3                                                              \n",
       "0           222           222               222                 222   \n",
       "1           384           384               384                 384   \n",
       "2            49            49                49                  49   \n",
       "\n",
       "          Total_visits_bank  Total_visits_online  Total_calls_made  \n",
       "Group_K3                                                            \n",
       "0                       222                  222               222  \n",
       "1                       384                  384               384  \n",
       "2                        49                   49                49  "
      ]
     },
     "execution_count": 22,
     "metadata": {},
     "output_type": "execute_result"
    }
   ],
   "source": [
    "cc_data.groupby('Group_K3').count()"
   ]
  },
  {
   "cell_type": "code",
   "execution_count": 23,
   "metadata": {},
   "outputs": [
    {
     "data": {
      "text/html": [
       "<div>\n",
       "<style scoped>\n",
       "    .dataframe tbody tr th:only-of-type {\n",
       "        vertical-align: middle;\n",
       "    }\n",
       "\n",
       "    .dataframe tbody tr th {\n",
       "        vertical-align: top;\n",
       "    }\n",
       "\n",
       "    .dataframe thead th {\n",
       "        text-align: right;\n",
       "    }\n",
       "</style>\n",
       "<table border=\"1\" class=\"dataframe\">\n",
       "  <thead>\n",
       "    <tr style=\"text-align: right;\">\n",
       "      <th></th>\n",
       "      <th>Sl_No</th>\n",
       "      <th>Customer Key</th>\n",
       "      <th>Avg_Credit_Limit</th>\n",
       "      <th>Total_Credit_Cards</th>\n",
       "      <th>Total_visits_bank</th>\n",
       "      <th>Total_visits_online</th>\n",
       "      <th>Total_calls_made</th>\n",
       "    </tr>\n",
       "    <tr>\n",
       "      <th>Group_K3</th>\n",
       "      <th></th>\n",
       "      <th></th>\n",
       "      <th></th>\n",
       "      <th></th>\n",
       "      <th></th>\n",
       "      <th></th>\n",
       "      <th></th>\n",
       "    </tr>\n",
       "  </thead>\n",
       "  <tbody>\n",
       "    <tr>\n",
       "      <th>0</th>\n",
       "      <td>118.225225</td>\n",
       "      <td>55128.536036</td>\n",
       "      <td>12180.180180</td>\n",
       "      <td>2.405405</td>\n",
       "      <td>0.936937</td>\n",
       "      <td>3.567568</td>\n",
       "      <td>6.851351</td>\n",
       "    </tr>\n",
       "    <tr>\n",
       "      <th>1</th>\n",
       "      <td>417.609375</td>\n",
       "      <td>54782.703125</td>\n",
       "      <td>33809.895833</td>\n",
       "      <td>5.523438</td>\n",
       "      <td>3.481771</td>\n",
       "      <td>0.986979</td>\n",
       "      <td>2.005208</td>\n",
       "    </tr>\n",
       "    <tr>\n",
       "      <th>2</th>\n",
       "      <td>623.653061</td>\n",
       "      <td>56897.979592</td>\n",
       "      <td>141877.551020</td>\n",
       "      <td>8.795918</td>\n",
       "      <td>0.612245</td>\n",
       "      <td>10.877551</td>\n",
       "      <td>1.040816</td>\n",
       "    </tr>\n",
       "  </tbody>\n",
       "</table>\n",
       "</div>"
      ],
      "text/plain": [
       "               Sl_No  Customer Key  Avg_Credit_Limit  Total_Credit_Cards  \\\n",
       "Group_K3                                                                   \n",
       "0         118.225225  55128.536036      12180.180180            2.405405   \n",
       "1         417.609375  54782.703125      33809.895833            5.523438   \n",
       "2         623.653061  56897.979592     141877.551020            8.795918   \n",
       "\n",
       "          Total_visits_bank  Total_visits_online  Total_calls_made  \n",
       "Group_K3                                                            \n",
       "0                  0.936937             3.567568          6.851351  \n",
       "1                  3.481771             0.986979          2.005208  \n",
       "2                  0.612245            10.877551          1.040816  "
      ]
     },
     "execution_count": 23,
     "metadata": {},
     "output_type": "execute_result"
    }
   ],
   "source": [
    "cc_data.groupby('Group_K3').mean()"
   ]
  },
  {
   "cell_type": "markdown",
   "metadata": {},
   "source": [
    "with three clusters two of the clusters hold 90+% of the data. that being said, i feel the last cluster (Group 2) is important as it holds the customers with high limits and high number of cards. and also have high online visits. although this number is small. it seems like a very important group of people from a marketing perspective. lets check the silhuoette score"
   ]
  },
  {
   "cell_type": "code",
   "execution_count": 24,
   "metadata": {},
   "outputs": [
    {
     "data": {
      "text/plain": [
       "0.5156757893111308"
      ]
     },
     "execution_count": 24,
     "metadata": {},
     "output_type": "execute_result"
    }
   ],
   "source": [
    "#Lets check the silhoette score for K = 3\n",
    "labels = cc_model.labels_\n",
    "score = silhouette_score(cc_scaledata, labels, metric='euclidean')\n",
    "score"
   ]
  },
  {
   "cell_type": "markdown",
   "metadata": {},
   "source": [
    "The Silhuoette score is not the best but i am not sure if we can do any better"
   ]
  },
  {
   "cell_type": "code",
   "execution_count": 25,
   "metadata": {},
   "outputs": [],
   "source": [
    "#Lets build a results table to hold the scores for all methods\n",
    "method = []\n",
    "sil_score=[]"
   ]
  },
  {
   "cell_type": "code",
   "execution_count": 26,
   "metadata": {},
   "outputs": [],
   "source": [
    "method.append('Kmeans K3')\n",
    "sil_score.append(score)"
   ]
  },
  {
   "cell_type": "code",
   "execution_count": 27,
   "metadata": {},
   "outputs": [],
   "source": [
    "#Since the Silhouette score is low, lets try kmeans with K = 4"
   ]
  },
  {
   "cell_type": "code",
   "execution_count": 28,
   "metadata": {},
   "outputs": [
    {
     "name": "stdout",
     "output_type": "stream",
     "text": [
      "Groups Assigned : \n",
      "\n"
     ]
    },
    {
     "data": {
      "text/html": [
       "<div>\n",
       "<style scoped>\n",
       "    .dataframe tbody tr th:only-of-type {\n",
       "        vertical-align: middle;\n",
       "    }\n",
       "\n",
       "    .dataframe tbody tr th {\n",
       "        vertical-align: top;\n",
       "    }\n",
       "\n",
       "    .dataframe thead th {\n",
       "        text-align: right;\n",
       "    }\n",
       "</style>\n",
       "<table border=\"1\" class=\"dataframe\">\n",
       "  <thead>\n",
       "    <tr style=\"text-align: right;\">\n",
       "      <th></th>\n",
       "      <th>Sl_No</th>\n",
       "      <th>Customer Key</th>\n",
       "      <th>Avg_Credit_Limit</th>\n",
       "      <th>Total_Credit_Cards</th>\n",
       "      <th>Total_visits_bank</th>\n",
       "      <th>Total_visits_online</th>\n",
       "      <th>Total_calls_made</th>\n",
       "      <th>Group_K3</th>\n",
       "      <th>Group_K4</th>\n",
       "    </tr>\n",
       "  </thead>\n",
       "  <tbody>\n",
       "    <tr>\n",
       "      <th>0</th>\n",
       "      <td>1</td>\n",
       "      <td>87073</td>\n",
       "      <td>100000</td>\n",
       "      <td>2</td>\n",
       "      <td>1</td>\n",
       "      <td>1</td>\n",
       "      <td>0</td>\n",
       "      <td>1</td>\n",
       "      <td>3</td>\n",
       "    </tr>\n",
       "    <tr>\n",
       "      <th>1</th>\n",
       "      <td>2</td>\n",
       "      <td>38414</td>\n",
       "      <td>50000</td>\n",
       "      <td>3</td>\n",
       "      <td>0</td>\n",
       "      <td>10</td>\n",
       "      <td>9</td>\n",
       "      <td>0</td>\n",
       "      <td>1</td>\n",
       "    </tr>\n",
       "    <tr>\n",
       "      <th>2</th>\n",
       "      <td>3</td>\n",
       "      <td>17341</td>\n",
       "      <td>50000</td>\n",
       "      <td>7</td>\n",
       "      <td>1</td>\n",
       "      <td>3</td>\n",
       "      <td>4</td>\n",
       "      <td>1</td>\n",
       "      <td>3</td>\n",
       "    </tr>\n",
       "    <tr>\n",
       "      <th>3</th>\n",
       "      <td>4</td>\n",
       "      <td>40496</td>\n",
       "      <td>30000</td>\n",
       "      <td>5</td>\n",
       "      <td>1</td>\n",
       "      <td>1</td>\n",
       "      <td>4</td>\n",
       "      <td>1</td>\n",
       "      <td>3</td>\n",
       "    </tr>\n",
       "    <tr>\n",
       "      <th>5</th>\n",
       "      <td>6</td>\n",
       "      <td>58634</td>\n",
       "      <td>20000</td>\n",
       "      <td>3</td>\n",
       "      <td>0</td>\n",
       "      <td>1</td>\n",
       "      <td>8</td>\n",
       "      <td>0</td>\n",
       "      <td>1</td>\n",
       "    </tr>\n",
       "  </tbody>\n",
       "</table>\n",
       "</div>"
      ],
      "text/plain": [
       "   Sl_No  Customer Key  Avg_Credit_Limit  Total_Credit_Cards  \\\n",
       "0      1         87073            100000                   2   \n",
       "1      2         38414             50000                   3   \n",
       "2      3         17341             50000                   7   \n",
       "3      4         40496             30000                   5   \n",
       "5      6         58634             20000                   3   \n",
       "\n",
       "   Total_visits_bank  Total_visits_online  Total_calls_made  Group_K3  \\\n",
       "0                  1                    1                 0         1   \n",
       "1                  0                   10                 9         0   \n",
       "2                  1                    3                 4         1   \n",
       "3                  1                    1                 4         1   \n",
       "5                  0                    1                 8         0   \n",
       "\n",
       "   Group_K4  \n",
       "0         3  \n",
       "1         1  \n",
       "2         3  \n",
       "3         3  \n",
       "5         1  "
      ]
     },
     "execution_count": 28,
     "metadata": {},
     "output_type": "execute_result"
    }
   ],
   "source": [
    "cc_model=KMeans(4)\n",
    "cc_model.fit(cc_scaledata)\n",
    "prediction_k4=cc_model.predict(cc_scaledata)\n",
    "\n",
    "#Append the prediction \n",
    "cc_data[\"Group_K4\"] = prediction_k4\n",
    "print(\"Groups Assigned : \\n\")\n",
    "cc_data.head()"
   ]
  },
  {
   "cell_type": "code",
   "execution_count": 29,
   "metadata": {},
   "outputs": [
    {
     "data": {
      "text/html": [
       "<div>\n",
       "<style scoped>\n",
       "    .dataframe tbody tr th:only-of-type {\n",
       "        vertical-align: middle;\n",
       "    }\n",
       "\n",
       "    .dataframe tbody tr th {\n",
       "        vertical-align: top;\n",
       "    }\n",
       "\n",
       "    .dataframe thead th {\n",
       "        text-align: right;\n",
       "    }\n",
       "</style>\n",
       "<table border=\"1\" class=\"dataframe\">\n",
       "  <thead>\n",
       "    <tr style=\"text-align: right;\">\n",
       "      <th></th>\n",
       "      <th>Sl_No</th>\n",
       "      <th>Customer Key</th>\n",
       "      <th>Avg_Credit_Limit</th>\n",
       "      <th>Total_Credit_Cards</th>\n",
       "      <th>Total_visits_bank</th>\n",
       "      <th>Total_visits_online</th>\n",
       "      <th>Total_calls_made</th>\n",
       "      <th>Group_K3</th>\n",
       "    </tr>\n",
       "    <tr>\n",
       "      <th>Group_K4</th>\n",
       "      <th></th>\n",
       "      <th></th>\n",
       "      <th></th>\n",
       "      <th></th>\n",
       "      <th></th>\n",
       "      <th></th>\n",
       "      <th></th>\n",
       "      <th></th>\n",
       "    </tr>\n",
       "  </thead>\n",
       "  <tbody>\n",
       "    <tr>\n",
       "      <th>0</th>\n",
       "      <td>188</td>\n",
       "      <td>188</td>\n",
       "      <td>188</td>\n",
       "      <td>188</td>\n",
       "      <td>188</td>\n",
       "      <td>188</td>\n",
       "      <td>188</td>\n",
       "      <td>188</td>\n",
       "    </tr>\n",
       "    <tr>\n",
       "      <th>1</th>\n",
       "      <td>219</td>\n",
       "      <td>219</td>\n",
       "      <td>219</td>\n",
       "      <td>219</td>\n",
       "      <td>219</td>\n",
       "      <td>219</td>\n",
       "      <td>219</td>\n",
       "      <td>219</td>\n",
       "    </tr>\n",
       "    <tr>\n",
       "      <th>2</th>\n",
       "      <td>49</td>\n",
       "      <td>49</td>\n",
       "      <td>49</td>\n",
       "      <td>49</td>\n",
       "      <td>49</td>\n",
       "      <td>49</td>\n",
       "      <td>49</td>\n",
       "      <td>49</td>\n",
       "    </tr>\n",
       "    <tr>\n",
       "      <th>3</th>\n",
       "      <td>199</td>\n",
       "      <td>199</td>\n",
       "      <td>199</td>\n",
       "      <td>199</td>\n",
       "      <td>199</td>\n",
       "      <td>199</td>\n",
       "      <td>199</td>\n",
       "      <td>199</td>\n",
       "    </tr>\n",
       "  </tbody>\n",
       "</table>\n",
       "</div>"
      ],
      "text/plain": [
       "          Sl_No  Customer Key  Avg_Credit_Limit  Total_Credit_Cards  \\\n",
       "Group_K4                                                              \n",
       "0           188           188               188                 188   \n",
       "1           219           219               219                 219   \n",
       "2            49            49                49                  49   \n",
       "3           199           199               199                 199   \n",
       "\n",
       "          Total_visits_bank  Total_visits_online  Total_calls_made  Group_K3  \n",
       "Group_K4                                                                      \n",
       "0                       188                  188               188       188  \n",
       "1                       219                  219               219       219  \n",
       "2                        49                   49                49        49  \n",
       "3                       199                  199               199       199  "
      ]
     },
     "execution_count": 29,
     "metadata": {},
     "output_type": "execute_result"
    }
   ],
   "source": [
    "cc_data.groupby('Group_K4').count()"
   ]
  },
  {
   "cell_type": "code",
   "execution_count": 30,
   "metadata": {},
   "outputs": [
    {
     "data": {
      "text/html": [
       "<div>\n",
       "<style scoped>\n",
       "    .dataframe tbody tr th:only-of-type {\n",
       "        vertical-align: middle;\n",
       "    }\n",
       "\n",
       "    .dataframe tbody tr th {\n",
       "        vertical-align: top;\n",
       "    }\n",
       "\n",
       "    .dataframe thead th {\n",
       "        text-align: right;\n",
       "    }\n",
       "</style>\n",
       "<table border=\"1\" class=\"dataframe\">\n",
       "  <thead>\n",
       "    <tr style=\"text-align: right;\">\n",
       "      <th></th>\n",
       "      <th>Sl_No</th>\n",
       "      <th>Customer Key</th>\n",
       "      <th>Avg_Credit_Limit</th>\n",
       "      <th>Total_Credit_Cards</th>\n",
       "      <th>Total_visits_bank</th>\n",
       "      <th>Total_visits_online</th>\n",
       "      <th>Total_calls_made</th>\n",
       "      <th>Group_K3</th>\n",
       "    </tr>\n",
       "    <tr>\n",
       "      <th>Group_K4</th>\n",
       "      <th></th>\n",
       "      <th></th>\n",
       "      <th></th>\n",
       "      <th></th>\n",
       "      <th></th>\n",
       "      <th></th>\n",
       "      <th></th>\n",
       "      <th></th>\n",
       "    </tr>\n",
       "  </thead>\n",
       "  <tbody>\n",
       "    <tr>\n",
       "      <th>0</th>\n",
       "      <td>415.505319</td>\n",
       "      <td>55522.101064</td>\n",
       "      <td>31255.319149</td>\n",
       "      <td>5.494681</td>\n",
       "      <td>4.510638</td>\n",
       "      <td>1.021277</td>\n",
       "      <td>1.946809</td>\n",
       "      <td>1.000000</td>\n",
       "    </tr>\n",
       "    <tr>\n",
       "      <th>1</th>\n",
       "      <td>118.178082</td>\n",
       "      <td>55144.474886</td>\n",
       "      <td>12173.515982</td>\n",
       "      <td>2.388128</td>\n",
       "      <td>0.931507</td>\n",
       "      <td>3.589041</td>\n",
       "      <td>6.904110</td>\n",
       "      <td>0.000000</td>\n",
       "    </tr>\n",
       "    <tr>\n",
       "      <th>2</th>\n",
       "      <td>623.653061</td>\n",
       "      <td>56897.979592</td>\n",
       "      <td>141877.551020</td>\n",
       "      <td>8.795918</td>\n",
       "      <td>0.612245</td>\n",
       "      <td>10.877551</td>\n",
       "      <td>1.040816</td>\n",
       "      <td>2.000000</td>\n",
       "    </tr>\n",
       "    <tr>\n",
       "      <th>3</th>\n",
       "      <td>415.135678</td>\n",
       "      <td>54071.849246</td>\n",
       "      <td>35904.522613</td>\n",
       "      <td>5.522613</td>\n",
       "      <td>2.477387</td>\n",
       "      <td>0.969849</td>\n",
       "      <td>2.075377</td>\n",
       "      <td>0.984925</td>\n",
       "    </tr>\n",
       "  </tbody>\n",
       "</table>\n",
       "</div>"
      ],
      "text/plain": [
       "               Sl_No  Customer Key  Avg_Credit_Limit  Total_Credit_Cards  \\\n",
       "Group_K4                                                                   \n",
       "0         415.505319  55522.101064      31255.319149            5.494681   \n",
       "1         118.178082  55144.474886      12173.515982            2.388128   \n",
       "2         623.653061  56897.979592     141877.551020            8.795918   \n",
       "3         415.135678  54071.849246      35904.522613            5.522613   \n",
       "\n",
       "          Total_visits_bank  Total_visits_online  Total_calls_made  Group_K3  \n",
       "Group_K4                                                                      \n",
       "0                  4.510638             1.021277          1.946809  1.000000  \n",
       "1                  0.931507             3.589041          6.904110  0.000000  \n",
       "2                  0.612245            10.877551          1.040816  2.000000  \n",
       "3                  2.477387             0.969849          2.075377  0.984925  "
      ]
     },
     "execution_count": 30,
     "metadata": {},
     "output_type": "execute_result"
    }
   ],
   "source": [
    "cc_data.groupby('Group_K4').mean()"
   ]
  },
  {
   "cell_type": "markdown",
   "metadata": {},
   "source": [
    "i dont think 4 clusters help. i can clearly see thet group 0 and group 3 are very similar to each other. the score is probably lover"
   ]
  },
  {
   "cell_type": "code",
   "execution_count": 31,
   "metadata": {},
   "outputs": [
    {
     "data": {
      "text/plain": [
       "0.35543523967554014"
      ]
     },
     "execution_count": 31,
     "metadata": {},
     "output_type": "execute_result"
    }
   ],
   "source": [
    "#Lets check the silhouette score\n",
    "labels = cc_model.labels_\n",
    "score = silhouette_score(cc_scaledata, labels, metric='euclidean')\n",
    "score"
   ]
  },
  {
   "cell_type": "code",
   "execution_count": 32,
   "metadata": {},
   "outputs": [],
   "source": [
    "method.append('Kmeans K4')\n",
    "sil_score.append(score)"
   ]
  },
  {
   "cell_type": "code",
   "execution_count": 33,
   "metadata": {},
   "outputs": [
    {
     "data": {
      "text/plain": [
       "KMeans(n_clusters=2)"
      ]
     },
     "execution_count": 33,
     "metadata": {},
     "output_type": "execute_result"
    }
   ],
   "source": [
    "#i am going to perform Kmeans for K = 2 as well. not excpecting any better results\n",
    "cc_model=KMeans(2)\n",
    "cc_model.fit(cc_scaledata)"
   ]
  },
  {
   "cell_type": "code",
   "execution_count": 34,
   "metadata": {},
   "outputs": [
    {
     "data": {
      "text/plain": [
       "0.4191048769542048"
      ]
     },
     "execution_count": 34,
     "metadata": {},
     "output_type": "execute_result"
    }
   ],
   "source": [
    "labels = cc_model.labels_\n",
    "score = silhouette_score(cc_scaledata, labels, metric='euclidean')\n",
    "score"
   ]
  },
  {
   "cell_type": "code",
   "execution_count": 35,
   "metadata": {},
   "outputs": [],
   "source": [
    "method.append('Kmeans K2')\n",
    "sil_score.append(score)"
   ]
  },
  {
   "cell_type": "code",
   "execution_count": 36,
   "metadata": {},
   "outputs": [],
   "source": [
    "#clearly out of all the Ks, The K=3 has a much better score. Lets move forward with this result and predictions."
   ]
  },
  {
   "cell_type": "code",
   "execution_count": 37,
   "metadata": {},
   "outputs": [],
   "source": [
    "cc_scaledata[\"GROUP\"] = prediction"
   ]
  },
  {
   "cell_type": "code",
   "execution_count": 38,
   "metadata": {},
   "outputs": [
    {
     "data": {
      "text/plain": [
       "array([[<matplotlib.axes._subplots.AxesSubplot object at 0x000001EC84DA0850>,\n",
       "        <matplotlib.axes._subplots.AxesSubplot object at 0x000001EC84DBACD0>,\n",
       "        <matplotlib.axes._subplots.AxesSubplot object at 0x000001EC84DD8CA0>,\n",
       "        <matplotlib.axes._subplots.AxesSubplot object at 0x000001EC85636B80>],\n",
       "       [<matplotlib.axes._subplots.AxesSubplot object at 0x000001EC85666A30>,\n",
       "        <matplotlib.axes._subplots.AxesSubplot object at 0x000001EC856958E0>,\n",
       "        <matplotlib.axes._subplots.AxesSubplot object at 0x000001EC856A1880>,\n",
       "        <matplotlib.axes._subplots.AxesSubplot object at 0x000001EC856D1D30>]],\n",
       "      dtype=object)"
      ]
     },
     "execution_count": 38,
     "metadata": {},
     "output_type": "execute_result"
    },
    {
     "data": {
      "image/png": "[encoded data removed]",
      "text/plain": [
       "<Figure size 1080x720 with 8 Axes>"
      ]
     },
     "metadata": {
      "needs_background": "light"
     },
     "output_type": "display_data"
    }
   ],
   "source": [
    "cc_scaledata.boxplot(by='GROUP', layout = (2,4),figsize=(15,10))"
   ]
  },
  {
   "cell_type": "raw",
   "metadata": {},
   "source": [
    "As mentioned before. its pretty clear how the clusters have been formed. the customers with highest number of cards and CC limit are the ones that mostly interact online have been placed in one group. More like the premium customers. after this it gets slightly strange. you will expect the 2nd tier of customers will have second highest rate of online interaction. however this is not true. the 2nd tier of customers prefer more physical visits. and the final tier of customers with the lowest limits and number of cards usually interact on the phone.\n",
    "\n",
    "I will say 3 clusters or groups of customers gives pretty accurate representation of the banks credit card customers. \n",
    "\n",
    "i am looking forward to see what Heirarchical clustering returns"
   ]
  },
  {
   "cell_type": "markdown",
   "metadata": {},
   "source": [
    "## Hierarchical Clustering"
   ]
  },
  {
   "cell_type": "markdown",
   "metadata": {},
   "source": [
    "Lets Try hierarchical clustering now and compare it to Kmeans"
   ]
  },
  {
   "cell_type": "code",
   "execution_count": 39,
   "metadata": {},
   "outputs": [],
   "source": [
    "#lets quickly cleanup our dataframe to avoid contamination\n",
    "cc_scaledata.drop('GROUP', axis = 1, inplace = True)"
   ]
  },
  {
   "cell_type": "code",
   "execution_count": 40,
   "metadata": {},
   "outputs": [
    {
     "data": {
      "text/html": [
       "<div>\n",
       "<style scoped>\n",
       "    .dataframe tbody tr th:only-of-type {\n",
       "        vertical-align: middle;\n",
       "    }\n",
       "\n",
       "    .dataframe tbody tr th {\n",
       "        vertical-align: top;\n",
       "    }\n",
       "\n",
       "    .dataframe thead th {\n",
       "        text-align: right;\n",
       "    }\n",
       "</style>\n",
       "<table border=\"1\" class=\"dataframe\">\n",
       "  <thead>\n",
       "    <tr style=\"text-align: right;\">\n",
       "      <th></th>\n",
       "      <th>Avg_Credit_Limit</th>\n",
       "      <th>Total_Credit_Cards</th>\n",
       "      <th>Total_visits_bank</th>\n",
       "      <th>Total_visits_online</th>\n",
       "      <th>Total_calls_made</th>\n",
       "    </tr>\n",
       "  </thead>\n",
       "  <tbody>\n",
       "    <tr>\n",
       "      <th>0</th>\n",
       "      <td>1.739436</td>\n",
       "      <td>-1.249084</td>\n",
       "      <td>-0.864813</td>\n",
       "      <td>-0.548851</td>\n",
       "      <td>-1.252966</td>\n",
       "    </tr>\n",
       "    <tr>\n",
       "      <th>1</th>\n",
       "      <td>0.410337</td>\n",
       "      <td>-0.788414</td>\n",
       "      <td>-1.480522</td>\n",
       "      <td>2.535493</td>\n",
       "      <td>1.900849</td>\n",
       "    </tr>\n",
       "    <tr>\n",
       "      <th>2</th>\n",
       "      <td>0.410337</td>\n",
       "      <td>1.054266</td>\n",
       "      <td>-0.864813</td>\n",
       "      <td>0.136559</td>\n",
       "      <td>0.148730</td>\n",
       "    </tr>\n",
       "    <tr>\n",
       "      <th>3</th>\n",
       "      <td>-0.121303</td>\n",
       "      <td>0.132926</td>\n",
       "      <td>-0.864813</td>\n",
       "      <td>-0.548851</td>\n",
       "      <td>0.148730</td>\n",
       "    </tr>\n",
       "    <tr>\n",
       "      <th>5</th>\n",
       "      <td>-0.387123</td>\n",
       "      <td>-0.788414</td>\n",
       "      <td>-1.480522</td>\n",
       "      <td>-0.548851</td>\n",
       "      <td>1.550425</td>\n",
       "    </tr>\n",
       "    <tr>\n",
       "      <th>...</th>\n",
       "      <td>...</td>\n",
       "      <td>...</td>\n",
       "      <td>...</td>\n",
       "      <td>...</td>\n",
       "      <td>...</td>\n",
       "    </tr>\n",
       "    <tr>\n",
       "      <th>655</th>\n",
       "      <td>1.712854</td>\n",
       "      <td>2.436277</td>\n",
       "      <td>-0.864813</td>\n",
       "      <td>2.535493</td>\n",
       "      <td>-1.252966</td>\n",
       "    </tr>\n",
       "    <tr>\n",
       "      <th>656</th>\n",
       "      <td>1.314124</td>\n",
       "      <td>2.436277</td>\n",
       "      <td>-0.864813</td>\n",
       "      <td>3.563608</td>\n",
       "      <td>-0.552118</td>\n",
       "    </tr>\n",
       "    <tr>\n",
       "      <th>657</th>\n",
       "      <td>2.935626</td>\n",
       "      <td>1.514937</td>\n",
       "      <td>-0.864813</td>\n",
       "      <td>2.192789</td>\n",
       "      <td>-0.902542</td>\n",
       "    </tr>\n",
       "    <tr>\n",
       "      <th>658</th>\n",
       "      <td>3.653340</td>\n",
       "      <td>2.436277</td>\n",
       "      <td>-0.864813</td>\n",
       "      <td>4.249018</td>\n",
       "      <td>-1.252966</td>\n",
       "    </tr>\n",
       "    <tr>\n",
       "      <th>659</th>\n",
       "      <td>3.520430</td>\n",
       "      <td>1.975607</td>\n",
       "      <td>-1.480522</td>\n",
       "      <td>3.220903</td>\n",
       "      <td>-0.552118</td>\n",
       "    </tr>\n",
       "  </tbody>\n",
       "</table>\n",
       "<p>655 rows × 5 columns</p>\n",
       "</div>"
      ],
      "text/plain": [
       "     Avg_Credit_Limit  Total_Credit_Cards  Total_visits_bank  \\\n",
       "0            1.739436           -1.249084          -0.864813   \n",
       "1            0.410337           -0.788414          -1.480522   \n",
       "2            0.410337            1.054266          -0.864813   \n",
       "3           -0.121303            0.132926          -0.864813   \n",
       "5           -0.387123           -0.788414          -1.480522   \n",
       "..                ...                 ...                ...   \n",
       "655          1.712854            2.436277          -0.864813   \n",
       "656          1.314124            2.436277          -0.864813   \n",
       "657          2.935626            1.514937          -0.864813   \n",
       "658          3.653340            2.436277          -0.864813   \n",
       "659          3.520430            1.975607          -1.480522   \n",
       "\n",
       "     Total_visits_online  Total_calls_made  \n",
       "0              -0.548851         -1.252966  \n",
       "1               2.535493          1.900849  \n",
       "2               0.136559          0.148730  \n",
       "3              -0.548851          0.148730  \n",
       "5              -0.548851          1.550425  \n",
       "..                   ...               ...  \n",
       "655             2.535493         -1.252966  \n",
       "656             3.563608         -0.552118  \n",
       "657             2.192789         -0.902542  \n",
       "658             4.249018         -1.252966  \n",
       "659             3.220903         -0.552118  \n",
       "\n",
       "[655 rows x 5 columns]"
      ]
     },
     "execution_count": 40,
     "metadata": {},
     "output_type": "execute_result"
    }
   ],
   "source": [
    "cc_scaledata"
   ]
  },
  {
   "cell_type": "markdown",
   "metadata": {},
   "source": [
    "First we will try to find what will be best linkage to use. we can use scipy functions in a loop to do this and compare the cophenetic scores"
   ]
  },
  {
   "cell_type": "code",
   "execution_count": 41,
   "metadata": {},
   "outputs": [
    {
     "name": "stdout",
     "output_type": "stream",
     "text": [
      "links: complete : 0.8667328091184989\n",
      "links: average : 0.8978313900952013\n",
      "links: ward : 0.7399284005362226\n",
      "links: single : 0.7394304750525083\n",
      "links: weighted : 0.8773838357840723\n",
      "links: centroid : 0.8948399875872217\n",
      "links: median : 0.8174435946675414\n"
     ]
    }
   ],
   "source": [
    "#Lets try to get the cophentic scores of all kinds of links and then we can pick the best one\n",
    "from scipy.cluster.hierarchy import cophenet, dendrogram, linkage\n",
    "from scipy.spatial.distance import pdist\n",
    "\n",
    "links = ['complete', 'average', 'ward', 'single', 'weighted', 'centroid', 'median']\n",
    "\n",
    "\n",
    "for link in links:\n",
    "    Z = linkage(cc_scaledata, method=link, metric='euclidean')\n",
    "    c, coph_dists = cophenet(Z , pdist(cc_scaledata))\n",
    "    print('links:',link,':', c)"
   ]
  },
  {
   "cell_type": "markdown",
   "metadata": {},
   "source": [
    "Now that we know we can use average method and eculidean metric we create the dendogram to find out the best number of clusters to use. we will do the dendogram for other linkages as well just to see how it looks"
   ]
  },
  {
   "cell_type": "code",
   "execution_count": 42,
   "metadata": {},
   "outputs": [
    {
     "data": {
      "text/plain": [
       "0.8667328091184989"
      ]
     },
     "execution_count": 42,
     "metadata": {},
     "output_type": "execute_result"
    }
   ],
   "source": [
    "#Lets try complete method\n",
    "\n",
    "Z = linkage(cc_scaledata, method='complete', metric='euclidean')\n",
    "c, coph_dists = cophenet(Z , pdist(cc_scaledata))\n",
    "c"
   ]
  },
  {
   "cell_type": "markdown",
   "metadata": {},
   "source": [
    "the cophenetic score seems good but lets see what other methods produce"
   ]
  },
  {
   "cell_type": "code",
   "execution_count": 43,
   "metadata": {},
   "outputs": [
    {
     "data": {
      "image/png": "[encoded data removed]",
      "text/plain": [
       "<Figure size 720x360 with 1 Axes>"
      ]
     },
     "metadata": {
      "needs_background": "light"
     },
     "output_type": "display_data"
    }
   ],
   "source": [
    "plt.figure(figsize=(10, 5))\n",
    "plt.title('Agglomerative Hierarchical Clustering Dendogram')\n",
    "plt.xlabel('sample index')\n",
    "plt.ylabel('Distance')\n",
    "dendrogram(Z )\n",
    "plt.tight_layout()"
   ]
  },
  {
   "cell_type": "code",
   "execution_count": 44,
   "metadata": {},
   "outputs": [
    {
     "data": {
      "image/png": "[encoded data removed]",
      "text/plain": [
       "<Figure size 720x360 with 1 Axes>"
      ]
     },
     "metadata": {
      "needs_background": "light"
     },
     "output_type": "display_data"
    }
   ],
   "source": [
    "plt.figure(figsize=(10, 5))\n",
    "plt.title('Agglomerative Hierarchical Clustering Dendogram')\n",
    "plt.xlabel('sample index')\n",
    "plt.ylabel('Distance')\n",
    "dendrogram(Z, truncate_mode='lastp',  p=10  )\n",
    "plt.tight_layout()"
   ]
  },
  {
   "cell_type": "code",
   "execution_count": 45,
   "metadata": {},
   "outputs": [
    {
     "data": {
      "text/plain": [
       "0.7399284005362226"
      ]
     },
     "execution_count": 45,
     "metadata": {},
     "output_type": "execute_result"
    }
   ],
   "source": [
    "#Lets try Ward method\n",
    "\n",
    "Z = linkage(cc_scaledata, method='ward', metric='euclidean')\n",
    "c, coph_dists = cophenet(Z , pdist(cc_scaledata))\n",
    "c"
   ]
  },
  {
   "cell_type": "code",
   "execution_count": 46,
   "metadata": {},
   "outputs": [
    {
     "data": {
      "image/png": "[encoded data removed]",
      "text/plain": [
       "<Figure size 720x360 with 1 Axes>"
      ]
     },
     "metadata": {
      "needs_background": "light"
     },
     "output_type": "display_data"
    }
   ],
   "source": [
    "plt.figure(figsize=(10, 5))\n",
    "plt.title('Agglomerative Hierarchical Clustering Dendogram')\n",
    "plt.xlabel('sample index')\n",
    "plt.ylabel('Distance')\n",
    "dendrogram(Z )\n",
    "plt.tight_layout()"
   ]
  },
  {
   "cell_type": "code",
   "execution_count": 47,
   "metadata": {},
   "outputs": [
    {
     "data": {
      "image/png": "[encoded data removed]",
      "text/plain": [
       "<Figure size 720x360 with 1 Axes>"
      ]
     },
     "metadata": {
      "needs_background": "light"
     },
     "output_type": "display_data"
    }
   ],
   "source": [
    "plt.figure(figsize=(10, 5))\n",
    "plt.title('Agglomerative Hierarchical Clustering Dendogram')\n",
    "plt.xlabel('sample index')\n",
    "plt.ylabel('Distance')\n",
    "dendrogram(Z, truncate_mode='lastp',  p=10  )\n",
    "plt.tight_layout()"
   ]
  },
  {
   "cell_type": "code",
   "execution_count": 48,
   "metadata": {},
   "outputs": [
    {
     "data": {
      "text/plain": [
       "0.7394304750525083"
      ]
     },
     "execution_count": 48,
     "metadata": {},
     "output_type": "execute_result"
    }
   ],
   "source": [
    "#Lets do single\n",
    "\n",
    "Z = linkage(cc_scaledata, method='single', metric='euclidean')\n",
    "c, coph_dists = cophenet(Z , pdist(cc_scaledata))\n",
    "c"
   ]
  },
  {
   "cell_type": "markdown",
   "metadata": {},
   "source": [
    "The cophenetic score of single method seems low compares to others so far"
   ]
  },
  {
   "cell_type": "code",
   "execution_count": 49,
   "metadata": {},
   "outputs": [
    {
     "data": {
      "image/png": "[encoded data removed]",
      "text/plain": [
       "<Figure size 720x360 with 1 Axes>"
      ]
     },
     "metadata": {
      "needs_background": "light"
     },
     "output_type": "display_data"
    }
   ],
   "source": [
    "plt.figure(figsize=(10, 5))\n",
    "plt.title('Agglomerative Hierarchical Clustering Dendogram')\n",
    "plt.xlabel('sample index')\n",
    "plt.ylabel('Distance')\n",
    "dendrogram(Z )\n",
    "plt.tight_layout()"
   ]
  },
  {
   "cell_type": "code",
   "execution_count": 50,
   "metadata": {},
   "outputs": [
    {
     "data": {
      "image/png": "[encoded data removed]",
      "text/plain": [
       "<Figure size 720x360 with 1 Axes>"
      ]
     },
     "metadata": {
      "needs_background": "light"
     },
     "output_type": "display_data"
    }
   ],
   "source": [
    "#lets do a truncated view\n",
    "plt.figure(figsize=(10, 5))\n",
    "plt.title('Agglomerative Hierarchical Clustering Dendogram')\n",
    "plt.xlabel('sample index')\n",
    "plt.ylabel('Distance')\n",
    "dendrogram(Z, truncate_mode='lastp',  p=10  )\n",
    "plt.tight_layout()"
   ]
  },
  {
   "cell_type": "code",
   "execution_count": 51,
   "metadata": {},
   "outputs": [
    {
     "data": {
      "text/plain": [
       "0.8978313900952013"
      ]
     },
     "execution_count": 51,
     "metadata": {},
     "output_type": "execute_result"
    }
   ],
   "source": [
    "#Finally lets do average which is probably the best one\n",
    "\n",
    "Z = linkage(cc_scaledata, method='average', metric='euclidean')\n",
    "c, coph_dists = cophenet(Z , pdist(cc_scaledata))\n",
    "c"
   ]
  },
  {
   "cell_type": "code",
   "execution_count": null,
   "metadata": {},
   "outputs": [],
   "source": [
    "plt.figure(figsize=(10, 5))\n",
    "plt.title('Agglomerative Hierarchical Clustering Dendogram')\n",
    "plt.xlabel('sample index')\n",
    "plt.ylabel('Distance')\n",
    "dendrogram(Z )\n",
    "plt.tight_layout()"
   ]
  },
  {
   "cell_type": "markdown",
   "metadata": {},
   "source": [
    "Lets do a truncated view of the dendogram"
   ]
  },
  {
   "cell_type": "code",
   "execution_count": null,
   "metadata": {},
   "outputs": [],
   "source": [
    "plt.figure(figsize=(10, 5))\n",
    "plt.title('Agglomerative Hierarchical Clustering Dendogram')\n",
    "plt.xlabel('sample index')\n",
    "plt.ylabel('Distance')\n",
    "dendrogram(Z, truncate_mode='lastp',  p=10  )\n",
    "plt.tight_layout()"
   ]
  },
  {
   "cell_type": "code",
   "execution_count": null,
   "metadata": {},
   "outputs": [],
   "source": [
    "#since average is the best method by the cophenetic score, we will go ahead and use this dendogram\n",
    "#Lets do the horizontal cut at 3.  we can also try to cut at 2 and \n",
    "#see what kind of scores we get\n",
    "max_d = 3"
   ]
  },
  {
   "cell_type": "code",
   "execution_count": null,
   "metadata": {},
   "outputs": [],
   "source": [
    "from scipy.cluster.hierarchy import fcluster\n",
    "clusters = fcluster(Z, max_d, criterion='distance')\n",
    "print(clusters.shape)\n",
    "clusters"
   ]
  },
  {
   "cell_type": "markdown",
   "metadata": {},
   "source": [
    "Seems like with cut at 3 we get 4 clusters. "
   ]
  },
  {
   "cell_type": "code",
   "execution_count": null,
   "metadata": {},
   "outputs": [],
   "source": [
    "#Lets calcualte the silhoette score for cut at 3 distance\n",
    "score = silhouette_score(cc_scaledata, clusters, metric=\"euclidean\")\n",
    "score"
   ]
  },
  {
   "cell_type": "code",
   "execution_count": null,
   "metadata": {},
   "outputs": [],
   "source": [
    "method.append('HC 4 clusters')\n",
    "sil_score.append(score)"
   ]
  },
  {
   "cell_type": "code",
   "execution_count": null,
   "metadata": {},
   "outputs": [],
   "source": [
    "cc_data['HC Group 4'] = clusters\n",
    "cc_data"
   ]
  },
  {
   "cell_type": "code",
   "execution_count": null,
   "metadata": {},
   "outputs": [],
   "source": [
    "cc_data.groupby('HC Group 4').count()"
   ]
  },
  {
   "cell_type": "code",
   "execution_count": null,
   "metadata": {},
   "outputs": [],
   "source": [
    "cc_data.groupby('HC Group 4').mean()"
   ]
  },
  {
   "cell_type": "markdown",
   "metadata": {},
   "source": [
    "Clearly 4 clusters is not the best approach. the 4th cluster only has 1 record and the silhuoette score is also pretty low. lets 2 and 3 clusters and see what we find. lets use sklearn to do this clustering"
   ]
  },
  {
   "cell_type": "code",
   "execution_count": null,
   "metadata": {},
   "outputs": [],
   "source": [
    "from sklearn.cluster import AgglomerativeClustering\n",
    "\n",
    "model=AgglomerativeClustering(n_clusters=3, affinity='euclidean',  linkage='average')\n",
    "model.fit(cc_scaledata)\n",
    "prediction3 = model.labels_"
   ]
  },
  {
   "cell_type": "code",
   "execution_count": null,
   "metadata": {},
   "outputs": [],
   "source": [
    "score = silhouette_score(cc_scaledata, prediction3)\n",
    "score"
   ]
  },
  {
   "cell_type": "code",
   "execution_count": null,
   "metadata": {},
   "outputs": [],
   "source": [
    "method.append('HC 3 clusters')\n",
    "sil_score.append(score)"
   ]
  },
  {
   "cell_type": "code",
   "execution_count": null,
   "metadata": {},
   "outputs": [],
   "source": [
    "cc_data['HC Group 3'] = model.labels_\n",
    "cc_data.head(10)"
   ]
  },
  {
   "cell_type": "code",
   "execution_count": null,
   "metadata": {},
   "outputs": [],
   "source": [
    "cc_data.groupby('HC Group 3').count()"
   ]
  },
  {
   "cell_type": "code",
   "execution_count": null,
   "metadata": {},
   "outputs": [],
   "source": [
    "cc_data.groupby('HC Group 3').mean()"
   ]
  },
  {
   "cell_type": "markdown",
   "metadata": {},
   "source": [
    "the clustering/grouping we are seeing here seems very similar to Kmeans and seem directly related to how the customer interacts with the bank."
   ]
  },
  {
   "cell_type": "code",
   "execution_count": null,
   "metadata": {},
   "outputs": [],
   "source": [
    "#Now lets try 2 clusters also as i am interested to see what we get\n",
    "model=AgglomerativeClustering(n_clusters=2, affinity='euclidean',  linkage='average')\n",
    "model.fit(cc_scaledata)\n",
    "prediction2 = model.labels_"
   ]
  },
  {
   "cell_type": "code",
   "execution_count": null,
   "metadata": {},
   "outputs": [],
   "source": [
    "score = silhouette_score(cc_scaledata, prediction2)\n",
    "score"
   ]
  },
  {
   "cell_type": "code",
   "execution_count": null,
   "metadata": {},
   "outputs": [],
   "source": [
    "method.append('HC 2 clusters')\n",
    "sil_score.append(score)"
   ]
  },
  {
   "cell_type": "markdown",
   "metadata": {},
   "source": [
    "Even though the sihuette score for 2 clusters seems to be better, lets see what kind of info it gives us"
   ]
  },
  {
   "cell_type": "code",
   "execution_count": null,
   "metadata": {},
   "outputs": [],
   "source": [
    "cc_data['HC Group 2'] = model.labels_\n",
    "#cc_scaledata['HC Group 2'] = model.labels_\n",
    "cc_data.head(10)"
   ]
  },
  {
   "cell_type": "code",
   "execution_count": null,
   "metadata": {},
   "outputs": [],
   "source": [
    "cc_data.groupby('HC Group 2').count()"
   ]
  },
  {
   "cell_type": "code",
   "execution_count": null,
   "metadata": {},
   "outputs": [],
   "source": [
    "cc_data.groupby('HC Group 2').mean()"
   ]
  },
  {
   "cell_type": "markdown",
   "metadata": {},
   "source": [
    "Even though the silhuette score was better for cluster 2, it is only giving us two groups of customers. To be honesty i think 3 clusters of customer is amuch better model for the bank. as with 2 clusters 90% of the customers are in 1 group and only handul in the other. this does not tell much to the bank. so we will move forward with the 3 clusters"
   ]
  },
  {
   "cell_type": "code",
   "execution_count": null,
   "metadata": {},
   "outputs": [],
   "source": [
    "cc_scaledata['HC Group 3'] = prediction3"
   ]
  },
  {
   "cell_type": "code",
   "execution_count": null,
   "metadata": {},
   "outputs": [],
   "source": [
    "#Now lets do some box plots\n",
    "cc_scaledata.boxplot(by='HC Group 3', layout = (2,4),figsize=(15,10))"
   ]
  },
  {
   "cell_type": "markdown",
   "metadata": {},
   "source": [
    "## Insights"
   ]
  },
  {
   "cell_type": "markdown",
   "metadata": {},
   "source": [
    "We get the exactly same results with the hierarchical clustering that we got with kmeans\n",
    "\n",
    "Group 0 --> semi premium customers who have mid level credit limit and number of credit cards. they mostly interact with bank by physical visits\n",
    "Group 1 --> most premium customers who have the highest credit limits and number of cards. they mostly interact with bank online\n",
    "Group 2 --> lowest tier of customers with the lowest credit limits and number of cards. they mostly interact with the bank via phone calls \n",
    "\n",
    "Comparing with Kmeans group \n",
    "\n",
    "- Kmeans(3) Group 0 is the same as HC Clustering Group 0 --> mid tier customers\n",
    "- Kmeans(3) Group 1 is the same as HC Clustering Group 2 --> premium customers\n",
    "- Kmeans(3) Group 2 is the same as HC Clustering Group 1 --> lower tier customers"
   ]
  },
  {
   "cell_type": "code",
   "execution_count": null,
   "metadata": {},
   "outputs": [],
   "source": [
    "# DataFrame to compare silhuoette results.\n",
    "\n",
    "results = pd.DataFrame()\n",
    "results['Method'] = method\n",
    "results['Silhuoette Score'] = sil_score\n",
    "results = results.set_index('Method')\n",
    "results"
   ]
  },
  {
   "cell_type": "code",
   "execution_count": null,
   "metadata": {},
   "outputs": [],
   "source": [
    "#Average Silhuette score for kmeans clustering\n",
    "kmeansavg = results.iloc[0:3,:].sum() / 3\n",
    "kmeansavg"
   ]
  },
  {
   "cell_type": "code",
   "execution_count": null,
   "metadata": {},
   "outputs": [],
   "source": [
    "#Average Silhuette score for Hierarchical Clustering\n",
    "HCavg = results.iloc[3:6,:].sum() / 3\n",
    "HCavg"
   ]
  },
  {
   "cell_type": "markdown",
   "metadata": {},
   "source": [
    "## Key Questions and insights"
   ]
  },
  {
   "cell_type": "markdown",
   "metadata": {},
   "source": [
    "Here are the questions asked in the problem statement\n",
    "\n",
    "How many different segments of customers are there?\n",
    "How are these segments different from each other?\n",
    "What are your recommendations to the bank on how to better market to and service these customers?\n",
    "\n",
    "There are three distinct group of customers and their differences:\n",
    "\n",
    "- Customers who prefer to vist the bank in-person --> mid tier customers with the mid level CC limit and number of cards\n",
    "- Customers who interact with the bank via phone  --> lower tier customers with lowest CC limit and number of cards\n",
    "- Customers who interact with the bank online --> premium customers with the highest CC limit and number of cards\n",
    "\n",
    "I think the best way to market and service these customers is to have tailored marketing and advertisement campaigns. sending emails or messages to customer who interact with the bank through in person visits will not be very successful. Whereas digital campaigns and upselling advertisements will be the most successful for the premium customers.\n",
    "\n",
    "As for the in-person visit customers, the bank should design good ads and upselling campaigns within the physical bank locations itself. finally the users that interact with the bank via phone should be slowly pushed to visit the bank physically or use the online interactive tools. this might be a good way to bump the low tier customers into some of the upper tiers. "
   ]
  }
 ],
 "metadata": {
  "kernelspec": {
   "display_name": "Python 3",
   "language": "python",
   "name": "python3"
  },
  "language_info": {
   "codemirror_mode": {
    "name": "ipython",
    "version": 3
   },
   "file_extension": ".py",
   "mimetype": "text/x-python",
   "name": "python",
   "nbconvert_exporter": "python",
   "pygments_lexer": "ipython3",
   "version": "3.8.3"
  }
 },
 "nbformat": 4,
 "nbformat_minor": 2
}
