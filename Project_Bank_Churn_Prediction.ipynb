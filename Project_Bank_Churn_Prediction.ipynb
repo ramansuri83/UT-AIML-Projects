{
  "nbformat": 4,
  "nbformat_minor": 0,
  "metadata": {
    "colab": {
      "name": "Project - Bank Churn Prediction.ipynb",
      "provenance": [],
      "collapsed_sections": [],
      "toc_visible": true,
      "authorship_tag": "ABX9TyNn5pIlaX+PWKYyRumSRVl/",
      "include_colab_link": true
    },
    "kernelspec": {
      "name": "python3",
      "display_name": "Python 3"
    }
  },
  "cells": [
    {
      "cell_type": "markdown",
      "metadata": {
        "id": "view-in-github",
        "colab_type": "text"
      },
      "source": [
        "<a href=\"https://colab.research.google.com/github/ramansuri83/UT-AIML-Projects/blob/main/Project_Bank_Churn_Prediction.ipynb\" target=\"_parent\"><img src=\"https://colab.research.google.com/assets/colab-badge.svg\" alt=\"Open In Colab\"/></a>"
      ]
    },
    {
      "cell_type": "markdown",
      "metadata": {
        "id": "Y6dNNTvE_uhi"
      },
      "source": [
        "# Bank Churn Prediction\r\n",
        "\r\n",
        "## Objective:\r\n",
        "Given a Bank customer, build a neural network-based classifier that can determine whether they will leave or not in the next 6 months.\r\n",
        "\r\n",
        "## Context: \r\n",
        "Businesses like banks that provide service have to worry about the problem of 'Churn' i.e. customers leaving and joining another service provider. It is important to understand which aspects of the service influence a customer's decision in this regard. Management can concentrate efforts on the improvement of service, keeping in mind these priorities.\r\n",
        "\r\n",
        "## Data Description: \r\n",
        "The case study is from an open-source dataset from Kaggle. The dataset contains 10,000 sample points with 14 distinct features such as CustomerId, CreditScore, Geography, Gender, Age, Tenure, Balance, etc.\r\n",
        "Link to the Kaggle project site:https://www.kaggle.com/barelydedicated/bank-customer-churn-modeling\r\n",
        "\r\n",
        "### Data Dictionary:\r\n",
        "**RowNumber**: Row number.\r\n",
        "\r\n",
        "**CustomerId**: Unique identification key for different customers.\r\n",
        "\r\n",
        "**Surname:** Surname of the customer\r\n",
        "\r\n",
        "**Credit Score:** Credit score is a measure of an individual's ability to pay back the borrowed amount. It is the numerical representation of their creditworthiness. A credit score is a 3-digit number that falls in the range of 300-900, 900 being the highest.\r\n",
        "\r\n",
        "**Geography**: The country to which the customer belongs.\r\n",
        "\r\n",
        "**Gender:** The gender of the customer.\r\n",
        "\r\n",
        "**Age:** Age of the customer.\r\n",
        "\r\n",
        "**Tenure:** The period of time a customer has been associated with the bank.\r\n",
        "\r\n",
        "**Balance:** The account balance (the amount of money deposited in the bank account) of the customer.\r\n",
        "\r\n",
        "**NumOfProducts:** How many accounts, bank account affiliated products the person has.\r\n",
        "\r\n",
        "**HasCrCard:** Does the customer have a credit card through the bank?\r\n",
        "\r\n",
        "**IsActiveMember:** Subjective, but for the concept\r\n",
        "\r\n",
        "**EstimatedSalary:** Estimated salary of the customer.\r\n",
        "\r\n",
        "**Exited:** Did they leave the bank after all?\r\n",
        "\r\n",
        "##Points Distribution:\r\n",
        "\r\n",
        "The points distribution for this case is as follows:\r\n",
        "\r\n",
        "1. Read the dataset\r\n",
        "2. Drop the columns which are unique for all users like IDs (5 points)\r\n",
        "3. Perform bivariate analysis and give your insights from the same (5 points) \r\n",
        "4. Distinguish the feature and target set and divide the data set into training and test sets (5 points)\r\n",
        "5. Normalize the train and test data (10points)\r\n",
        "6. Initialize & build the model. Identify the points of improvement and implement the same. (20)\r\n",
        "7. Predict the results using 0.5 as a threshold (10points)\r\n",
        "8. Print the Accuracy score and confusion matrix (5 points)\r\n"
      ]
    },
    {
      "cell_type": "markdown",
      "metadata": {
        "id": "fv0sTLqwscyH"
      },
      "source": [
        "# New Section"
      ]
    },
    {
      "cell_type": "code",
      "metadata": {
        "colab": {
          "base_uri": "https://localhost:8080/"
        },
        "id": "YwTX13jp_gyA",
        "outputId": "1b587dac-dfa9-4a62-fa22-b02605295c4d"
      },
      "source": [
        "from google.colab import drive\r\n",
        "drive.mount('/content/drive')"
      ],
      "execution_count": 79,
      "outputs": [
        {
          "output_type": "stream",
          "text": [
            "Drive already mounted at /content/drive; to attempt to forcibly remount, call drive.mount(\"/content/drive\", force_remount=True).\n"
          ],
          "name": "stdout"
        }
      ]
    },
    {
      "cell_type": "code",
      "metadata": {
        "id": "yCJCprc-vcad"
      },
      "source": [
        "import pandas as pd\r\n",
        "import numpy as np\r\n",
        "import tensorflow as tf\r\n",
        "from sklearn.model_selection import train_test_split\r\n",
        "from sklearn import preprocessing\r\n",
        "from tensorflow.keras.models import Sequential\r\n",
        "from tensorflow.keras.layers import Dense, Dropout, BatchNormalization\r\n",
        "from sklearn.metrics import accuracy_score, confusion_matrix, precision_score\r\n",
        "from sklearn.metrics import recall_score, f1_score, precision_recall_curve, auc\r\n",
        "import matplotlib\r\n",
        "from tensorflow.keras import optimizers\r\n",
        "from sklearn.preprocessing import LabelEncoder\r\n",
        "from sklearn.preprocessing import OneHotEncoder\r\n",
        "import matplotlib.pyplot as plt\r\n",
        "from sklearn.preprocessing import StandardScaler\r\n",
        "# To enable plotting graphs in Jupyter notebook\r\n",
        "%matplotlib inline\r\n",
        "#importing seaborn for statistical plots\r\n",
        "import seaborn as sns"
      ],
      "execution_count": 80,
      "outputs": []
    },
    {
      "cell_type": "code",
      "metadata": {
        "colab": {
          "base_uri": "https://localhost:8080/",
          "height": 415
        },
        "id": "bQ1PQN12HEFa",
        "outputId": "ef612ebf-0ece-4b1e-de0b-c12b47e90ab6"
      },
      "source": [
        "bank_data = pd.read_csv('/content/drive/My Drive/Colab Notebooks/bank.csv')\r\n",
        "bank_data"
      ],
      "execution_count": 81,
      "outputs": [
        {
          "output_type": "execute_result",
          "data": {
            "text/html": [
              "<div>\n",
              "<style scoped>\n",
              "    .dataframe tbody tr th:only-of-type {\n",
              "        vertical-align: middle;\n",
              "    }\n",
              "\n",
              "    .dataframe tbody tr th {\n",
              "        vertical-align: top;\n",
              "    }\n",
              "\n",
              "    .dataframe thead th {\n",
              "        text-align: right;\n",
              "    }\n",
              "</style>\n",
              "<table border=\"1\" class=\"dataframe\">\n",
              "  <thead>\n",
              "    <tr style=\"text-align: right;\">\n",
              "      <th></th>\n",
              "      <th>RowNumber</th>\n",
              "      <th>CustomerId</th>\n",
              "      <th>Surname</th>\n",
              "      <th>CreditScore</th>\n",
              "      <th>Geography</th>\n",
              "      <th>Gender</th>\n",
              "      <th>Age</th>\n",
              "      <th>Tenure</th>\n",
              "      <th>Balance</th>\n",
              "      <th>NumOfProducts</th>\n",
              "      <th>HasCrCard</th>\n",
              "      <th>IsActiveMember</th>\n",
              "      <th>EstimatedSalary</th>\n",
              "      <th>Exited</th>\n",
              "    </tr>\n",
              "  </thead>\n",
              "  <tbody>\n",
              "    <tr>\n",
              "      <th>0</th>\n",
              "      <td>1</td>\n",
              "      <td>15634602</td>\n",
              "      <td>Hargrave</td>\n",
              "      <td>619</td>\n",
              "      <td>France</td>\n",
              "      <td>Female</td>\n",
              "      <td>42</td>\n",
              "      <td>2</td>\n",
              "      <td>0.00</td>\n",
              "      <td>1</td>\n",
              "      <td>1</td>\n",
              "      <td>1</td>\n",
              "      <td>101348.88</td>\n",
              "      <td>1</td>\n",
              "    </tr>\n",
              "    <tr>\n",
              "      <th>1</th>\n",
              "      <td>2</td>\n",
              "      <td>15647311</td>\n",
              "      <td>Hill</td>\n",
              "      <td>608</td>\n",
              "      <td>Spain</td>\n",
              "      <td>Female</td>\n",
              "      <td>41</td>\n",
              "      <td>1</td>\n",
              "      <td>83807.86</td>\n",
              "      <td>1</td>\n",
              "      <td>0</td>\n",
              "      <td>1</td>\n",
              "      <td>112542.58</td>\n",
              "      <td>0</td>\n",
              "    </tr>\n",
              "    <tr>\n",
              "      <th>2</th>\n",
              "      <td>3</td>\n",
              "      <td>15619304</td>\n",
              "      <td>Onio</td>\n",
              "      <td>502</td>\n",
              "      <td>France</td>\n",
              "      <td>Female</td>\n",
              "      <td>42</td>\n",
              "      <td>8</td>\n",
              "      <td>159660.80</td>\n",
              "      <td>3</td>\n",
              "      <td>1</td>\n",
              "      <td>0</td>\n",
              "      <td>113931.57</td>\n",
              "      <td>1</td>\n",
              "    </tr>\n",
              "    <tr>\n",
              "      <th>3</th>\n",
              "      <td>4</td>\n",
              "      <td>15701354</td>\n",
              "      <td>Boni</td>\n",
              "      <td>699</td>\n",
              "      <td>France</td>\n",
              "      <td>Female</td>\n",
              "      <td>39</td>\n",
              "      <td>1</td>\n",
              "      <td>0.00</td>\n",
              "      <td>2</td>\n",
              "      <td>0</td>\n",
              "      <td>0</td>\n",
              "      <td>93826.63</td>\n",
              "      <td>0</td>\n",
              "    </tr>\n",
              "    <tr>\n",
              "      <th>4</th>\n",
              "      <td>5</td>\n",
              "      <td>15737888</td>\n",
              "      <td>Mitchell</td>\n",
              "      <td>850</td>\n",
              "      <td>Spain</td>\n",
              "      <td>Female</td>\n",
              "      <td>43</td>\n",
              "      <td>2</td>\n",
              "      <td>125510.82</td>\n",
              "      <td>1</td>\n",
              "      <td>1</td>\n",
              "      <td>1</td>\n",
              "      <td>79084.10</td>\n",
              "      <td>0</td>\n",
              "    </tr>\n",
              "    <tr>\n",
              "      <th>...</th>\n",
              "      <td>...</td>\n",
              "      <td>...</td>\n",
              "      <td>...</td>\n",
              "      <td>...</td>\n",
              "      <td>...</td>\n",
              "      <td>...</td>\n",
              "      <td>...</td>\n",
              "      <td>...</td>\n",
              "      <td>...</td>\n",
              "      <td>...</td>\n",
              "      <td>...</td>\n",
              "      <td>...</td>\n",
              "      <td>...</td>\n",
              "      <td>...</td>\n",
              "    </tr>\n",
              "    <tr>\n",
              "      <th>9995</th>\n",
              "      <td>9996</td>\n",
              "      <td>15606229</td>\n",
              "      <td>Obijiaku</td>\n",
              "      <td>771</td>\n",
              "      <td>France</td>\n",
              "      <td>Male</td>\n",
              "      <td>39</td>\n",
              "      <td>5</td>\n",
              "      <td>0.00</td>\n",
              "      <td>2</td>\n",
              "      <td>1</td>\n",
              "      <td>0</td>\n",
              "      <td>96270.64</td>\n",
              "      <td>0</td>\n",
              "    </tr>\n",
              "    <tr>\n",
              "      <th>9996</th>\n",
              "      <td>9997</td>\n",
              "      <td>15569892</td>\n",
              "      <td>Johnstone</td>\n",
              "      <td>516</td>\n",
              "      <td>France</td>\n",
              "      <td>Male</td>\n",
              "      <td>35</td>\n",
              "      <td>10</td>\n",
              "      <td>57369.61</td>\n",
              "      <td>1</td>\n",
              "      <td>1</td>\n",
              "      <td>1</td>\n",
              "      <td>101699.77</td>\n",
              "      <td>0</td>\n",
              "    </tr>\n",
              "    <tr>\n",
              "      <th>9997</th>\n",
              "      <td>9998</td>\n",
              "      <td>15584532</td>\n",
              "      <td>Liu</td>\n",
              "      <td>709</td>\n",
              "      <td>France</td>\n",
              "      <td>Female</td>\n",
              "      <td>36</td>\n",
              "      <td>7</td>\n",
              "      <td>0.00</td>\n",
              "      <td>1</td>\n",
              "      <td>0</td>\n",
              "      <td>1</td>\n",
              "      <td>42085.58</td>\n",
              "      <td>1</td>\n",
              "    </tr>\n",
              "    <tr>\n",
              "      <th>9998</th>\n",
              "      <td>9999</td>\n",
              "      <td>15682355</td>\n",
              "      <td>Sabbatini</td>\n",
              "      <td>772</td>\n",
              "      <td>Germany</td>\n",
              "      <td>Male</td>\n",
              "      <td>42</td>\n",
              "      <td>3</td>\n",
              "      <td>75075.31</td>\n",
              "      <td>2</td>\n",
              "      <td>1</td>\n",
              "      <td>0</td>\n",
              "      <td>92888.52</td>\n",
              "      <td>1</td>\n",
              "    </tr>\n",
              "    <tr>\n",
              "      <th>9999</th>\n",
              "      <td>10000</td>\n",
              "      <td>15628319</td>\n",
              "      <td>Walker</td>\n",
              "      <td>792</td>\n",
              "      <td>France</td>\n",
              "      <td>Female</td>\n",
              "      <td>28</td>\n",
              "      <td>4</td>\n",
              "      <td>130142.79</td>\n",
              "      <td>1</td>\n",
              "      <td>1</td>\n",
              "      <td>0</td>\n",
              "      <td>38190.78</td>\n",
              "      <td>0</td>\n",
              "    </tr>\n",
              "  </tbody>\n",
              "</table>\n",
              "<p>10000 rows × 14 columns</p>\n",
              "</div>"
            ],
            "text/plain": [
              "      RowNumber  CustomerId    Surname  ...  IsActiveMember EstimatedSalary Exited\n",
              "0             1    15634602   Hargrave  ...               1       101348.88      1\n",
              "1             2    15647311       Hill  ...               1       112542.58      0\n",
              "2             3    15619304       Onio  ...               0       113931.57      1\n",
              "3             4    15701354       Boni  ...               0        93826.63      0\n",
              "4             5    15737888   Mitchell  ...               1        79084.10      0\n",
              "...         ...         ...        ...  ...             ...             ...    ...\n",
              "9995       9996    15606229   Obijiaku  ...               0        96270.64      0\n",
              "9996       9997    15569892  Johnstone  ...               1       101699.77      0\n",
              "9997       9998    15584532        Liu  ...               1        42085.58      1\n",
              "9998       9999    15682355  Sabbatini  ...               0        92888.52      1\n",
              "9999      10000    15628319     Walker  ...               0        38190.78      0\n",
              "\n",
              "[10000 rows x 14 columns]"
            ]
          },
          "metadata": {
            "tags": []
          },
          "execution_count": 81
        }
      ]
    },
    {
      "cell_type": "markdown",
      "metadata": {
        "id": "G0TrSBAAwu0K"
      },
      "source": [
        "## Lets check the Dataset and look at its properties"
      ]
    },
    {
      "cell_type": "code",
      "metadata": {
        "colab": {
          "base_uri": "https://localhost:8080/"
        },
        "id": "k7TaN4w-wy8b",
        "outputId": "1484f53d-68ee-4c38-c4cc-6f17729a1a6c"
      },
      "source": [
        "bank_data.info()"
      ],
      "execution_count": 82,
      "outputs": [
        {
          "output_type": "stream",
          "text": [
            "<class 'pandas.core.frame.DataFrame'>\n",
            "RangeIndex: 10000 entries, 0 to 9999\n",
            "Data columns (total 14 columns):\n",
            " #   Column           Non-Null Count  Dtype  \n",
            "---  ------           --------------  -----  \n",
            " 0   RowNumber        10000 non-null  int64  \n",
            " 1   CustomerId       10000 non-null  int64  \n",
            " 2   Surname          10000 non-null  object \n",
            " 3   CreditScore      10000 non-null  int64  \n",
            " 4   Geography        10000 non-null  object \n",
            " 5   Gender           10000 non-null  object \n",
            " 6   Age              10000 non-null  int64  \n",
            " 7   Tenure           10000 non-null  int64  \n",
            " 8   Balance          10000 non-null  float64\n",
            " 9   NumOfProducts    10000 non-null  int64  \n",
            " 10  HasCrCard        10000 non-null  int64  \n",
            " 11  IsActiveMember   10000 non-null  int64  \n",
            " 12  EstimatedSalary  10000 non-null  float64\n",
            " 13  Exited           10000 non-null  int64  \n",
            "dtypes: float64(2), int64(9), object(3)\n",
            "memory usage: 1.1+ MB\n"
          ],
          "name": "stdout"
        }
      ]
    },
    {
      "cell_type": "markdown",
      "metadata": {
        "id": "p6uktLgGmQJt"
      },
      "source": [
        "- There are total of 14 columns and total of 10000 entries.\r\n",
        "- There seems to be a few categorical object columns and others a continuous variables\r\n",
        "- The dependent variable in this case is Exited which tells us whether the customer left the bank or not"
      ]
    },
    {
      "cell_type": "code",
      "metadata": {
        "colab": {
          "base_uri": "https://localhost:8080/"
        },
        "id": "0vjPbqY5w2ZZ",
        "outputId": "59676291-fb38-47c1-d6a6-0d7b1318bca1"
      },
      "source": [
        "bank_data.shape"
      ],
      "execution_count": 83,
      "outputs": [
        {
          "output_type": "execute_result",
          "data": {
            "text/plain": [
              "(10000, 14)"
            ]
          },
          "metadata": {
            "tags": []
          },
          "execution_count": 83
        }
      ]
    },
    {
      "cell_type": "code",
      "metadata": {
        "colab": {
          "base_uri": "https://localhost:8080/",
          "height": 294
        },
        "id": "tbESGqhdxBLN",
        "outputId": "1831424d-e9fc-4219-a271-49f0e657ba85"
      },
      "source": [
        "bank_data.describe()"
      ],
      "execution_count": 84,
      "outputs": [
        {
          "output_type": "execute_result",
          "data": {
            "text/html": [
              "<div>\n",
              "<style scoped>\n",
              "    .dataframe tbody tr th:only-of-type {\n",
              "        vertical-align: middle;\n",
              "    }\n",
              "\n",
              "    .dataframe tbody tr th {\n",
              "        vertical-align: top;\n",
              "    }\n",
              "\n",
              "    .dataframe thead th {\n",
              "        text-align: right;\n",
              "    }\n",
              "</style>\n",
              "<table border=\"1\" class=\"dataframe\">\n",
              "  <thead>\n",
              "    <tr style=\"text-align: right;\">\n",
              "      <th></th>\n",
              "      <th>RowNumber</th>\n",
              "      <th>CustomerId</th>\n",
              "      <th>CreditScore</th>\n",
              "      <th>Age</th>\n",
              "      <th>Tenure</th>\n",
              "      <th>Balance</th>\n",
              "      <th>NumOfProducts</th>\n",
              "      <th>HasCrCard</th>\n",
              "      <th>IsActiveMember</th>\n",
              "      <th>EstimatedSalary</th>\n",
              "      <th>Exited</th>\n",
              "    </tr>\n",
              "  </thead>\n",
              "  <tbody>\n",
              "    <tr>\n",
              "      <th>count</th>\n",
              "      <td>10000.00000</td>\n",
              "      <td>1.000000e+04</td>\n",
              "      <td>10000.000000</td>\n",
              "      <td>10000.000000</td>\n",
              "      <td>10000.000000</td>\n",
              "      <td>10000.000000</td>\n",
              "      <td>10000.000000</td>\n",
              "      <td>10000.00000</td>\n",
              "      <td>10000.000000</td>\n",
              "      <td>10000.000000</td>\n",
              "      <td>10000.000000</td>\n",
              "    </tr>\n",
              "    <tr>\n",
              "      <th>mean</th>\n",
              "      <td>5000.50000</td>\n",
              "      <td>1.569094e+07</td>\n",
              "      <td>650.528800</td>\n",
              "      <td>38.921800</td>\n",
              "      <td>5.012800</td>\n",
              "      <td>76485.889288</td>\n",
              "      <td>1.530200</td>\n",
              "      <td>0.70550</td>\n",
              "      <td>0.515100</td>\n",
              "      <td>100090.239881</td>\n",
              "      <td>0.203700</td>\n",
              "    </tr>\n",
              "    <tr>\n",
              "      <th>std</th>\n",
              "      <td>2886.89568</td>\n",
              "      <td>7.193619e+04</td>\n",
              "      <td>96.653299</td>\n",
              "      <td>10.487806</td>\n",
              "      <td>2.892174</td>\n",
              "      <td>62397.405202</td>\n",
              "      <td>0.581654</td>\n",
              "      <td>0.45584</td>\n",
              "      <td>0.499797</td>\n",
              "      <td>57510.492818</td>\n",
              "      <td>0.402769</td>\n",
              "    </tr>\n",
              "    <tr>\n",
              "      <th>min</th>\n",
              "      <td>1.00000</td>\n",
              "      <td>1.556570e+07</td>\n",
              "      <td>350.000000</td>\n",
              "      <td>18.000000</td>\n",
              "      <td>0.000000</td>\n",
              "      <td>0.000000</td>\n",
              "      <td>1.000000</td>\n",
              "      <td>0.00000</td>\n",
              "      <td>0.000000</td>\n",
              "      <td>11.580000</td>\n",
              "      <td>0.000000</td>\n",
              "    </tr>\n",
              "    <tr>\n",
              "      <th>25%</th>\n",
              "      <td>2500.75000</td>\n",
              "      <td>1.562853e+07</td>\n",
              "      <td>584.000000</td>\n",
              "      <td>32.000000</td>\n",
              "      <td>3.000000</td>\n",
              "      <td>0.000000</td>\n",
              "      <td>1.000000</td>\n",
              "      <td>0.00000</td>\n",
              "      <td>0.000000</td>\n",
              "      <td>51002.110000</td>\n",
              "      <td>0.000000</td>\n",
              "    </tr>\n",
              "    <tr>\n",
              "      <th>50%</th>\n",
              "      <td>5000.50000</td>\n",
              "      <td>1.569074e+07</td>\n",
              "      <td>652.000000</td>\n",
              "      <td>37.000000</td>\n",
              "      <td>5.000000</td>\n",
              "      <td>97198.540000</td>\n",
              "      <td>1.000000</td>\n",
              "      <td>1.00000</td>\n",
              "      <td>1.000000</td>\n",
              "      <td>100193.915000</td>\n",
              "      <td>0.000000</td>\n",
              "    </tr>\n",
              "    <tr>\n",
              "      <th>75%</th>\n",
              "      <td>7500.25000</td>\n",
              "      <td>1.575323e+07</td>\n",
              "      <td>718.000000</td>\n",
              "      <td>44.000000</td>\n",
              "      <td>7.000000</td>\n",
              "      <td>127644.240000</td>\n",
              "      <td>2.000000</td>\n",
              "      <td>1.00000</td>\n",
              "      <td>1.000000</td>\n",
              "      <td>149388.247500</td>\n",
              "      <td>0.000000</td>\n",
              "    </tr>\n",
              "    <tr>\n",
              "      <th>max</th>\n",
              "      <td>10000.00000</td>\n",
              "      <td>1.581569e+07</td>\n",
              "      <td>850.000000</td>\n",
              "      <td>92.000000</td>\n",
              "      <td>10.000000</td>\n",
              "      <td>250898.090000</td>\n",
              "      <td>4.000000</td>\n",
              "      <td>1.00000</td>\n",
              "      <td>1.000000</td>\n",
              "      <td>199992.480000</td>\n",
              "      <td>1.000000</td>\n",
              "    </tr>\n",
              "  </tbody>\n",
              "</table>\n",
              "</div>"
            ],
            "text/plain": [
              "         RowNumber    CustomerId  ...  EstimatedSalary        Exited\n",
              "count  10000.00000  1.000000e+04  ...     10000.000000  10000.000000\n",
              "mean    5000.50000  1.569094e+07  ...    100090.239881      0.203700\n",
              "std     2886.89568  7.193619e+04  ...     57510.492818      0.402769\n",
              "min        1.00000  1.556570e+07  ...        11.580000      0.000000\n",
              "25%     2500.75000  1.562853e+07  ...     51002.110000      0.000000\n",
              "50%     5000.50000  1.569074e+07  ...    100193.915000      0.000000\n",
              "75%     7500.25000  1.575323e+07  ...    149388.247500      0.000000\n",
              "max    10000.00000  1.581569e+07  ...    199992.480000      1.000000\n",
              "\n",
              "[8 rows x 11 columns]"
            ]
          },
          "metadata": {
            "tags": []
          },
          "execution_count": 84
        }
      ]
    },
    {
      "cell_type": "markdown",
      "metadata": {
        "id": "BKfI1O9AxF3_"
      },
      "source": [
        "Inference by looking at datasets:\r\n",
        "\r\n",
        "- Its clear that the row number, customer ID dont add much value here and will probably have to be removed\r\n",
        "- Most of the columns looks to be evenly distributed without much skewness. Only Balance seems to be skewed bit to the right.\r\n",
        "- it will be interesting to see the bivairate analysis to see how the Exited columns/values is affected by the other independent variables\r\n"
      ]
    },
    {
      "cell_type": "markdown",
      "metadata": {
        "id": "8Yfn67d7KJbK"
      },
      "source": [
        "##Lets only keep what we need in the columns\r\n",
        "\r\n",
        "- The first three columns serve no purpose here as they only identify the customer and add no info on the customer's behavior"
      ]
    },
    {
      "cell_type": "code",
      "metadata": {
        "id": "6SgmYO_oHszi"
      },
      "source": [
        "bd = bank_data.copy()"
      ],
      "execution_count": 85,
      "outputs": []
    },
    {
      "cell_type": "code",
      "metadata": {
        "id": "JfXsym7eKy4F"
      },
      "source": [
        "bd.drop(columns = ['RowNumber', 'CustomerId', 'Surname'], axis = 1, inplace = True)"
      ],
      "execution_count": 86,
      "outputs": []
    },
    {
      "cell_type": "code",
      "metadata": {
        "colab": {
          "base_uri": "https://localhost:8080/",
          "height": 415
        },
        "id": "wAUesEMQK2pK",
        "outputId": "808576a0-a249-44c4-f60d-67248814c016"
      },
      "source": [
        "#Lets check the dataframe\r\n",
        "bd"
      ],
      "execution_count": 87,
      "outputs": [
        {
          "output_type": "execute_result",
          "data": {
            "text/html": [
              "<div>\n",
              "<style scoped>\n",
              "    .dataframe tbody tr th:only-of-type {\n",
              "        vertical-align: middle;\n",
              "    }\n",
              "\n",
              "    .dataframe tbody tr th {\n",
              "        vertical-align: top;\n",
              "    }\n",
              "\n",
              "    .dataframe thead th {\n",
              "        text-align: right;\n",
              "    }\n",
              "</style>\n",
              "<table border=\"1\" class=\"dataframe\">\n",
              "  <thead>\n",
              "    <tr style=\"text-align: right;\">\n",
              "      <th></th>\n",
              "      <th>CreditScore</th>\n",
              "      <th>Geography</th>\n",
              "      <th>Gender</th>\n",
              "      <th>Age</th>\n",
              "      <th>Tenure</th>\n",
              "      <th>Balance</th>\n",
              "      <th>NumOfProducts</th>\n",
              "      <th>HasCrCard</th>\n",
              "      <th>IsActiveMember</th>\n",
              "      <th>EstimatedSalary</th>\n",
              "      <th>Exited</th>\n",
              "    </tr>\n",
              "  </thead>\n",
              "  <tbody>\n",
              "    <tr>\n",
              "      <th>0</th>\n",
              "      <td>619</td>\n",
              "      <td>France</td>\n",
              "      <td>Female</td>\n",
              "      <td>42</td>\n",
              "      <td>2</td>\n",
              "      <td>0.00</td>\n",
              "      <td>1</td>\n",
              "      <td>1</td>\n",
              "      <td>1</td>\n",
              "      <td>101348.88</td>\n",
              "      <td>1</td>\n",
              "    </tr>\n",
              "    <tr>\n",
              "      <th>1</th>\n",
              "      <td>608</td>\n",
              "      <td>Spain</td>\n",
              "      <td>Female</td>\n",
              "      <td>41</td>\n",
              "      <td>1</td>\n",
              "      <td>83807.86</td>\n",
              "      <td>1</td>\n",
              "      <td>0</td>\n",
              "      <td>1</td>\n",
              "      <td>112542.58</td>\n",
              "      <td>0</td>\n",
              "    </tr>\n",
              "    <tr>\n",
              "      <th>2</th>\n",
              "      <td>502</td>\n",
              "      <td>France</td>\n",
              "      <td>Female</td>\n",
              "      <td>42</td>\n",
              "      <td>8</td>\n",
              "      <td>159660.80</td>\n",
              "      <td>3</td>\n",
              "      <td>1</td>\n",
              "      <td>0</td>\n",
              "      <td>113931.57</td>\n",
              "      <td>1</td>\n",
              "    </tr>\n",
              "    <tr>\n",
              "      <th>3</th>\n",
              "      <td>699</td>\n",
              "      <td>France</td>\n",
              "      <td>Female</td>\n",
              "      <td>39</td>\n",
              "      <td>1</td>\n",
              "      <td>0.00</td>\n",
              "      <td>2</td>\n",
              "      <td>0</td>\n",
              "      <td>0</td>\n",
              "      <td>93826.63</td>\n",
              "      <td>0</td>\n",
              "    </tr>\n",
              "    <tr>\n",
              "      <th>4</th>\n",
              "      <td>850</td>\n",
              "      <td>Spain</td>\n",
              "      <td>Female</td>\n",
              "      <td>43</td>\n",
              "      <td>2</td>\n",
              "      <td>125510.82</td>\n",
              "      <td>1</td>\n",
              "      <td>1</td>\n",
              "      <td>1</td>\n",
              "      <td>79084.10</td>\n",
              "      <td>0</td>\n",
              "    </tr>\n",
              "    <tr>\n",
              "      <th>...</th>\n",
              "      <td>...</td>\n",
              "      <td>...</td>\n",
              "      <td>...</td>\n",
              "      <td>...</td>\n",
              "      <td>...</td>\n",
              "      <td>...</td>\n",
              "      <td>...</td>\n",
              "      <td>...</td>\n",
              "      <td>...</td>\n",
              "      <td>...</td>\n",
              "      <td>...</td>\n",
              "    </tr>\n",
              "    <tr>\n",
              "      <th>9995</th>\n",
              "      <td>771</td>\n",
              "      <td>France</td>\n",
              "      <td>Male</td>\n",
              "      <td>39</td>\n",
              "      <td>5</td>\n",
              "      <td>0.00</td>\n",
              "      <td>2</td>\n",
              "      <td>1</td>\n",
              "      <td>0</td>\n",
              "      <td>96270.64</td>\n",
              "      <td>0</td>\n",
              "    </tr>\n",
              "    <tr>\n",
              "      <th>9996</th>\n",
              "      <td>516</td>\n",
              "      <td>France</td>\n",
              "      <td>Male</td>\n",
              "      <td>35</td>\n",
              "      <td>10</td>\n",
              "      <td>57369.61</td>\n",
              "      <td>1</td>\n",
              "      <td>1</td>\n",
              "      <td>1</td>\n",
              "      <td>101699.77</td>\n",
              "      <td>0</td>\n",
              "    </tr>\n",
              "    <tr>\n",
              "      <th>9997</th>\n",
              "      <td>709</td>\n",
              "      <td>France</td>\n",
              "      <td>Female</td>\n",
              "      <td>36</td>\n",
              "      <td>7</td>\n",
              "      <td>0.00</td>\n",
              "      <td>1</td>\n",
              "      <td>0</td>\n",
              "      <td>1</td>\n",
              "      <td>42085.58</td>\n",
              "      <td>1</td>\n",
              "    </tr>\n",
              "    <tr>\n",
              "      <th>9998</th>\n",
              "      <td>772</td>\n",
              "      <td>Germany</td>\n",
              "      <td>Male</td>\n",
              "      <td>42</td>\n",
              "      <td>3</td>\n",
              "      <td>75075.31</td>\n",
              "      <td>2</td>\n",
              "      <td>1</td>\n",
              "      <td>0</td>\n",
              "      <td>92888.52</td>\n",
              "      <td>1</td>\n",
              "    </tr>\n",
              "    <tr>\n",
              "      <th>9999</th>\n",
              "      <td>792</td>\n",
              "      <td>France</td>\n",
              "      <td>Female</td>\n",
              "      <td>28</td>\n",
              "      <td>4</td>\n",
              "      <td>130142.79</td>\n",
              "      <td>1</td>\n",
              "      <td>1</td>\n",
              "      <td>0</td>\n",
              "      <td>38190.78</td>\n",
              "      <td>0</td>\n",
              "    </tr>\n",
              "  </tbody>\n",
              "</table>\n",
              "<p>10000 rows × 11 columns</p>\n",
              "</div>"
            ],
            "text/plain": [
              "      CreditScore Geography  Gender  ...  IsActiveMember  EstimatedSalary  Exited\n",
              "0             619    France  Female  ...               1        101348.88       1\n",
              "1             608     Spain  Female  ...               1        112542.58       0\n",
              "2             502    France  Female  ...               0        113931.57       1\n",
              "3             699    France  Female  ...               0         93826.63       0\n",
              "4             850     Spain  Female  ...               1         79084.10       0\n",
              "...           ...       ...     ...  ...             ...              ...     ...\n",
              "9995          771    France    Male  ...               0         96270.64       0\n",
              "9996          516    France    Male  ...               1        101699.77       0\n",
              "9997          709    France  Female  ...               1         42085.58       1\n",
              "9998          772   Germany    Male  ...               0         92888.52       1\n",
              "9999          792    France  Female  ...               0         38190.78       0\n",
              "\n",
              "[10000 rows x 11 columns]"
            ]
          },
          "metadata": {
            "tags": []
          },
          "execution_count": 87
        }
      ]
    },
    {
      "cell_type": "code",
      "metadata": {
        "colab": {
          "base_uri": "https://localhost:8080/"
        },
        "id": "cIOTwlI61bzr",
        "outputId": "d0ede3b7-1047-4e4e-9f39-a8be22182ff6"
      },
      "source": [
        "# Lets take a look at how many countries there are in geography column\r\n",
        "bd[\"Geography\"].unique()"
      ],
      "execution_count": 88,
      "outputs": [
        {
          "output_type": "execute_result",
          "data": {
            "text/plain": [
              "array(['France', 'Spain', 'Germany'], dtype=object)"
            ]
          },
          "metadata": {
            "tags": []
          },
          "execution_count": 88
        }
      ]
    },
    {
      "cell_type": "markdown",
      "metadata": {
        "id": "8CbzSI3VpTeA"
      },
      "source": [
        "- There are only 3 countries. we will do some one hot coding on this later"
      ]
    },
    {
      "cell_type": "code",
      "metadata": {
        "colab": {
          "base_uri": "https://localhost:8080/"
        },
        "id": "zlC7cNeE1oN5",
        "outputId": "99da7e45-92c4-42a3-e8e2-325919094ca5"
      },
      "source": [
        "# Now lets check the Gender\r\n",
        "bd[\"Gender\"].unique()"
      ],
      "execution_count": 89,
      "outputs": [
        {
          "output_type": "execute_result",
          "data": {
            "text/plain": [
              "array(['Female', 'Male'], dtype=object)"
            ]
          },
          "metadata": {
            "tags": []
          },
          "execution_count": 89
        }
      ]
    },
    {
      "cell_type": "markdown",
      "metadata": {
        "id": "lmTYzHXYpaol"
      },
      "source": [
        "- There are two genders in the data set. we should be able to do label encoding for this"
      ]
    },
    {
      "cell_type": "code",
      "metadata": {
        "colab": {
          "base_uri": "https://localhost:8080/"
        },
        "id": "psrWCMz94Zvy",
        "outputId": "280df140-1dc0-4c43-9b87-164e251c86b1"
      },
      "source": [
        "bd['Exited'].unique()"
      ],
      "execution_count": 90,
      "outputs": [
        {
          "output_type": "execute_result",
          "data": {
            "text/plain": [
              "array([1, 0])"
            ]
          },
          "metadata": {
            "tags": []
          },
          "execution_count": 90
        }
      ]
    },
    {
      "cell_type": "markdown",
      "metadata": {
        "id": "i5ItDcpuFWtF"
      },
      "source": [
        "## Univariate and Bivariate Analysis"
      ]
    },
    {
      "cell_type": "code",
      "metadata": {
        "colab": {
          "base_uri": "https://localhost:8080/",
          "height": 1000
        },
        "id": "1h98y4HMev0d",
        "outputId": "92d33dfd-4264-489c-afa8-76680c24d3c2"
      },
      "source": [
        "# although not sure if it helps, lets just check the distplot for continous columns\r\n",
        "for i in bd[['CreditScore', 'Age', 'Tenure', 'NumOfProducts', 'EstimatedSalary']]:\r\n",
        "    plt.figure(figsize=(20,4))\r\n",
        "    sns.distplot(bd[i], kde = True)\r\n",
        "    plt.show()"
      ],
      "execution_count": 91,
      "outputs": [
        {
          "output_type": "stream",
          "text": [
            "/usr/local/lib/python3.6/dist-packages/seaborn/distributions.py:2557: FutureWarning: `distplot` is a deprecated function and will be removed in a future version. Please adapt your code to use either `displot` (a figure-level function with similar flexibility) or `histplot` (an axes-level function for histograms).\n",
            "  warnings.warn(msg, FutureWarning)\n"
          ],
          "name": "stderr"
        },
        {
          "output_type": "display_data",
          "data": {
            "image/png": "[encoded data removed]",
            "text/plain": [
              "<Figure size 1440x288 with 1 Axes>"
            ]
          },
          "metadata": {
            "tags": [],
            "needs_background": "light"
          }
        },
        {
          "output_type": "stream",
          "text": [
            "/usr/local/lib/python3.6/dist-packages/seaborn/distributions.py:2557: FutureWarning: `distplot` is a deprecated function and will be removed in a future version. Please adapt your code to use either `displot` (a figure-level function with similar flexibility) or `histplot` (an axes-level function for histograms).\n",
            "  warnings.warn(msg, FutureWarning)\n"
          ],
          "name": "stderr"
        },
        {
          "output_type": "display_data",
          "data": {
            "image/png": "[encoded data removed]",
            "text/plain": [
              "<Figure size 1440x288 with 1 Axes>"
            ]
          },
          "metadata": {
            "tags": [],
            "needs_background": "light"
          }
        },
        {
          "output_type": "stream",
          "text": [
            "/usr/local/lib/python3.6/dist-packages/seaborn/distributions.py:2557: FutureWarning: `distplot` is a deprecated function and will be removed in a future version. Please adapt your code to use either `displot` (a figure-level function with similar flexibility) or `histplot` (an axes-level function for histograms).\n",
            "  warnings.warn(msg, FutureWarning)\n"
          ],
          "name": "stderr"
        },
        {
          "output_type": "display_data",
          "data": {
            "image/png": "[encoded data removed]",
            "text/plain": [
              "<Figure size 1440x288 with 1 Axes>"
            ]
          },
          "metadata": {
            "tags": [],
            "needs_background": "light"
          }
        },
        {
          "output_type": "stream",
          "text": [
            "/usr/local/lib/python3.6/dist-packages/seaborn/distributions.py:2557: FutureWarning: `distplot` is a deprecated function and will be removed in a future version. Please adapt your code to use either `displot` (a figure-level function with similar flexibility) or `histplot` (an axes-level function for histograms).\n",
            "  warnings.warn(msg, FutureWarning)\n"
          ],
          "name": "stderr"
        },
        {
          "output_type": "display_data",
          "data": {
            "image/png": "[encoded data removed]",
            "text/plain": [
              "<Figure size 1440x288 with 1 Axes>"
            ]
          },
          "metadata": {
            "tags": [],
            "needs_background": "light"
          }
        },
        {
          "output_type": "stream",
          "text": [
            "/usr/local/lib/python3.6/dist-packages/seaborn/distributions.py:2557: FutureWarning: `distplot` is a deprecated function and will be removed in a future version. Please adapt your code to use either `displot` (a figure-level function with similar flexibility) or `histplot` (an axes-level function for histograms).\n",
            "  warnings.warn(msg, FutureWarning)\n"
          ],
          "name": "stderr"
        },
        {
          "output_type": "display_data",
          "data": {
            "image/png": "[encoded data removed]",
            "text/plain": [
              "<Figure size 1440x288 with 1 Axes>"
            ]
          },
          "metadata": {
            "tags": [],
            "needs_background": "light"
          }
        }
      ]
    },
    {
      "cell_type": "markdown",
      "metadata": {
        "id": "D-rqAr0IqAjq"
      },
      "source": [
        "- the dist plots dont really tell us much. we will have to definitely need to normalize the data before using it in our Nueral network model"
      ]
    },
    {
      "cell_type": "code",
      "metadata": {
        "colab": {
          "base_uri": "https://localhost:8080/",
          "height": 655
        },
        "id": "vhb6EVoXjX_j",
        "outputId": "a00f378b-d8e9-4149-9a22-4aeeb163ddaa"
      },
      "source": [
        "# Lets do a pair plot\r\n",
        "plt.figure(figsize=(17,10))\r\n",
        "plt.title('Correlation of Cutomer Exiting Bank', y=1.05, size=15)\r\n",
        "sns.heatmap(bd.corr(), linecolor='white', annot=True)"
      ],
      "execution_count": 92,
      "outputs": [
        {
          "output_type": "execute_result",
          "data": {
            "text/plain": [
              "<matplotlib.axes._subplots.AxesSubplot at 0x7efc472e4908>"
            ]
          },
          "metadata": {
            "tags": []
          },
          "execution_count": 92
        },
        {
          "output_type": "display_data",
          "data": {
            "image/png": "[encoded data removed]",
            "text/plain": [
              "<Figure size 1224x720 with 2 Axes>"
            ]
          },
          "metadata": {
            "tags": [],
            "needs_background": "light"
          }
        }
      ]
    },
    {
      "cell_type": "markdown",
      "metadata": {
        "id": "aJCwPwlyp8EF"
      },
      "source": [
        "- I dont see much correlation between the columns/variables\r\n",
        "\r\n",
        "- lets see what we can find in the relation ship between the dependent variable and the continuous and categorical columns"
      ]
    },
    {
      "cell_type": "code",
      "metadata": {
        "colab": {
          "base_uri": "https://localhost:8080/",
          "height": 141
        },
        "id": "2jusAHEGkhxv",
        "outputId": "4cb23917-210c-427f-d5e7-5bdc060e4284"
      },
      "source": [
        "#Lets do a quick groupby to see the relationship between the dependent variable and the continuous columns\r\n",
        "bd.groupby([\"Exited\"]).mean()"
      ],
      "execution_count": 93,
      "outputs": [
        {
          "output_type": "execute_result",
          "data": {
            "text/html": [
              "<div>\n",
              "<style scoped>\n",
              "    .dataframe tbody tr th:only-of-type {\n",
              "        vertical-align: middle;\n",
              "    }\n",
              "\n",
              "    .dataframe tbody tr th {\n",
              "        vertical-align: top;\n",
              "    }\n",
              "\n",
              "    .dataframe thead th {\n",
              "        text-align: right;\n",
              "    }\n",
              "</style>\n",
              "<table border=\"1\" class=\"dataframe\">\n",
              "  <thead>\n",
              "    <tr style=\"text-align: right;\">\n",
              "      <th></th>\n",
              "      <th>CreditScore</th>\n",
              "      <th>Age</th>\n",
              "      <th>Tenure</th>\n",
              "      <th>Balance</th>\n",
              "      <th>NumOfProducts</th>\n",
              "      <th>HasCrCard</th>\n",
              "      <th>IsActiveMember</th>\n",
              "      <th>EstimatedSalary</th>\n",
              "    </tr>\n",
              "    <tr>\n",
              "      <th>Exited</th>\n",
              "      <th></th>\n",
              "      <th></th>\n",
              "      <th></th>\n",
              "      <th></th>\n",
              "      <th></th>\n",
              "      <th></th>\n",
              "      <th></th>\n",
              "      <th></th>\n",
              "    </tr>\n",
              "  </thead>\n",
              "  <tbody>\n",
              "    <tr>\n",
              "      <th>0</th>\n",
              "      <td>651.853196</td>\n",
              "      <td>37.408389</td>\n",
              "      <td>5.033279</td>\n",
              "      <td>72745.296779</td>\n",
              "      <td>1.544267</td>\n",
              "      <td>0.707146</td>\n",
              "      <td>0.554565</td>\n",
              "      <td>99738.391772</td>\n",
              "    </tr>\n",
              "    <tr>\n",
              "      <th>1</th>\n",
              "      <td>645.351497</td>\n",
              "      <td>44.837997</td>\n",
              "      <td>4.932744</td>\n",
              "      <td>91108.539337</td>\n",
              "      <td>1.475209</td>\n",
              "      <td>0.699067</td>\n",
              "      <td>0.360825</td>\n",
              "      <td>101465.677531</td>\n",
              "    </tr>\n",
              "  </tbody>\n",
              "</table>\n",
              "</div>"
            ],
            "text/plain": [
              "        CreditScore        Age  ...  IsActiveMember  EstimatedSalary\n",
              "Exited                          ...                                 \n",
              "0        651.853196  37.408389  ...        0.554565     99738.391772\n",
              "1        645.351497  44.837997  ...        0.360825    101465.677531\n",
              "\n",
              "[2 rows x 8 columns]"
            ]
          },
          "metadata": {
            "tags": []
          },
          "execution_count": 93
        }
      ]
    },
    {
      "cell_type": "markdown",
      "metadata": {
        "id": "O63yovO7rcQ-"
      },
      "source": [
        "- It seems there is a bit of trend where older the person and has a bigger salary and bank balance, the more prone he/she is to leaving the Bank. that is not a good sign as those are the more profitable customers. There is something this bank is not doing right to hold on to its more wealthy customers"
      ]
    },
    {
      "cell_type": "code",
      "metadata": {
        "colab": {
          "base_uri": "https://localhost:8080/"
        },
        "id": "vDsPf0t8j2Kt",
        "outputId": "515b6ac8-ba17-4f94-e762-344284bd78c4"
      },
      "source": [
        "#lets do some crosstab analysis to see how the dependent variable interacts with the independent variables\r\n",
        "for i in ['Gender', 'HasCrCard', 'IsActiveMember','Geography']:\r\n",
        "    print(pd.crosstab(bd[i],bd['Exited'],normalize='columns'))\r\n",
        "    print()"
      ],
      "execution_count": 94,
      "outputs": [
        {
          "output_type": "stream",
          "text": [
            "Exited         0         1\n",
            "Gender                    \n",
            "Female  0.427477  0.559156\n",
            "Male    0.572523  0.440844\n",
            "\n",
            "Exited            0         1\n",
            "HasCrCard                    \n",
            "0          0.292854  0.300933\n",
            "1          0.707146  0.699067\n",
            "\n",
            "Exited                 0         1\n",
            "IsActiveMember                    \n",
            "0               0.445435  0.639175\n",
            "1               0.554565  0.360825\n",
            "\n",
            "Exited            0         1\n",
            "Geography                    \n",
            "France     0.527942  0.397644\n",
            "Germany    0.212859  0.399607\n",
            "Spain      0.259199  0.202749\n",
            "\n"
          ],
          "name": "stdout"
        }
      ]
    },
    {
      "cell_type": "markdown",
      "metadata": {
        "id": "ziQfMKIStKIm"
      },
      "source": [
        "- it seems Females are more prone to exiting the bank\r\n",
        "- it doesnt seem like has credit cards has a much of an eimpact on the customer existing or not\r\n",
        "- It does seem Germany has more customer exiting than other countries\r\n",
        "\r\n"
      ]
    },
    {
      "cell_type": "markdown",
      "metadata": {
        "id": "3quy0R0D0O9I"
      },
      "source": [
        "## Normalization: Lets encode the categorical values"
      ]
    },
    {
      "cell_type": "code",
      "metadata": {
        "id": "pYBo7_BB3DQD"
      },
      "source": [
        "# for Gender since the categories are related, lets do label encoding\r\n",
        "le = preprocessing.LabelEncoder()\r\n",
        "bd['Gender'] = le.fit_transform(bd['Gender'])"
      ],
      "execution_count": 95,
      "outputs": []
    },
    {
      "cell_type": "code",
      "metadata": {
        "id": "EhCyjg-03pxu"
      },
      "source": [
        "# for countries since the categories are unrelated, lets do oen hot encodinf using get_dummies\r\n",
        "bd = pd.get_dummies(bd, prefix= 'Country')"
      ],
      "execution_count": 96,
      "outputs": []
    },
    {
      "cell_type": "code",
      "metadata": {
        "colab": {
          "base_uri": "https://localhost:8080/",
          "height": 415
        },
        "id": "pUWl7Abh3nB1",
        "outputId": "50782d54-3d8d-4b42-f70a-dacc0a487767"
      },
      "source": [
        "#Let us check what we have\r\n",
        "bd"
      ],
      "execution_count": 97,
      "outputs": [
        {
          "output_type": "execute_result",
          "data": {
            "text/html": [
              "<div>\n",
              "<style scoped>\n",
              "    .dataframe tbody tr th:only-of-type {\n",
              "        vertical-align: middle;\n",
              "    }\n",
              "\n",
              "    .dataframe tbody tr th {\n",
              "        vertical-align: top;\n",
              "    }\n",
              "\n",
              "    .dataframe thead th {\n",
              "        text-align: right;\n",
              "    }\n",
              "</style>\n",
              "<table border=\"1\" class=\"dataframe\">\n",
              "  <thead>\n",
              "    <tr style=\"text-align: right;\">\n",
              "      <th></th>\n",
              "      <th>CreditScore</th>\n",
              "      <th>Gender</th>\n",
              "      <th>Age</th>\n",
              "      <th>Tenure</th>\n",
              "      <th>Balance</th>\n",
              "      <th>NumOfProducts</th>\n",
              "      <th>HasCrCard</th>\n",
              "      <th>IsActiveMember</th>\n",
              "      <th>EstimatedSalary</th>\n",
              "      <th>Exited</th>\n",
              "      <th>Country_France</th>\n",
              "      <th>Country_Germany</th>\n",
              "      <th>Country_Spain</th>\n",
              "    </tr>\n",
              "  </thead>\n",
              "  <tbody>\n",
              "    <tr>\n",
              "      <th>0</th>\n",
              "      <td>619</td>\n",
              "      <td>0</td>\n",
              "      <td>42</td>\n",
              "      <td>2</td>\n",
              "      <td>0.00</td>\n",
              "      <td>1</td>\n",
              "      <td>1</td>\n",
              "      <td>1</td>\n",
              "      <td>101348.88</td>\n",
              "      <td>1</td>\n",
              "      <td>1</td>\n",
              "      <td>0</td>\n",
              "      <td>0</td>\n",
              "    </tr>\n",
              "    <tr>\n",
              "      <th>1</th>\n",
              "      <td>608</td>\n",
              "      <td>0</td>\n",
              "      <td>41</td>\n",
              "      <td>1</td>\n",
              "      <td>83807.86</td>\n",
              "      <td>1</td>\n",
              "      <td>0</td>\n",
              "      <td>1</td>\n",
              "      <td>112542.58</td>\n",
              "      <td>0</td>\n",
              "      <td>0</td>\n",
              "      <td>0</td>\n",
              "      <td>1</td>\n",
              "    </tr>\n",
              "    <tr>\n",
              "      <th>2</th>\n",
              "      <td>502</td>\n",
              "      <td>0</td>\n",
              "      <td>42</td>\n",
              "      <td>8</td>\n",
              "      <td>159660.80</td>\n",
              "      <td>3</td>\n",
              "      <td>1</td>\n",
              "      <td>0</td>\n",
              "      <td>113931.57</td>\n",
              "      <td>1</td>\n",
              "      <td>1</td>\n",
              "      <td>0</td>\n",
              "      <td>0</td>\n",
              "    </tr>\n",
              "    <tr>\n",
              "      <th>3</th>\n",
              "      <td>699</td>\n",
              "      <td>0</td>\n",
              "      <td>39</td>\n",
              "      <td>1</td>\n",
              "      <td>0.00</td>\n",
              "      <td>2</td>\n",
              "      <td>0</td>\n",
              "      <td>0</td>\n",
              "      <td>93826.63</td>\n",
              "      <td>0</td>\n",
              "      <td>1</td>\n",
              "      <td>0</td>\n",
              "      <td>0</td>\n",
              "    </tr>\n",
              "    <tr>\n",
              "      <th>4</th>\n",
              "      <td>850</td>\n",
              "      <td>0</td>\n",
              "      <td>43</td>\n",
              "      <td>2</td>\n",
              "      <td>125510.82</td>\n",
              "      <td>1</td>\n",
              "      <td>1</td>\n",
              "      <td>1</td>\n",
              "      <td>79084.10</td>\n",
              "      <td>0</td>\n",
              "      <td>0</td>\n",
              "      <td>0</td>\n",
              "      <td>1</td>\n",
              "    </tr>\n",
              "    <tr>\n",
              "      <th>...</th>\n",
              "      <td>...</td>\n",
              "      <td>...</td>\n",
              "      <td>...</td>\n",
              "      <td>...</td>\n",
              "      <td>...</td>\n",
              "      <td>...</td>\n",
              "      <td>...</td>\n",
              "      <td>...</td>\n",
              "      <td>...</td>\n",
              "      <td>...</td>\n",
              "      <td>...</td>\n",
              "      <td>...</td>\n",
              "      <td>...</td>\n",
              "    </tr>\n",
              "    <tr>\n",
              "      <th>9995</th>\n",
              "      <td>771</td>\n",
              "      <td>1</td>\n",
              "      <td>39</td>\n",
              "      <td>5</td>\n",
              "      <td>0.00</td>\n",
              "      <td>2</td>\n",
              "      <td>1</td>\n",
              "      <td>0</td>\n",
              "      <td>96270.64</td>\n",
              "      <td>0</td>\n",
              "      <td>1</td>\n",
              "      <td>0</td>\n",
              "      <td>0</td>\n",
              "    </tr>\n",
              "    <tr>\n",
              "      <th>9996</th>\n",
              "      <td>516</td>\n",
              "      <td>1</td>\n",
              "      <td>35</td>\n",
              "      <td>10</td>\n",
              "      <td>57369.61</td>\n",
              "      <td>1</td>\n",
              "      <td>1</td>\n",
              "      <td>1</td>\n",
              "      <td>101699.77</td>\n",
              "      <td>0</td>\n",
              "      <td>1</td>\n",
              "      <td>0</td>\n",
              "      <td>0</td>\n",
              "    </tr>\n",
              "    <tr>\n",
              "      <th>9997</th>\n",
              "      <td>709</td>\n",
              "      <td>0</td>\n",
              "      <td>36</td>\n",
              "      <td>7</td>\n",
              "      <td>0.00</td>\n",
              "      <td>1</td>\n",
              "      <td>0</td>\n",
              "      <td>1</td>\n",
              "      <td>42085.58</td>\n",
              "      <td>1</td>\n",
              "      <td>1</td>\n",
              "      <td>0</td>\n",
              "      <td>0</td>\n",
              "    </tr>\n",
              "    <tr>\n",
              "      <th>9998</th>\n",
              "      <td>772</td>\n",
              "      <td>1</td>\n",
              "      <td>42</td>\n",
              "      <td>3</td>\n",
              "      <td>75075.31</td>\n",
              "      <td>2</td>\n",
              "      <td>1</td>\n",
              "      <td>0</td>\n",
              "      <td>92888.52</td>\n",
              "      <td>1</td>\n",
              "      <td>0</td>\n",
              "      <td>1</td>\n",
              "      <td>0</td>\n",
              "    </tr>\n",
              "    <tr>\n",
              "      <th>9999</th>\n",
              "      <td>792</td>\n",
              "      <td>0</td>\n",
              "      <td>28</td>\n",
              "      <td>4</td>\n",
              "      <td>130142.79</td>\n",
              "      <td>1</td>\n",
              "      <td>1</td>\n",
              "      <td>0</td>\n",
              "      <td>38190.78</td>\n",
              "      <td>0</td>\n",
              "      <td>1</td>\n",
              "      <td>0</td>\n",
              "      <td>0</td>\n",
              "    </tr>\n",
              "  </tbody>\n",
              "</table>\n",
              "<p>10000 rows × 13 columns</p>\n",
              "</div>"
            ],
            "text/plain": [
              "      CreditScore  Gender  Age  ...  Country_France  Country_Germany  Country_Spain\n",
              "0             619       0   42  ...               1                0              0\n",
              "1             608       0   41  ...               0                0              1\n",
              "2             502       0   42  ...               1                0              0\n",
              "3             699       0   39  ...               1                0              0\n",
              "4             850       0   43  ...               0                0              1\n",
              "...           ...     ...  ...  ...             ...              ...            ...\n",
              "9995          771       1   39  ...               1                0              0\n",
              "9996          516       1   35  ...               1                0              0\n",
              "9997          709       0   36  ...               1                0              0\n",
              "9998          772       1   42  ...               0                1              0\n",
              "9999          792       0   28  ...               1                0              0\n",
              "\n",
              "[10000 rows x 13 columns]"
            ]
          },
          "metadata": {
            "tags": []
          },
          "execution_count": 97
        }
      ]
    },
    {
      "cell_type": "code",
      "metadata": {
        "id": "edubwVeKlju9"
      },
      "source": [
        "#Ltes prepare the dataframe so we can do the split between X and Yy for modeling\r\n",
        "bd1 = bd.drop('Exited', axis = 1)"
      ],
      "execution_count": 98,
      "outputs": []
    },
    {
      "cell_type": "markdown",
      "metadata": {
        "id": "MxQ782FfxxQG"
      },
      "source": [
        "## Lets prepare the X and y datasets"
      ]
    },
    {
      "cell_type": "code",
      "metadata": {
        "id": "WFwJ1nNVLum9"
      },
      "source": [
        "#lets prepare the data split\r\n",
        "X_data = bd1\r\n",
        "y_data = bd.iloc[:,-4]"
      ],
      "execution_count": 99,
      "outputs": []
    },
    {
      "cell_type": "code",
      "metadata": {
        "colab": {
          "base_uri": "https://localhost:8080/",
          "height": 415
        },
        "id": "DdPNE6lSyENL",
        "outputId": "659eff24-34cd-45c6-bb53-96c52e3bf6cf"
      },
      "source": [
        "# Lets quickly check the X and y data\r\n",
        "X_data"
      ],
      "execution_count": 100,
      "outputs": [
        {
          "output_type": "execute_result",
          "data": {
            "text/html": [
              "<div>\n",
              "<style scoped>\n",
              "    .dataframe tbody tr th:only-of-type {\n",
              "        vertical-align: middle;\n",
              "    }\n",
              "\n",
              "    .dataframe tbody tr th {\n",
              "        vertical-align: top;\n",
              "    }\n",
              "\n",
              "    .dataframe thead th {\n",
              "        text-align: right;\n",
              "    }\n",
              "</style>\n",
              "<table border=\"1\" class=\"dataframe\">\n",
              "  <thead>\n",
              "    <tr style=\"text-align: right;\">\n",
              "      <th></th>\n",
              "      <th>CreditScore</th>\n",
              "      <th>Gender</th>\n",
              "      <th>Age</th>\n",
              "      <th>Tenure</th>\n",
              "      <th>Balance</th>\n",
              "      <th>NumOfProducts</th>\n",
              "      <th>HasCrCard</th>\n",
              "      <th>IsActiveMember</th>\n",
              "      <th>EstimatedSalary</th>\n",
              "      <th>Country_France</th>\n",
              "      <th>Country_Germany</th>\n",
              "      <th>Country_Spain</th>\n",
              "    </tr>\n",
              "  </thead>\n",
              "  <tbody>\n",
              "    <tr>\n",
              "      <th>0</th>\n",
              "      <td>619</td>\n",
              "      <td>0</td>\n",
              "      <td>42</td>\n",
              "      <td>2</td>\n",
              "      <td>0.00</td>\n",
              "      <td>1</td>\n",
              "      <td>1</td>\n",
              "      <td>1</td>\n",
              "      <td>101348.88</td>\n",
              "      <td>1</td>\n",
              "      <td>0</td>\n",
              "      <td>0</td>\n",
              "    </tr>\n",
              "    <tr>\n",
              "      <th>1</th>\n",
              "      <td>608</td>\n",
              "      <td>0</td>\n",
              "      <td>41</td>\n",
              "      <td>1</td>\n",
              "      <td>83807.86</td>\n",
              "      <td>1</td>\n",
              "      <td>0</td>\n",
              "      <td>1</td>\n",
              "      <td>112542.58</td>\n",
              "      <td>0</td>\n",
              "      <td>0</td>\n",
              "      <td>1</td>\n",
              "    </tr>\n",
              "    <tr>\n",
              "      <th>2</th>\n",
              "      <td>502</td>\n",
              "      <td>0</td>\n",
              "      <td>42</td>\n",
              "      <td>8</td>\n",
              "      <td>159660.80</td>\n",
              "      <td>3</td>\n",
              "      <td>1</td>\n",
              "      <td>0</td>\n",
              "      <td>113931.57</td>\n",
              "      <td>1</td>\n",
              "      <td>0</td>\n",
              "      <td>0</td>\n",
              "    </tr>\n",
              "    <tr>\n",
              "      <th>3</th>\n",
              "      <td>699</td>\n",
              "      <td>0</td>\n",
              "      <td>39</td>\n",
              "      <td>1</td>\n",
              "      <td>0.00</td>\n",
              "      <td>2</td>\n",
              "      <td>0</td>\n",
              "      <td>0</td>\n",
              "      <td>93826.63</td>\n",
              "      <td>1</td>\n",
              "      <td>0</td>\n",
              "      <td>0</td>\n",
              "    </tr>\n",
              "    <tr>\n",
              "      <th>4</th>\n",
              "      <td>850</td>\n",
              "      <td>0</td>\n",
              "      <td>43</td>\n",
              "      <td>2</td>\n",
              "      <td>125510.82</td>\n",
              "      <td>1</td>\n",
              "      <td>1</td>\n",
              "      <td>1</td>\n",
              "      <td>79084.10</td>\n",
              "      <td>0</td>\n",
              "      <td>0</td>\n",
              "      <td>1</td>\n",
              "    </tr>\n",
              "    <tr>\n",
              "      <th>...</th>\n",
              "      <td>...</td>\n",
              "      <td>...</td>\n",
              "      <td>...</td>\n",
              "      <td>...</td>\n",
              "      <td>...</td>\n",
              "      <td>...</td>\n",
              "      <td>...</td>\n",
              "      <td>...</td>\n",
              "      <td>...</td>\n",
              "      <td>...</td>\n",
              "      <td>...</td>\n",
              "      <td>...</td>\n",
              "    </tr>\n",
              "    <tr>\n",
              "      <th>9995</th>\n",
              "      <td>771</td>\n",
              "      <td>1</td>\n",
              "      <td>39</td>\n",
              "      <td>5</td>\n",
              "      <td>0.00</td>\n",
              "      <td>2</td>\n",
              "      <td>1</td>\n",
              "      <td>0</td>\n",
              "      <td>96270.64</td>\n",
              "      <td>1</td>\n",
              "      <td>0</td>\n",
              "      <td>0</td>\n",
              "    </tr>\n",
              "    <tr>\n",
              "      <th>9996</th>\n",
              "      <td>516</td>\n",
              "      <td>1</td>\n",
              "      <td>35</td>\n",
              "      <td>10</td>\n",
              "      <td>57369.61</td>\n",
              "      <td>1</td>\n",
              "      <td>1</td>\n",
              "      <td>1</td>\n",
              "      <td>101699.77</td>\n",
              "      <td>1</td>\n",
              "      <td>0</td>\n",
              "      <td>0</td>\n",
              "    </tr>\n",
              "    <tr>\n",
              "      <th>9997</th>\n",
              "      <td>709</td>\n",
              "      <td>0</td>\n",
              "      <td>36</td>\n",
              "      <td>7</td>\n",
              "      <td>0.00</td>\n",
              "      <td>1</td>\n",
              "      <td>0</td>\n",
              "      <td>1</td>\n",
              "      <td>42085.58</td>\n",
              "      <td>1</td>\n",
              "      <td>0</td>\n",
              "      <td>0</td>\n",
              "    </tr>\n",
              "    <tr>\n",
              "      <th>9998</th>\n",
              "      <td>772</td>\n",
              "      <td>1</td>\n",
              "      <td>42</td>\n",
              "      <td>3</td>\n",
              "      <td>75075.31</td>\n",
              "      <td>2</td>\n",
              "      <td>1</td>\n",
              "      <td>0</td>\n",
              "      <td>92888.52</td>\n",
              "      <td>0</td>\n",
              "      <td>1</td>\n",
              "      <td>0</td>\n",
              "    </tr>\n",
              "    <tr>\n",
              "      <th>9999</th>\n",
              "      <td>792</td>\n",
              "      <td>0</td>\n",
              "      <td>28</td>\n",
              "      <td>4</td>\n",
              "      <td>130142.79</td>\n",
              "      <td>1</td>\n",
              "      <td>1</td>\n",
              "      <td>0</td>\n",
              "      <td>38190.78</td>\n",
              "      <td>1</td>\n",
              "      <td>0</td>\n",
              "      <td>0</td>\n",
              "    </tr>\n",
              "  </tbody>\n",
              "</table>\n",
              "<p>10000 rows × 12 columns</p>\n",
              "</div>"
            ],
            "text/plain": [
              "      CreditScore  Gender  Age  ...  Country_France  Country_Germany  Country_Spain\n",
              "0             619       0   42  ...               1                0              0\n",
              "1             608       0   41  ...               0                0              1\n",
              "2             502       0   42  ...               1                0              0\n",
              "3             699       0   39  ...               1                0              0\n",
              "4             850       0   43  ...               0                0              1\n",
              "...           ...     ...  ...  ...             ...              ...            ...\n",
              "9995          771       1   39  ...               1                0              0\n",
              "9996          516       1   35  ...               1                0              0\n",
              "9997          709       0   36  ...               1                0              0\n",
              "9998          772       1   42  ...               0                1              0\n",
              "9999          792       0   28  ...               1                0              0\n",
              "\n",
              "[10000 rows x 12 columns]"
            ]
          },
          "metadata": {
            "tags": []
          },
          "execution_count": 100
        }
      ]
    },
    {
      "cell_type": "code",
      "metadata": {
        "colab": {
          "base_uri": "https://localhost:8080/"
        },
        "id": "IeUDOWc7yJPO",
        "outputId": "766e0c16-95e5-4836-9c7f-05f62c3aabce"
      },
      "source": [
        "y_data"
      ],
      "execution_count": 101,
      "outputs": [
        {
          "output_type": "execute_result",
          "data": {
            "text/plain": [
              "0       1\n",
              "1       0\n",
              "2       1\n",
              "3       0\n",
              "4       0\n",
              "       ..\n",
              "9995    0\n",
              "9996    0\n",
              "9997    1\n",
              "9998    1\n",
              "9999    0\n",
              "Name: Exited, Length: 10000, dtype: int64"
            ]
          },
          "metadata": {
            "tags": []
          },
          "execution_count": 101
        }
      ]
    },
    {
      "cell_type": "code",
      "metadata": {
        "id": "KiGPVnUeyMnf"
      },
      "source": [
        "#Lets do the training and testing split\r\n",
        "X_train, X_test, y_train, y_test = train_test_split(X_data, y_data, test_size = 0.2, random_state = 7)"
      ],
      "execution_count": 102,
      "outputs": []
    },
    {
      "cell_type": "code",
      "metadata": {
        "id": "Q-ovbLm1BBy8"
      },
      "source": [
        "# At this point we should normalization. I will like to use standard scaler as it fits well in this case.\r\n",
        "scale = StandardScaler()\r\n",
        "# Scaling fitted only to training set to avoid information leakage.\r\n",
        "X_train = scale.fit_transform(X_train)\r\n",
        "X_test = scale.transform(X_test)"
      ],
      "execution_count": 103,
      "outputs": []
    },
    {
      "cell_type": "code",
      "metadata": {
        "colab": {
          "base_uri": "https://localhost:8080/"
        },
        "id": "-5kn3uzl4VJt",
        "outputId": "7d76e90f-78a6-40fe-9293-1647951f380c"
      },
      "source": [
        "#lets just peek at the data\r\n",
        "X_train"
      ],
      "execution_count": 104,
      "outputs": [
        {
          "output_type": "execute_result",
          "data": {
            "text/plain": [
              "array([[-0.22482832,  0.91578261,  0.09984529, ...,  0.996257  ,\n",
              "        -0.57581067, -0.57600312],\n",
              "       [-0.8357854 ,  0.91578261, -0.84857831, ...,  0.996257  ,\n",
              "        -0.57581067, -0.57600312],\n",
              "       [-0.98075826,  0.91578261,  0.66889946, ..., -1.00375706,\n",
              "        -0.57581067,  1.73610172],\n",
              "       ...,\n",
              "       [ 0.34470794,  0.91578261, -0.37436651, ...,  0.996257  ,\n",
              "        -0.57581067, -0.57600312],\n",
              "       [ 0.36541835,  0.91578261, -0.46920887, ..., -1.00375706,\n",
              "        -0.57581067,  1.73610172],\n",
              "       [ 0.76927133,  0.91578261, -1.22794775, ...,  0.996257  ,\n",
              "        -0.57581067, -0.57600312]])"
            ]
          },
          "metadata": {
            "tags": []
          },
          "execution_count": 104
        }
      ]
    },
    {
      "cell_type": "code",
      "metadata": {
        "colab": {
          "base_uri": "https://localhost:8080/"
        },
        "id": "Xx3kvXZE0Hrq",
        "outputId": "d9cbd606-0ec8-473b-a2a2-0eb04a6924e9"
      },
      "source": [
        "#lets just confirm the shape of the split dataframes\r\n",
        "print(X_train.shape)\r\n",
        "print(X_test.shape)\r\n",
        "print(y_train.shape)\r\n",
        "print(y_test.shape)"
      ],
      "execution_count": 105,
      "outputs": [
        {
          "output_type": "stream",
          "text": [
            "(8000, 12)\n",
            "(2000, 12)\n",
            "(8000,)\n",
            "(2000,)\n"
          ],
          "name": "stdout"
        }
      ]
    },
    {
      "cell_type": "markdown",
      "metadata": {
        "id": "0yK2cJQVzOM8"
      },
      "source": [
        "## Let us create the Model"
      ]
    },
    {
      "cell_type": "code",
      "metadata": {
        "id": "pKBvT2sAzPjl"
      },
      "source": [
        "#We will use teh sequential for now as it is easier than functional\r\n",
        "model = Sequential()"
      ],
      "execution_count": 106,
      "outputs": []
    },
    {
      "cell_type": "markdown",
      "metadata": {
        "id": "fr2WDYuozV5t"
      },
      "source": [
        "## Lets add layers and activations\r\n",
        "\r\n",
        "It should be noted that as this is a classification problem, sigmoid layer should be added. if it was multi class we could have done softmax"
      ]
    },
    {
      "cell_type": "code",
      "metadata": {
        "id": "g5xom4EDpQkf"
      },
      "source": [
        "# I have decided to use activation as rely for the first dense layer and tanh for the second hidden layer.\r\n",
        "# as for how dense to make the layers, i picked random numbers as 16 and 8. we will try different numbers if we dont get good results\r\n",
        "model.add(Dense(16, input_shape = (12,), activation = 'relu'))\r\n",
        "model.add(Dense(8, activation = 'tanh'))\r\n",
        "model.add(Dense(1, activation = 'sigmoid'))"
      ],
      "execution_count": 107,
      "outputs": []
    },
    {
      "cell_type": "markdown",
      "metadata": {
        "id": "isNFEnl7zbDi"
      },
      "source": [
        "## Lets compile the Model with optimizers and loss functions\r\n"
      ]
    },
    {
      "cell_type": "code",
      "metadata": {
        "id": "5f4VpI-opQrT"
      },
      "source": [
        "#lets specify the optimizer and learning rate. i have gone with Adam and 0.001 learning rate. we will see how it performs\r\n",
        "sgd = optimizers.Adam(lr = 0.0001)"
      ],
      "execution_count": 108,
      "outputs": []
    },
    {
      "cell_type": "code",
      "metadata": {
        "id": "YGDObJ6apQuP"
      },
      "source": [
        "#i  ia m using binary cross entropy as the loss function\r\n",
        "model.compile(optimizer = 'sgd', loss = 'binary_crossentropy', metrics=['accuracy'])"
      ],
      "execution_count": 109,
      "outputs": []
    },
    {
      "cell_type": "markdown",
      "metadata": {
        "id": "zymhQfQqzoch"
      },
      "source": [
        "Summary of the model"
      ]
    },
    {
      "cell_type": "code",
      "metadata": {
        "colab": {
          "base_uri": "https://localhost:8080/"
        },
        "id": "HBhOJwGFpQyO",
        "outputId": "29964331-066f-47e3-b367-f9b462807213"
      },
      "source": [
        "model.summary()"
      ],
      "execution_count": 110,
      "outputs": [
        {
          "output_type": "stream",
          "text": [
            "Model: \"sequential_3\"\n",
            "_________________________________________________________________\n",
            "Layer (type)                 Output Shape              Param #   \n",
            "=================================================================\n",
            "dense_9 (Dense)              (None, 16)                208       \n",
            "_________________________________________________________________\n",
            "dense_10 (Dense)             (None, 8)                 136       \n",
            "_________________________________________________________________\n",
            "dense_11 (Dense)             (None, 1)                 9         \n",
            "=================================================================\n",
            "Total params: 353\n",
            "Trainable params: 353\n",
            "Non-trainable params: 0\n",
            "_________________________________________________________________\n"
          ],
          "name": "stdout"
        }
      ]
    },
    {
      "cell_type": "markdown",
      "metadata": {
        "id": "VvFZS57bz1kg"
      },
      "source": [
        "Training the model"
      ]
    },
    {
      "cell_type": "code",
      "metadata": {
        "colab": {
          "base_uri": "https://localhost:8080/"
        },
        "id": "_Rs8rJpDpQ1S",
        "outputId": "3afdb766-be88-4897-b538-bbc6c187a400"
      },
      "source": [
        "model.fit(X_train, y_train.values, batch_size = 100, epochs = 100)"
      ],
      "execution_count": 111,
      "outputs": [
        {
          "output_type": "stream",
          "text": [
            "Epoch 1/100\n",
            "80/80 [==============================] - 0s 1ms/step - loss: 0.6020 - accuracy: 0.6801\n",
            "Epoch 2/100\n",
            "80/80 [==============================] - 0s 1ms/step - loss: 0.5201 - accuracy: 0.7836\n",
            "Epoch 3/100\n",
            "80/80 [==============================] - 0s 972us/step - loss: 0.4864 - accuracy: 0.8034\n",
            "Epoch 4/100\n",
            "80/80 [==============================] - 0s 1ms/step - loss: 0.4859 - accuracy: 0.7942\n",
            "Epoch 5/100\n",
            "80/80 [==============================] - 0s 1ms/step - loss: 0.4829 - accuracy: 0.7938\n",
            "Epoch 6/100\n",
            "80/80 [==============================] - 0s 1ms/step - loss: 0.4690 - accuracy: 0.7970\n",
            "Epoch 7/100\n",
            "80/80 [==============================] - 0s 1ms/step - loss: 0.4715 - accuracy: 0.7987\n",
            "Epoch 8/100\n",
            "80/80 [==============================] - 0s 1ms/step - loss: 0.4570 - accuracy: 0.8035\n",
            "Epoch 9/100\n",
            "80/80 [==============================] - 0s 1ms/step - loss: 0.4527 - accuracy: 0.8060\n",
            "Epoch 10/100\n",
            "80/80 [==============================] - 0s 1ms/step - loss: 0.4545 - accuracy: 0.8054\n",
            "Epoch 11/100\n",
            "80/80 [==============================] - 0s 1ms/step - loss: 0.4468 - accuracy: 0.8089\n",
            "Epoch 12/100\n",
            "80/80 [==============================] - 0s 1ms/step - loss: 0.4386 - accuracy: 0.8135\n",
            "Epoch 13/100\n",
            "80/80 [==============================] - 0s 1ms/step - loss: 0.4425 - accuracy: 0.8126\n",
            "Epoch 14/100\n",
            "80/80 [==============================] - 0s 1ms/step - loss: 0.4363 - accuracy: 0.8109\n",
            "Epoch 15/100\n",
            "80/80 [==============================] - 0s 991us/step - loss: 0.4403 - accuracy: 0.8138\n",
            "Epoch 16/100\n",
            "80/80 [==============================] - 0s 1ms/step - loss: 0.4309 - accuracy: 0.8192\n",
            "Epoch 17/100\n",
            "80/80 [==============================] - 0s 1ms/step - loss: 0.4437 - accuracy: 0.8096\n",
            "Epoch 18/100\n",
            "80/80 [==============================] - 0s 1ms/step - loss: 0.4316 - accuracy: 0.8111\n",
            "Epoch 19/100\n",
            "80/80 [==============================] - 0s 1ms/step - loss: 0.4285 - accuracy: 0.8191\n",
            "Epoch 20/100\n",
            "80/80 [==============================] - 0s 1ms/step - loss: 0.4294 - accuracy: 0.8165\n",
            "Epoch 21/100\n",
            "80/80 [==============================] - 0s 1ms/step - loss: 0.4214 - accuracy: 0.8239\n",
            "Epoch 22/100\n",
            "80/80 [==============================] - 0s 1ms/step - loss: 0.4234 - accuracy: 0.8186\n",
            "Epoch 23/100\n",
            "80/80 [==============================] - 0s 1ms/step - loss: 0.4265 - accuracy: 0.8146\n",
            "Epoch 24/100\n",
            "80/80 [==============================] - 0s 1ms/step - loss: 0.4265 - accuracy: 0.8113\n",
            "Epoch 25/100\n",
            "80/80 [==============================] - 0s 989us/step - loss: 0.4195 - accuracy: 0.8235\n",
            "Epoch 26/100\n",
            "80/80 [==============================] - 0s 1ms/step - loss: 0.4214 - accuracy: 0.8199\n",
            "Epoch 27/100\n",
            "80/80 [==============================] - 0s 1ms/step - loss: 0.4253 - accuracy: 0.8114\n",
            "Epoch 28/100\n",
            "80/80 [==============================] - 0s 1ms/step - loss: 0.4117 - accuracy: 0.8237\n",
            "Epoch 29/100\n",
            "80/80 [==============================] - 0s 1ms/step - loss: 0.4076 - accuracy: 0.8306\n",
            "Epoch 30/100\n",
            "80/80 [==============================] - 0s 1ms/step - loss: 0.4290 - accuracy: 0.8167\n",
            "Epoch 31/100\n",
            "80/80 [==============================] - 0s 1ms/step - loss: 0.4090 - accuracy: 0.8235\n",
            "Epoch 32/100\n",
            "80/80 [==============================] - 0s 1ms/step - loss: 0.4181 - accuracy: 0.8214\n",
            "Epoch 33/100\n",
            "80/80 [==============================] - 0s 1ms/step - loss: 0.4029 - accuracy: 0.8287\n",
            "Epoch 34/100\n",
            "80/80 [==============================] - 0s 984us/step - loss: 0.4165 - accuracy: 0.8233\n",
            "Epoch 35/100\n",
            "80/80 [==============================] - 0s 1ms/step - loss: 0.4122 - accuracy: 0.8235\n",
            "Epoch 36/100\n",
            "80/80 [==============================] - 0s 1ms/step - loss: 0.4099 - accuracy: 0.8278\n",
            "Epoch 37/100\n",
            "80/80 [==============================] - 0s 989us/step - loss: 0.4084 - accuracy: 0.8243\n",
            "Epoch 38/100\n",
            "80/80 [==============================] - 0s 1ms/step - loss: 0.4098 - accuracy: 0.8244\n",
            "Epoch 39/100\n",
            "80/80 [==============================] - 0s 1ms/step - loss: 0.4140 - accuracy: 0.8246\n",
            "Epoch 40/100\n",
            "80/80 [==============================] - 0s 988us/step - loss: 0.4046 - accuracy: 0.8273\n",
            "Epoch 41/100\n",
            "80/80 [==============================] - 0s 1ms/step - loss: 0.4014 - accuracy: 0.8328\n",
            "Epoch 42/100\n",
            "80/80 [==============================] - 0s 1ms/step - loss: 0.4064 - accuracy: 0.8284\n",
            "Epoch 43/100\n",
            "80/80 [==============================] - 0s 1ms/step - loss: 0.3957 - accuracy: 0.8327\n",
            "Epoch 44/100\n",
            "80/80 [==============================] - 0s 1ms/step - loss: 0.4037 - accuracy: 0.8314\n",
            "Epoch 45/100\n",
            "80/80 [==============================] - 0s 977us/step - loss: 0.3928 - accuracy: 0.8330\n",
            "Epoch 46/100\n",
            "80/80 [==============================] - 0s 990us/step - loss: 0.4039 - accuracy: 0.8293\n",
            "Epoch 47/100\n",
            "80/80 [==============================] - 0s 1ms/step - loss: 0.4062 - accuracy: 0.8259\n",
            "Epoch 48/100\n",
            "80/80 [==============================] - 0s 1ms/step - loss: 0.3885 - accuracy: 0.8375\n",
            "Epoch 49/100\n",
            "80/80 [==============================] - 0s 1ms/step - loss: 0.3878 - accuracy: 0.8389\n",
            "Epoch 50/100\n",
            "80/80 [==============================] - 0s 1ms/step - loss: 0.3972 - accuracy: 0.8346\n",
            "Epoch 51/100\n",
            "80/80 [==============================] - 0s 980us/step - loss: 0.3877 - accuracy: 0.8361\n",
            "Epoch 52/100\n",
            "80/80 [==============================] - 0s 1ms/step - loss: 0.3936 - accuracy: 0.8352\n",
            "Epoch 53/100\n",
            "80/80 [==============================] - 0s 1ms/step - loss: 0.3821 - accuracy: 0.8424\n",
            "Epoch 54/100\n",
            "80/80 [==============================] - 0s 959us/step - loss: 0.3919 - accuracy: 0.8365\n",
            "Epoch 55/100\n",
            "80/80 [==============================] - 0s 1ms/step - loss: 0.3872 - accuracy: 0.8400\n",
            "Epoch 56/100\n",
            "80/80 [==============================] - 0s 1ms/step - loss: 0.3915 - accuracy: 0.8360\n",
            "Epoch 57/100\n",
            "80/80 [==============================] - 0s 1ms/step - loss: 0.3912 - accuracy: 0.8426\n",
            "Epoch 58/100\n",
            "80/80 [==============================] - 0s 1ms/step - loss: 0.3849 - accuracy: 0.8397\n",
            "Epoch 59/100\n",
            "80/80 [==============================] - 0s 1ms/step - loss: 0.3868 - accuracy: 0.8390\n",
            "Epoch 60/100\n",
            "80/80 [==============================] - 0s 1ms/step - loss: 0.3765 - accuracy: 0.8470\n",
            "Epoch 61/100\n",
            "80/80 [==============================] - 0s 1ms/step - loss: 0.3925 - accuracy: 0.8363\n",
            "Epoch 62/100\n",
            "80/80 [==============================] - 0s 1ms/step - loss: 0.3778 - accuracy: 0.8468\n",
            "Epoch 63/100\n",
            "80/80 [==============================] - 0s 1ms/step - loss: 0.3787 - accuracy: 0.8437\n",
            "Epoch 64/100\n",
            "80/80 [==============================] - 0s 1ms/step - loss: 0.3777 - accuracy: 0.8459\n",
            "Epoch 65/100\n",
            "80/80 [==============================] - 0s 1ms/step - loss: 0.3873 - accuracy: 0.8392\n",
            "Epoch 66/100\n",
            "80/80 [==============================] - 0s 976us/step - loss: 0.3711 - accuracy: 0.8451\n",
            "Epoch 67/100\n",
            "80/80 [==============================] - 0s 1ms/step - loss: 0.3684 - accuracy: 0.8517\n",
            "Epoch 68/100\n",
            "80/80 [==============================] - 0s 1ms/step - loss: 0.3703 - accuracy: 0.8537\n",
            "Epoch 69/100\n",
            "80/80 [==============================] - 0s 1ms/step - loss: 0.3705 - accuracy: 0.8516\n",
            "Epoch 70/100\n",
            "80/80 [==============================] - 0s 1ms/step - loss: 0.3749 - accuracy: 0.8464\n",
            "Epoch 71/100\n",
            "80/80 [==============================] - 0s 1ms/step - loss: 0.3688 - accuracy: 0.8533\n",
            "Epoch 72/100\n",
            "80/80 [==============================] - 0s 1ms/step - loss: 0.3742 - accuracy: 0.8489\n",
            "Epoch 73/100\n",
            "80/80 [==============================] - 0s 1ms/step - loss: 0.3729 - accuracy: 0.8483\n",
            "Epoch 74/100\n",
            "80/80 [==============================] - 0s 1ms/step - loss: 0.3652 - accuracy: 0.8532\n",
            "Epoch 75/100\n",
            "80/80 [==============================] - 0s 1ms/step - loss: 0.3748 - accuracy: 0.8481\n",
            "Epoch 76/100\n",
            "80/80 [==============================] - 0s 1ms/step - loss: 0.3682 - accuracy: 0.8500\n",
            "Epoch 77/100\n",
            "80/80 [==============================] - 0s 1ms/step - loss: 0.3618 - accuracy: 0.8577\n",
            "Epoch 78/100\n",
            "80/80 [==============================] - 0s 1ms/step - loss: 0.3684 - accuracy: 0.8502\n",
            "Epoch 79/100\n",
            "80/80 [==============================] - 0s 1ms/step - loss: 0.3693 - accuracy: 0.8484\n",
            "Epoch 80/100\n",
            "80/80 [==============================] - 0s 1ms/step - loss: 0.3574 - accuracy: 0.8586\n",
            "Epoch 81/100\n",
            "80/80 [==============================] - 0s 1ms/step - loss: 0.3625 - accuracy: 0.8546\n",
            "Epoch 82/100\n",
            "80/80 [==============================] - 0s 1ms/step - loss: 0.3524 - accuracy: 0.8592\n",
            "Epoch 83/100\n",
            "80/80 [==============================] - 0s 1ms/step - loss: 0.3593 - accuracy: 0.8556\n",
            "Epoch 84/100\n",
            "80/80 [==============================] - 0s 985us/step - loss: 0.3569 - accuracy: 0.8544\n",
            "Epoch 85/100\n",
            "80/80 [==============================] - 0s 1ms/step - loss: 0.3572 - accuracy: 0.8553\n",
            "Epoch 86/100\n",
            "80/80 [==============================] - 0s 1ms/step - loss: 0.3596 - accuracy: 0.8546\n",
            "Epoch 87/100\n",
            "80/80 [==============================] - 0s 1ms/step - loss: 0.3656 - accuracy: 0.8525\n",
            "Epoch 88/100\n",
            "80/80 [==============================] - 0s 1ms/step - loss: 0.3576 - accuracy: 0.8588\n",
            "Epoch 89/100\n",
            "80/80 [==============================] - 0s 1ms/step - loss: 0.3563 - accuracy: 0.8535\n",
            "Epoch 90/100\n",
            "80/80 [==============================] - 0s 1ms/step - loss: 0.3623 - accuracy: 0.8508\n",
            "Epoch 91/100\n",
            "80/80 [==============================] - 0s 992us/step - loss: 0.3569 - accuracy: 0.8564\n",
            "Epoch 92/100\n",
            "80/80 [==============================] - 0s 1ms/step - loss: 0.3554 - accuracy: 0.8556\n",
            "Epoch 93/100\n",
            "80/80 [==============================] - 0s 1ms/step - loss: 0.3484 - accuracy: 0.8607\n",
            "Epoch 94/100\n",
            "80/80 [==============================] - 0s 1ms/step - loss: 0.3585 - accuracy: 0.8579\n",
            "Epoch 95/100\n",
            "80/80 [==============================] - 0s 1ms/step - loss: 0.3471 - accuracy: 0.8617\n",
            "Epoch 96/100\n",
            "80/80 [==============================] - 0s 1ms/step - loss: 0.3633 - accuracy: 0.8530\n",
            "Epoch 97/100\n",
            "80/80 [==============================] - 0s 1ms/step - loss: 0.3589 - accuracy: 0.8562\n",
            "Epoch 98/100\n",
            "80/80 [==============================] - 0s 973us/step - loss: 0.3643 - accuracy: 0.8528\n",
            "Epoch 99/100\n",
            "80/80 [==============================] - 0s 1ms/step - loss: 0.3547 - accuracy: 0.8539\n",
            "Epoch 100/100\n",
            "80/80 [==============================] - 0s 998us/step - loss: 0.3455 - accuracy: 0.8620\n"
          ],
          "name": "stdout"
        },
        {
          "output_type": "execute_result",
          "data": {
            "text/plain": [
              "<tensorflow.python.keras.callbacks.History at 0x7efc46e5d7b8>"
            ]
          },
          "metadata": {
            "tags": []
          },
          "execution_count": 111
        }
      ]
    },
    {
      "cell_type": "markdown",
      "metadata": {
        "id": "nvkL1AhoOc2n"
      },
      "source": [
        "- I probably did not need that many epochs becuase the loss and accuracy was pretty consistent after the first few epochs which means the minima was reached pretty early on. maybe i will try less epochs and a different learning rate"
      ]
    },
    {
      "cell_type": "code",
      "metadata": {
        "colab": {
          "base_uri": "https://localhost:8080/"
        },
        "id": "Hnt_JaNbpQ4n",
        "outputId": "6f9dedfb-d344-46cd-8019-d1690a6eab84"
      },
      "source": [
        "results = model.evaluate(X_test, y_test.values)"
      ],
      "execution_count": 112,
      "outputs": [
        {
          "output_type": "stream",
          "text": [
            "63/63 [==============================] - 0s 1ms/step - loss: 0.3575 - accuracy: 0.8570\n"
          ],
          "name": "stdout"
        }
      ]
    },
    {
      "cell_type": "code",
      "metadata": {
        "id": "Ru83C3vCpQ76",
        "colab": {
          "base_uri": "https://localhost:8080/"
        },
        "outputId": "908cd25f-596a-4626-80e6-00667d9dd010"
      },
      "source": [
        "print(model.metrics_names)\r\n",
        "print(results)    "
      ],
      "execution_count": 113,
      "outputs": [
        {
          "output_type": "stream",
          "text": [
            "['loss', 'accuracy']\n",
            "[0.3574844300746918, 0.8569999933242798]\n"
          ],
          "name": "stdout"
        }
      ]
    },
    {
      "cell_type": "markdown",
      "metadata": {
        "id": "4BMHe1yJpyzA"
      },
      "source": [
        "## Lets try this again with some different hyperparameter values to see if we can get better accuracy"
      ]
    },
    {
      "cell_type": "code",
      "metadata": {
        "id": "-zdNWr3lpRCt"
      },
      "source": [
        "model = Sequential()"
      ],
      "execution_count": 114,
      "outputs": []
    },
    {
      "cell_type": "code",
      "metadata": {
        "id": "45Y7pdqzzScA"
      },
      "source": [
        "#I am going to try different number of nodes for our Nueral network layers\r\n",
        "model.add(Dense(64, input_shape = (12,), activation = 'relu'))\r\n",
        "model.add(Dense(32, activation = 'tanh'))\r\n",
        "model.add(Dense(1, activation = 'sigmoid'))"
      ],
      "execution_count": 115,
      "outputs": []
    },
    {
      "cell_type": "code",
      "metadata": {
        "id": "afPiNxsXzdME"
      },
      "source": [
        "#Lets also try a faster learning rate\r\n",
        "sgd = optimizers.Adam(lr = 0.001)"
      ],
      "execution_count": 116,
      "outputs": []
    },
    {
      "cell_type": "code",
      "metadata": {
        "id": "RADLGhYkzmnu"
      },
      "source": [
        "#rest of the things i will keep the same\r\n",
        "model.compile(optimizer = 'sgd', loss = 'binary_crossentropy', metrics=['accuracy'])"
      ],
      "execution_count": 117,
      "outputs": []
    },
    {
      "cell_type": "code",
      "metadata": {
        "colab": {
          "base_uri": "https://localhost:8080/"
        },
        "id": "5n-QfR2zzxcE",
        "outputId": "8502f2fa-74db-448f-e9c2-dfc68edf5c77"
      },
      "source": [
        "model.summary()"
      ],
      "execution_count": 118,
      "outputs": [
        {
          "output_type": "stream",
          "text": [
            "Model: \"sequential_4\"\n",
            "_________________________________________________________________\n",
            "Layer (type)                 Output Shape              Param #   \n",
            "=================================================================\n",
            "dense_12 (Dense)             (None, 64)                832       \n",
            "_________________________________________________________________\n",
            "dense_13 (Dense)             (None, 32)                2080      \n",
            "_________________________________________________________________\n",
            "dense_14 (Dense)             (None, 1)                 33        \n",
            "=================================================================\n",
            "Total params: 2,945\n",
            "Trainable params: 2,945\n",
            "Non-trainable params: 0\n",
            "_________________________________________________________________\n"
          ],
          "name": "stdout"
        }
      ]
    },
    {
      "cell_type": "code",
      "metadata": {
        "colab": {
          "base_uri": "https://localhost:8080/"
        },
        "id": "xvgdMMYPzzT7",
        "outputId": "f8fa4839-6f80-4487-d9b7-9c3f25736f57"
      },
      "source": [
        "#I am trying with reduced number of epochs and a smaller batch size\r\n",
        "model.fit(X_train, y_train.values, batch_size = 30, epochs = 30)"
      ],
      "execution_count": 119,
      "outputs": [
        {
          "output_type": "stream",
          "text": [
            "Epoch 1/30\n",
            "267/267 [==============================] - 1s 1ms/step - loss: 0.5734 - accuracy: 0.7201\n",
            "Epoch 2/30\n",
            "267/267 [==============================] - 0s 1ms/step - loss: 0.4507 - accuracy: 0.8006\n",
            "Epoch 3/30\n",
            "267/267 [==============================] - 0s 1ms/step - loss: 0.4349 - accuracy: 0.8082\n",
            "Epoch 4/30\n",
            "267/267 [==============================] - 0s 1ms/step - loss: 0.4248 - accuracy: 0.8155\n",
            "Epoch 5/30\n",
            "267/267 [==============================] - 0s 1ms/step - loss: 0.4132 - accuracy: 0.8252\n",
            "Epoch 6/30\n",
            "267/267 [==============================] - 0s 1ms/step - loss: 0.4136 - accuracy: 0.8265\n",
            "Epoch 7/30\n",
            "267/267 [==============================] - 0s 1ms/step - loss: 0.4064 - accuracy: 0.8313\n",
            "Epoch 8/30\n",
            "267/267 [==============================] - 0s 1ms/step - loss: 0.4154 - accuracy: 0.8222\n",
            "Epoch 9/30\n",
            "267/267 [==============================] - 0s 1ms/step - loss: 0.3890 - accuracy: 0.8409\n",
            "Epoch 10/30\n",
            "267/267 [==============================] - 0s 1ms/step - loss: 0.3828 - accuracy: 0.8435\n",
            "Epoch 11/30\n",
            "267/267 [==============================] - 0s 1ms/step - loss: 0.3753 - accuracy: 0.8481\n",
            "Epoch 12/30\n",
            "267/267 [==============================] - 0s 1ms/step - loss: 0.3789 - accuracy: 0.8439\n",
            "Epoch 13/30\n",
            "267/267 [==============================] - 0s 1ms/step - loss: 0.3690 - accuracy: 0.8505\n",
            "Epoch 14/30\n",
            "267/267 [==============================] - 0s 1ms/step - loss: 0.3715 - accuracy: 0.8477\n",
            "Epoch 15/30\n",
            "267/267 [==============================] - 0s 1ms/step - loss: 0.3552 - accuracy: 0.8569\n",
            "Epoch 16/30\n",
            "267/267 [==============================] - 0s 1ms/step - loss: 0.3550 - accuracy: 0.8540\n",
            "Epoch 17/30\n",
            "267/267 [==============================] - 0s 1ms/step - loss: 0.3471 - accuracy: 0.8608\n",
            "Epoch 18/30\n",
            "267/267 [==============================] - 0s 1ms/step - loss: 0.3581 - accuracy: 0.8519\n",
            "Epoch 19/30\n",
            "267/267 [==============================] - 0s 1ms/step - loss: 0.3564 - accuracy: 0.8543\n",
            "Epoch 20/30\n",
            "267/267 [==============================] - 0s 1ms/step - loss: 0.3357 - accuracy: 0.8664\n",
            "Epoch 21/30\n",
            "267/267 [==============================] - 0s 1ms/step - loss: 0.3419 - accuracy: 0.8596\n",
            "Epoch 22/30\n",
            "267/267 [==============================] - 0s 1ms/step - loss: 0.3507 - accuracy: 0.8527\n",
            "Epoch 23/30\n",
            "267/267 [==============================] - 0s 1ms/step - loss: 0.3375 - accuracy: 0.8599\n",
            "Epoch 24/30\n",
            "267/267 [==============================] - 0s 1ms/step - loss: 0.3341 - accuracy: 0.8615\n",
            "Epoch 25/30\n",
            "267/267 [==============================] - 0s 1ms/step - loss: 0.3312 - accuracy: 0.8674\n",
            "Epoch 26/30\n",
            "267/267 [==============================] - 0s 1ms/step - loss: 0.3459 - accuracy: 0.8533\n",
            "Epoch 27/30\n",
            "267/267 [==============================] - 0s 1ms/step - loss: 0.3469 - accuracy: 0.8551\n",
            "Epoch 28/30\n",
            "267/267 [==============================] - 0s 1ms/step - loss: 0.3275 - accuracy: 0.8658\n",
            "Epoch 29/30\n",
            "267/267 [==============================] - 0s 1ms/step - loss: 0.3422 - accuracy: 0.8552\n",
            "Epoch 30/30\n",
            "267/267 [==============================] - 0s 1ms/step - loss: 0.3390 - accuracy: 0.8578\n"
          ],
          "name": "stdout"
        },
        {
          "output_type": "execute_result",
          "data": {
            "text/plain": [
              "<tensorflow.python.keras.callbacks.History at 0x7efc46fbef60>"
            ]
          },
          "metadata": {
            "tags": []
          },
          "execution_count": 119
        }
      ]
    },
    {
      "cell_type": "code",
      "metadata": {
        "colab": {
          "base_uri": "https://localhost:8080/"
        },
        "id": "YR8c3auk0AHl",
        "outputId": "b2350647-4edf-49d9-82be-3fd226324f53"
      },
      "source": [
        "results = model.evaluate(X_test, y_test.values)"
      ],
      "execution_count": 120,
      "outputs": [
        {
          "output_type": "stream",
          "text": [
            "63/63 [==============================] - 0s 927us/step - loss: 0.3526 - accuracy: 0.8595\n"
          ],
          "name": "stdout"
        }
      ]
    },
    {
      "cell_type": "markdown",
      "metadata": {
        "id": "qzLPzOnUPWwN"
      },
      "source": [
        "- It seems I get a little better acccuracy although it is not that much of a improvement. I actually tried a lot of different hyperparameters but could not find much improvement so i think we can stick with this model"
      ]
    },
    {
      "cell_type": "code",
      "metadata": {
        "colab": {
          "base_uri": "https://localhost:8080/"
        },
        "id": "nIj5Mh8Z0AKC",
        "outputId": "bba553f3-9876-43d9-a234-c68a3b157612"
      },
      "source": [
        "print(model.metrics_names)\r\n",
        "print(results)    "
      ],
      "execution_count": 121,
      "outputs": [
        {
          "output_type": "stream",
          "text": [
            "['loss', 'accuracy']\n",
            "[0.35264506936073303, 0.859499990940094]\n"
          ],
          "name": "stdout"
        }
      ]
    },
    {
      "cell_type": "markdown",
      "metadata": {
        "id": "JJWj4KFoztve"
      },
      "source": [
        "# Lets Evaluate the model and check confusion matrix"
      ]
    },
    {
      "cell_type": "code",
      "metadata": {
        "id": "wojSPCUfDHYK"
      },
      "source": [
        "# Lets first get the predicted values\r\n",
        "y_predicted = model.predict(X_test)"
      ],
      "execution_count": 122,
      "outputs": []
    },
    {
      "cell_type": "code",
      "metadata": {
        "colab": {
          "base_uri": "https://localhost:8080/"
        },
        "id": "J8VcLCGlDNKi",
        "outputId": "4130f94b-f793-45ef-ed22-410a665277de"
      },
      "source": [
        "#The sigmoid function returns the probabilities. lets check them\r\n",
        "y_predicted"
      ],
      "execution_count": 123,
      "outputs": [
        {
          "output_type": "execute_result",
          "data": {
            "text/plain": [
              "array([[0.37822688],\n",
              "       [0.06633386],\n",
              "       [0.02461717],\n",
              "       ...,\n",
              "       [0.18366846],\n",
              "       [0.31575152],\n",
              "       [0.08741817]], dtype=float32)"
            ]
          },
          "metadata": {
            "tags": []
          },
          "execution_count": 123
        }
      ]
    },
    {
      "cell_type": "code",
      "metadata": {
        "id": "qJQ1lLOCDPsc"
      },
      "source": [
        "# lets convert the y predicted to a binaty classifier implementing 0.5 probabilty as a threshold\r\n",
        "y_predicted [y_predicted < 0.5] = 0"
      ],
      "execution_count": 124,
      "outputs": []
    },
    {
      "cell_type": "code",
      "metadata": {
        "id": "z7k8UxNyEH_Y"
      },
      "source": [
        "y_predicted [y_predicted >= 0.5] = 1"
      ],
      "execution_count": 125,
      "outputs": []
    },
    {
      "cell_type": "code",
      "metadata": {
        "colab": {
          "base_uri": "https://localhost:8080/"
        },
        "id": "lc2rdMq8DWUh",
        "outputId": "171bbd66-e477-4f43-d42a-53984fc61506"
      },
      "source": [
        "#Lets take a quick look at y_predicted\r\n",
        "y_predicted"
      ],
      "execution_count": 126,
      "outputs": [
        {
          "output_type": "execute_result",
          "data": {
            "text/plain": [
              "array([[0.],\n",
              "       [0.],\n",
              "       [0.],\n",
              "       ...,\n",
              "       [0.],\n",
              "       [0.],\n",
              "       [0.]], dtype=float32)"
            ]
          },
          "metadata": {
            "tags": []
          },
          "execution_count": 126
        }
      ]
    },
    {
      "cell_type": "code",
      "metadata": {
        "colab": {
          "base_uri": "https://localhost:8080/"
        },
        "id": "v6-4Zdo_EcoE",
        "outputId": "07312e36-0c1f-45f3-de4f-2e3a5e7ac034"
      },
      "source": [
        "#Lets get all the mterics including confusion matrix\r\n",
        "cm = confusion_matrix(y_test, y_predicted)\r\n",
        "print(cm)\r\n",
        "accuracy_score(y_test, y_predicted)\r\n",
        "print('Accuracy: '+ str(accuracy_score(y_test, y_predicted)))\r\n",
        "print('Recall_score: ' + str(recall_score(y_test, y_predicted)))\r\n",
        "print('Precision_score: ' + str(precision_score(y_test, y_predicted)))\r\n",
        "print('F-score: ' + str(f1_score(y_test, y_predicted)))\r\n"
      ],
      "execution_count": 127,
      "outputs": [
        {
          "output_type": "stream",
          "text": [
            "[[1521   68]\n",
            " [ 213  198]]\n",
            "Accuracy: 0.8595\n",
            "Recall_score: 0.48175182481751827\n",
            "Precision_score: 0.7443609022556391\n",
            "F-score: 0.58493353028065\n"
          ],
          "name": "stdout"
        }
      ]
    },
    {
      "cell_type": "markdown",
      "metadata": {
        "id": "GNmR4x4audQJ"
      },
      "source": [
        "\r\n",
        " Accuracy = approx 86%\r\n",
        "\r\n",
        "Total correct predictions that customers stay in bank = 1521\r\n",
        "\r\n",
        "Total correct predictions that customers leave the bank = 198\r\n",
        "\r\n",
        "Total incorrect predictions that customers stay in the bank = 213\r\n",
        "\r\n",
        "Total incorrect predictions that customers leave in the bank = 68\r\n",
        "\r\n",
        "I believe we could made some improvements by playing with different loss and activation functions and other hyperparameters but since we have achieved around 86% accuracy we have met the goal of this model "
      ]
    },
    {
      "cell_type": "code",
      "metadata": {
        "id": "iyOkDDIIR2kA"
      },
      "source": [
        ""
      ],
      "execution_count": null,
      "outputs": []
    }
  ]
}